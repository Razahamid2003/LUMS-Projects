{
 "cells": [
  {
   "cell_type": "code",
   "execution_count": null,
   "metadata": {
    "deletable": false,
    "editable": false
   },
   "outputs": [],
   "source": [
    "# Initialize Otter\n",
    "import otter\n",
    "grader = otter.Notebook(\"2XXXXXXX_2.ipynb\")"
   ]
  },
  {
   "cell_type": "markdown",
   "metadata": {},
   "source": [
    "# **Assignment 1 (Part 2)**"
   ]
  },
  {
   "cell_type": "markdown",
   "metadata": {},
   "source": [
    "<h3>Assignment Instructions</h3>\n"
   ]
  },
  {
   "cell_type": "markdown",
   "metadata": {},
   "source": [
    "* **How to install 'otter'**: Run `pip install otter-grader` in your Anaconda Command Prompt\n",
    "* **Otter**: It is an autograder that we will be using for grading your notebooks.\n",
    "* **grader.check('qn')**: This command runs test cases for nth question `qn` provided to you and displays the result. But these are not the only test cases, these are provided just for your basic testing. There will be some *hidden test cases* on which your answers will be tested as well.\n",
    "* You are **not** allowed to edit any pre-defined variables and as per the instructions for every question you have to assign your answers to these variables.\n",
    "* Write your answers in place of `...`\n"
   ]
  },
  {
   "cell_type": "markdown",
   "metadata": {},
   "source": [
    "<h3>Submission Instructions</h3>\n"
   ]
  },
  {
   "cell_type": "markdown",
   "metadata": {},
   "source": [
    "* There are two parts of this assignment. You should name both notebooks as **YourRollNumber_PartNumber.ipynb**. (e.g. this part should be named as *`2XXXXXXX_2.ipynb`*)\n",
    "* You must submit a zip file containg just two notebooks and it must not has any folder or any other file. \n",
    "* The name of the zip file must be your `RollNumber_PA1`\n"
   ]
  },
  {
   "cell_type": "markdown",
   "metadata": {},
   "source": [
    "Please run the cell below to import all the necessary libraries that you would require for this part"
   ]
  },
  {
   "cell_type": "code",
   "execution_count": null,
   "metadata": {},
   "outputs": [],
   "source": [
    "import numpy as np\n",
    "import pandas as pd\n",
    "import matplotlib.pyplot as plt"
   ]
  },
  {
   "cell_type": "markdown",
   "metadata": {},
   "source": [
    "<h3>Context about the datasets</h3>"
   ]
  },
  {
   "cell_type": "markdown",
   "metadata": {},
   "source": [
    "Given the rise in obesity we are aware that there is a huge chance that a person may be affected by the heart disease. In this assignment we are going to explore a dataset which contains information about individuals heart rate and oxygen saturation. In this part we are going to analyze the data and generate sufficent results from it.\n",
    "\n",
    "Note: The output column is binary (0 or 1) and signifies whether the individual has had a heart attack (1 if they have had a heart attack)."
   ]
  },
  {
   "cell_type": "markdown",
   "metadata": {
    "deletable": false,
    "editable": false
   },
   "source": [
    "**Question 0:** Please load the two dataset files inside the variables `heartDf` and `o2SaturationDf` respectively"
   ]
  },
  {
   "cell_type": "code",
   "execution_count": null,
   "metadata": {
    "tags": []
   },
   "outputs": [],
   "source": [
    "heartDf = ...\n",
    "o2SaturationDf = ..."
   ]
  },
  {
   "cell_type": "code",
   "execution_count": null,
   "metadata": {
    "deletable": false,
    "editable": false
   },
   "outputs": [],
   "source": [
    "grader.check(\"Q0\")"
   ]
  },
  {
   "cell_type": "markdown",
   "metadata": {
    "deletable": false,
    "editable": false
   },
   "source": [
    "**Question 1:** Find the shapes of both datasets and assign them to `heartDfShape` and `o2DfShape` respectively"
   ]
  },
  {
   "cell_type": "code",
   "execution_count": null,
   "metadata": {
    "tags": []
   },
   "outputs": [],
   "source": [
    "heartDfShape = ...\n",
    "o2DfShape = ..."
   ]
  },
  {
   "cell_type": "code",
   "execution_count": null,
   "metadata": {
    "deletable": false,
    "editable": false
   },
   "outputs": [],
   "source": [
    "grader.check(\"Q1\")"
   ]
  },
  {
   "cell_type": "markdown",
   "metadata": {
    "deletable": false,
    "editable": false
   },
   "source": [
    "**Question 2A:** Use a pandas function to display all characteristics (including min, max, quartiles, count, mean) of all numerical attributes of both dataframes. Store these in the variables `heartdf_description` & `o2df_description` respectively. "
   ]
  },
  {
   "cell_type": "code",
   "execution_count": null,
   "metadata": {
    "tags": []
   },
   "outputs": [],
   "source": [
    "heartdf_description = ...\n",
    "o2df_description = ..."
   ]
  },
  {
   "cell_type": "code",
   "execution_count": null,
   "metadata": {
    "deletable": false,
    "editable": false
   },
   "outputs": [],
   "source": [
    "grader.check(\"Q2a\")"
   ]
  },
  {
   "cell_type": "markdown",
   "metadata": {
    "deletable": false,
    "editable": false
   },
   "source": [
    "**Question 2B:** Use a pandas function to display the number of occurances of all unique values of sex in the dataset. Store these in the variable `gender_distribution`. "
   ]
  },
  {
   "cell_type": "code",
   "execution_count": null,
   "metadata": {
    "tags": []
   },
   "outputs": [],
   "source": [
    "gender_distribution = heartDf['sex'].value_counts() "
   ]
  },
  {
   "cell_type": "code",
   "execution_count": null,
   "metadata": {
    "deletable": false,
    "editable": false
   },
   "outputs": [],
   "source": [
    "grader.check(\"Q2B\")"
   ]
  },
  {
   "cell_type": "markdown",
   "metadata": {
    "deletable": false,
    "editable": false
   },
   "source": [
    "**Question 3A:** Prepare the two dataframes for merging by making the following column changes to both the dataframes. \n",
    "<h5>For Heart Dataset</h5>\n",
    "<ul>\n",
    "<li>exng -> exercise induced angina</li>\n",
    "<li>caa -> number of major vessels</li>\n",
    "<li>cp -> chest pain type</li>\n",
    "<li>trtbps -> resting blood pressure</li>\n",
    "<li>chol -> cholestrol levels</li>\n",
    "<li>restecg -> resting electrocardiographic </li> \n",
    "<li>thalachh-> maximum heart rate</li>\n",
    "<li>fbs-> fasting blood sugar > 120mg/dl</li>\n",
    "<li>oldpeak -> old peak </li>\n",
    "</ul>\n",
    "<h5>For O2 Saturation Dataset </h5>\n",
    "<ul>\n",
    "<li>sat -> O2 saturation</li>\n",
    "</ul>\n"
   ]
  },
  {
   "cell_type": "code",
   "execution_count": null,
   "metadata": {
    "tags": []
   },
   "outputs": [],
   "source": [
    "heartDf.rename(columns={'exng':'exercise induced angina','caa':'number of major vessels','cp':'chest pain type','trtbps':'resting blood pressure','chol':'cholesterol levels','restecg':'resting electrocardiographic','thalachh':'maximum heart rate','fbs':'fasting blood sugar > 120mg/dl','oldpeak':'old peak'}, inplace=True) \n",
    "o2SaturationDf.rename(columns={'sat':'O2 saturation'}, inplace=True)"
   ]
  },
  {
   "cell_type": "code",
   "execution_count": null,
   "metadata": {
    "deletable": false,
    "editable": false
   },
   "outputs": [],
   "source": [
    "grader.check(\"Q3A\")"
   ]
  },
  {
   "cell_type": "markdown",
   "metadata": {
    "deletable": false,
    "editable": false
   },
   "source": [
    "**Question 3B:** Peform a merge operation so that we can better compare our results and reach an appropriate conclusion. "
   ]
  },
  {
   "cell_type": "code",
   "execution_count": null,
   "metadata": {
    "tags": []
   },
   "outputs": [],
   "source": [
    "mergedDf = ..."
   ]
  },
  {
   "cell_type": "code",
   "execution_count": null,
   "metadata": {
    "deletable": false,
    "editable": false
   },
   "outputs": [],
   "source": [
    "grader.check(\"Q3B\")"
   ]
  },
  {
   "cell_type": "markdown",
   "metadata": {
    "deletable": false,
    "editable": false
   },
   "source": [
    "**Question 4:** Categorize the individuals based on their age group using the following groupings in the corresponding variable names with `loc`:\n",
    "<ul>\n",
    "<li>Below 40 years of age</li>\n",
    "<li>In the range of 40-50 years of age</li>\n",
    "<li>In the range of 50-60 years of age</li>\n",
    "<li>In the range of 60-70 years of age</li>\n",
    "<li>70 or above years of age</li>\n",
    "</ul>\n",
    "\n",
    "<b>Note: </b> Only the lower bound is inclusive in the above age group range. You are to store the results in the variables given in the cell below."
   ]
  },
  {
   "cell_type": "code",
   "execution_count": null,
   "metadata": {
    "tags": []
   },
   "outputs": [],
   "source": [
    "belowForty = ...\n",
    "ageBtw40_50 = ...\n",
    "ageBtw50_60 = ...\n",
    "ageBtw60_70 = ...\n",
    "aboveSeventy = ..."
   ]
  },
  {
   "cell_type": "code",
   "execution_count": null,
   "metadata": {
    "deletable": false,
    "editable": false
   },
   "outputs": [],
   "source": [
    "grader.check(\"Q4\")"
   ]
  },
  {
   "cell_type": "markdown",
   "metadata": {
    "deletable": false,
    "editable": false
   },
   "source": [
    "**Question 5A:**  Group the data by 'sex' and find the average age for each group. <br/>\n",
    "\n",
    "Store the result in the variable `mean_ages_by_sex`."
   ]
  },
  {
   "cell_type": "code",
   "execution_count": null,
   "metadata": {
    "tags": []
   },
   "outputs": [],
   "source": [
    "mean_ages_by_sex = ..."
   ]
  },
  {
   "cell_type": "code",
   "execution_count": null,
   "metadata": {
    "deletable": false,
    "editable": false
   },
   "outputs": [],
   "source": [
    "grader.check(\"Q5A\")"
   ]
  },
  {
   "cell_type": "markdown",
   "metadata": {
    "deletable": false,
    "editable": false
   },
   "source": [
    "**Question 5B:**  Extract rows for patients whose maximum heart rate is within 10% of the mean heart rate across all patients. <br/>\n",
    "\n",
    "Store the result in the variable `patients_with_normal_heartrate`."
   ]
  },
  {
   "cell_type": "code",
   "execution_count": null,
   "metadata": {
    "tags": []
   },
   "outputs": [],
   "source": [
    "mean_hr = ...\n",
    "patients_with_normal_heartrate = ..."
   ]
  },
  {
   "cell_type": "code",
   "execution_count": null,
   "metadata": {
    "deletable": false,
    "editable": false
   },
   "outputs": [],
   "source": [
    "grader.check(\"Q5B\")"
   ]
  },
  {
   "cell_type": "markdown",
   "metadata": {
    "deletable": false,
    "editable": false
   },
   "source": [
    "**Question 5C:**  For patients younger than 50, find the average cholesterol levels for those with a maximum heart rate above 160. <br/>\n",
    "\n",
    "Store the result in the variable `mean_cholesterol_youngerPatients`."
   ]
  },
  {
   "cell_type": "code",
   "execution_count": null,
   "metadata": {
    "tags": []
   },
   "outputs": [],
   "source": [
    "df_filtered = ...\n",
    "mean_cholesterol_youngerPatients = ..."
   ]
  },
  {
   "cell_type": "code",
   "execution_count": null,
   "metadata": {
    "deletable": false,
    "editable": false
   },
   "outputs": [],
   "source": [
    "grader.check(\"Q5C\")"
   ]
  },
  {
   "cell_type": "markdown",
   "metadata": {
    "deletable": false,
    "editable": false
   },
   "source": [
    "**Question 5D:** Define a custom function that classifies a patient as `high risk` if their cholesterol level is above 240 and their `maximum heart rate` is below 120. Apply this function to each group of patients with different `chest pain type`s and count how many patients meet these high-risk conditions for each chest pain type. You will be using `.apply` for this task. <br/>\n",
    "\n",
    "Store the result in the variable `high_risk_counts`. "
   ]
  },
  {
   "cell_type": "code",
   "execution_count": null,
   "metadata": {
    "tags": []
   },
   "outputs": [],
   "source": [
    "...\n",
    "    ...\n"
   ]
  },
  {
   "cell_type": "code",
   "execution_count": null,
   "metadata": {
    "tags": []
   },
   "outputs": [],
   "source": [
    "high_risk_counts = ..."
   ]
  },
  {
   "cell_type": "code",
   "execution_count": null,
   "metadata": {
    "deletable": false,
    "editable": false
   },
   "outputs": [],
   "source": [
    "grader.check(\"Q5D\")"
   ]
  },
  {
   "cell_type": "markdown",
   "metadata": {
    "deletable": false,
    "editable": false
   },
   "source": [
    "**Question 6:**  Is the average resting blood pressure of individuals in the (Above 70 age group) greater than the resting blood pressure of inviduals that are below 40 years old? <br/>\n",
    "Store the result in `meanOfAboveSeventy` & `meanOfBelowForty` variables. <br/> Also the variable `ans` must contain a string such as a 'Yes' or 'No' as the test cases check for it. <br>\n",
    "<b>Note: </b>You are not allowed to use the mean() method but rather calculate the mean mathematically."
   ]
  },
  {
   "cell_type": "code",
   "execution_count": null,
   "metadata": {
    "tags": []
   },
   "outputs": [],
   "source": [
    "meanOfAboveSeventy = ...\n",
    "meanOfBelowForty = ...\n",
    "q6ans = ..."
   ]
  },
  {
   "cell_type": "code",
   "execution_count": null,
   "metadata": {
    "deletable": false,
    "editable": false
   },
   "outputs": [],
   "source": [
    "grader.check(\"Q6\")"
   ]
  },
  {
   "cell_type": "markdown",
   "metadata": {
    "deletable": false,
    "editable": false
   },
   "source": [
    "**Question 7:** What is the most occuring value for oxygen saturation in individuals that fall into the age group of 50-60 ? <br>\n",
    "Store the value in the variable `frequentO2Saturation`."
   ]
  },
  {
   "cell_type": "code",
   "execution_count": null,
   "metadata": {
    "tags": []
   },
   "outputs": [],
   "source": [
    "frequentO2Saturation = ...\n"
   ]
  },
  {
   "cell_type": "code",
   "execution_count": null,
   "metadata": {
    "deletable": false,
    "editable": false
   },
   "outputs": [],
   "source": [
    "grader.check(\"Q7\")"
   ]
  },
  {
   "cell_type": "markdown",
   "metadata": {
    "deletable": false,
    "editable": false
   },
   "source": [
    "**Question 8:** Find the most prevalent type of chest pain for all age groups mentioned above and store it in the corresponding variable. Also, find the most prevalent type of chest pain across all the individuals and store your result in `mostObservedChestPain`."
   ]
  },
  {
   "cell_type": "code",
   "execution_count": null,
   "metadata": {
    "tags": []
   },
   "outputs": [],
   "source": [
    "belowFortyChestPain = ...\n",
    "ageBtw40_50ChestPain = ...\n",
    "ageBtw50_60ChestPain = ...\n",
    "ageBtw60_70ChestPain = ...\n",
    "aboveSeventyChestPain = ...\n",
    "mostObservedChestPain = ..."
   ]
  },
  {
   "cell_type": "code",
   "execution_count": null,
   "metadata": {
    "deletable": false,
    "editable": false
   },
   "outputs": [],
   "source": [
    "grader.check(\"Q8\")"
   ]
  },
  {
   "cell_type": "markdown",
   "metadata": {
    "deletable": false,
    "editable": false
   },
   "source": [
    "**Question 9:** Calculate the <b>median</b> cholestrol levels for all the age groups.<br>\n",
    "<b>Note: </b> Here the variable `listOfDf` contains all the age groups that you have previously calculated in question <b>6</b>."
   ]
  },
  {
   "cell_type": "code",
   "execution_count": null,
   "metadata": {
    "tags": []
   },
   "outputs": [],
   "source": [
    "listOfDf = ...\n",
    "medianOfAllCholLevels = ..."
   ]
  },
  {
   "cell_type": "code",
   "execution_count": null,
   "metadata": {
    "deletable": false,
    "editable": false
   },
   "outputs": [],
   "source": [
    "grader.check(\"Q9\")"
   ]
  },
  {
   "cell_type": "markdown",
   "metadata": {
    "deletable": false,
    "editable": false
   },
   "source": [
    "**Question 10:**  Using a pivot table, show the gender distribution across dfferent chest pain types. Store the result in `gender_count`."
   ]
  },
  {
   "cell_type": "code",
   "execution_count": null,
   "metadata": {
    "tags": []
   },
   "outputs": [],
   "source": [
    "gender_count = ..."
   ]
  },
  {
   "cell_type": "code",
   "execution_count": null,
   "metadata": {
    "deletable": false,
    "editable": false
   },
   "outputs": [],
   "source": [
    "grader.check(\"Q10\")"
   ]
  },
  {
   "cell_type": "markdown",
   "metadata": {
    "deletable": false,
    "editable": false
   },
   "source": [
    "**Question 11:**  Calculate the percentage of males (1) and females (0) who are diagnosed with exercise induced angina. Round the result to three decimal places and store the result in `male_prop` and `female_prop` respectively<br/>\n",
    "<b>Note:</b> 1 means they have exercise induced angina whereas 0 means they do not. "
   ]
  },
  {
   "cell_type": "code",
   "execution_count": null,
   "metadata": {
    "tags": []
   },
   "outputs": [],
   "source": [
    "male_prop = ...\n",
    "female_prop = ..."
   ]
  },
  {
   "cell_type": "code",
   "execution_count": null,
   "metadata": {
    "deletable": false,
    "editable": false
   },
   "outputs": [],
   "source": [
    "grader.check(\"Q11\")"
   ]
  },
  {
   "cell_type": "markdown",
   "metadata": {
    "deletable": false,
    "editable": false
   },
   "source": [
    "**Question 12:**  What is the maximum heart rate across the different age groups ? \n",
    "Store the max heart rates obtained in the variable `heartRates`."
   ]
  },
  {
   "cell_type": "code",
   "execution_count": null,
   "metadata": {
    "tags": []
   },
   "outputs": [],
   "source": [
    "heartRates = ...\n",
    "heartRates"
   ]
  },
  {
   "cell_type": "code",
   "execution_count": null,
   "metadata": {
    "deletable": false,
    "editable": false
   },
   "outputs": [],
   "source": [
    "grader.check(\"Q12\")"
   ]
  },
  {
   "cell_type": "markdown",
   "metadata": {
    "deletable": false,
    "editable": false
   },
   "source": [
    "**Question 13A:**  How many people have cholestrol values greater than the threshold value given below ? Store it in the variable `numberOfPeople`. \n",
    "<br>\n",
    "<ul>\n",
    "<li>Cholestrol Threshold Level: 300</li>\n",
    "</ul>\n",
    "\n",
    "Also calculate the probability of these people getting a heart attack and store the result, rounded off to three decimal places, in `probability`.\n"
   ]
  },
  {
   "cell_type": "code",
   "execution_count": null,
   "metadata": {
    "tags": []
   },
   "outputs": [],
   "source": [
    "numberOfPeople = ...\n",
    "probability = ..."
   ]
  },
  {
   "cell_type": "code",
   "execution_count": null,
   "metadata": {
    "deletable": false,
    "editable": false
   },
   "outputs": [],
   "source": [
    "grader.check(\"Q13A\")"
   ]
  },
  {
   "cell_type": "markdown",
   "metadata": {
    "deletable": false,
    "editable": false
   },
   "source": [
    "<!-- BEGIN QUESTION -->\n",
    "\n",
    "**Question 13B:**  Do you think people with such cholesetrol levels have a higher probability of getting an heart attack than those with lower cholesterol levels? Justify this claim by providing a valid reason."
   ]
  },
  {
   "cell_type": "markdown",
   "metadata": {},
   "source": [
    "_Type your answer here, replacing this text._"
   ]
  },
  {
   "cell_type": "markdown",
   "metadata": {
    "deletable": false,
    "editable": false
   },
   "source": [
    "<!-- END QUESTION -->\n",
    "\n",
    "**This marks the end of Assignment 1 Part 2 :) <br> Hooray! You made it to the end now give your self a pat on the back!**"
   ]
  }
 ],
 "metadata": {
  "kernelspec": {
   "display_name": "Python 3 (ipykernel)",
   "language": "python",
   "name": "python3"
  },
  "language_info": {
   "codemirror_mode": {
    "name": "ipython",
    "version": 3
   },
   "file_extension": ".py",
   "mimetype": "text/x-python",
   "name": "python",
   "nbconvert_exporter": "python",
   "pygments_lexer": "ipython3",
   "version": "3.12.4"
  },
  "otter": {
   "OK_FORMAT": true,
   "tests": {
    "Q0": {
     "name": "Q0",
     "points": 1,
     "suites": [
      {
       "cases": [
        {
         "code": ">>> assert heartDf.shape == (309, 14)\n>>> assert o2SaturationDf.shape == (309, 1)\n",
         "hidden": false,
         "locked": false
        }
       ],
       "scored": true,
       "setup": "",
       "teardown": "",
       "type": "doctest"
      }
     ]
    },
    "Q1": {
     "name": "Q1",
     "points": 1,
     "suites": [
      {
       "cases": [
        {
         "code": ">>> assert heartDfShape == (309, 14)\n>>> assert o2DfShape == (309, 1)\n",
         "hidden": false,
         "locked": false
        }
       ],
       "scored": true,
       "setup": "",
       "teardown": "",
       "type": "doctest"
      }
     ]
    },
    "Q10": {
     "name": "Q10",
     "points": 3,
     "suites": [
      {
       "cases": [
        {
         "code": ">>> assert gender_count.shape == (4, 2)\n>>> assert gender_count[0].sum() == 101\n>>> assert gender_count[1].sum() == 208\n",
         "hidden": false,
         "locked": false
        }
       ],
       "scored": true,
       "setup": "",
       "teardown": "",
       "type": "doctest"
      }
     ]
    },
    "Q11": {
     "name": "Q11",
     "points": 4,
     "suites": [
      {
       "cases": [
        {
         "code": ">>> assert male_prop == 37.019\n>>> assert female_prop == 21.782\n",
         "hidden": false,
         "locked": false
        }
       ],
       "scored": true,
       "setup": "",
       "teardown": "",
       "type": "doctest"
      }
     ]
    },
    "Q12": {
     "name": "Q12",
     "points": 3,
     "suites": [
      {
       "cases": [
        {
         "code": ">>> assert heartRates == [202.0, 194.0, 195.0, 179.0, 162.0]\n",
         "hidden": false,
         "locked": false
        }
       ],
       "scored": true,
       "setup": "",
       "teardown": "",
       "type": "doctest"
      }
     ]
    },
    "Q13A": {
     "name": "Q13A",
     "points": 3,
     "suites": [
      {
       "cases": [
        {
         "code": ">>> assert numberOfPeople == 43\n>>> assert probability == 0.535\n",
         "hidden": false,
         "locked": false
        }
       ],
       "scored": true,
       "setup": "",
       "teardown": "",
       "type": "doctest"
      }
     ]
    },
    "Q2B": {
     "name": "Q2B",
     "points": 2,
     "suites": [
      {
       "cases": [
        {
         "code": ">>> assert gender_distribution[1] == 208\n>>> assert gender_distribution[0] == 101\n",
         "hidden": false,
         "locked": false
        }
       ],
       "scored": true,
       "setup": "",
       "teardown": "",
       "type": "doctest"
      }
     ]
    },
    "Q2a": {
     "name": "Q2a",
     "points": 2,
     "suites": [
      {
       "cases": [
        {
         "code": ">>> assert heartdf_description.shape == (8, 14)\n>>> assert o2df_description.shape == (8, 1)\n",
         "hidden": false,
         "locked": false
        }
       ],
       "scored": true,
       "setup": "",
       "teardown": "",
       "type": "doctest"
      }
     ]
    },
    "Q3A": {
     "name": "Q3A",
     "points": 3,
     "suites": [
      {
       "cases": [
        {
         "code": ">>> assert 'exercise induced angina' in heartDf.columns\n>>> assert 'number of major vessels' in heartDf.columns\n>>> assert 'chest pain type' in heartDf.columns\n>>> assert 'fasting blood sugar > 120mg/dl' in heartDf.columns\n>>> assert 'resting blood pressure' in heartDf.columns\n>>> assert 'old peak' in heartDf.columns\n>>> assert 'cholesterol levels' in heartDf.columns\n>>> assert 'resting electrocardiographic' in heartDf.columns\n>>> assert 'maximum heart rate' in heartDf.columns\n>>> assert 'O2 saturation' in o2SaturationDf.columns\n",
         "hidden": false,
         "locked": false
        }
       ],
       "scored": true,
       "setup": "",
       "teardown": "",
       "type": "doctest"
      }
     ]
    },
    "Q3B": {
     "name": "Q3B",
     "points": 2,
     "suites": [
      {
       "cases": [
        {
         "code": ">>> assert mergedDf.shape == (309, 15)\n>>> assert 'O2 saturation' in mergedDf.columns\n",
         "hidden": false,
         "locked": false
        }
       ],
       "scored": true,
       "setup": "",
       "teardown": "",
       "type": "doctest"
      }
     ]
    },
    "Q4": {
     "name": "Q4",
     "points": 5,
     "suites": [
      {
       "cases": [
        {
         "code": ">>> assert belowForty.shape == (16, 15)\n>>> assert ageBtw40_50.shape == (72, 15)\n>>> assert ageBtw50_60.shape == (131, 15)\n>>> assert ageBtw60_70.shape == (80, 15)\n>>> assert aboveSeventy.shape == (10, 15)\n",
         "hidden": false,
         "locked": false
        }
       ],
       "scored": true,
       "setup": "",
       "teardown": "",
       "type": "doctest"
      }
     ]
    },
    "Q5A": {
     "name": "Q5A",
     "points": 2,
     "suites": [
      {
       "cases": [
        {
         "code": ">>> assert mean_ages_by_sex[0] == 55.79207920792079\n>>> assert mean_ages_by_sex[1] == 53.77403846153846\n",
         "hidden": false,
         "locked": false
        }
       ],
       "scored": true,
       "setup": "",
       "teardown": "",
       "type": "doctest"
      }
     ]
    },
    "Q5B": {
     "name": "Q5B",
     "points": 3,
     "suites": [
      {
       "cases": [
        {
         "code": ">>> assert patients_with_normal_heartrate.shape == (143, 15)\n",
         "hidden": false,
         "locked": false
        }
       ],
       "scored": true,
       "setup": "",
       "teardown": "",
       "type": "doctest"
      }
     ]
    },
    "Q5C": {
     "name": "Q5C",
     "points": 2,
     "suites": [
      {
       "cases": [
        {
         "code": ">>> assert mean_cholesterol_youngerPatients == 232.3653846153846\n",
         "hidden": false,
         "locked": false
        }
       ],
       "scored": true,
       "setup": "",
       "teardown": "",
       "type": "doctest"
      }
     ]
    },
    "Q5D": {
     "name": "Q5D",
     "points": 3,
     "suites": [
      {
       "cases": [
        {
         "code": ">>> assert high_risk_counts[0] == 15\n>>> assert high_risk_counts[1] == 1\n>>> assert high_risk_counts[2] == 2\n>>> assert high_risk_counts[3] == 0\n",
         "hidden": false,
         "locked": false
        }
       ],
       "scored": true,
       "setup": "",
       "teardown": "",
       "type": "doctest"
      }
     ]
    },
    "Q6": {
     "name": "Q6",
     "points": 4,
     "suites": [
      {
       "cases": [
        {
         "code": ">>> assert q6ans.strip().lower() == 'yes'\n>>> assert meanOfAboveSeventy == 135.8\n>>> assert meanOfBelowForty == 125.5\n",
         "hidden": false,
         "locked": false
        }
       ],
       "scored": true,
       "setup": "",
       "teardown": "",
       "type": "doctest"
      }
     ]
    },
    "Q7": {
     "name": "Q7",
     "points": 2,
     "suites": [
      {
       "cases": [
        {
         "code": ">>> assert frequentO2Saturation == 97.5\n",
         "hidden": false,
         "locked": false
        }
       ],
       "scored": true,
       "setup": "",
       "teardown": "",
       "type": "doctest"
      }
     ]
    },
    "Q8": {
     "name": "Q8",
     "points": 5,
     "suites": [
      {
       "cases": [
        {
         "code": ">>> assert belowFortyChestPain == 2\n>>> assert ageBtw40_50ChestPain == 0\n>>> assert ageBtw50_60ChestPain == 0\n>>> assert ageBtw60_70ChestPain == 0\n>>> assert aboveSeventyChestPain == 0\n>>> assert mostObservedChestPain == 0\n",
         "hidden": false,
         "locked": false
        }
       ],
       "scored": true,
       "setup": "",
       "teardown": "",
       "type": "doctest"
      }
     ]
    },
    "Q9": {
     "name": "Q9",
     "points": 4,
     "suites": [
      {
       "cases": [
        {
         "code": ">>> assert medianOfAllCholLevels == [207.0, 235.5, 239.0, 252.5, 267.0]\n",
         "hidden": false,
         "locked": false
        }
       ],
       "scored": true,
       "setup": "",
       "teardown": "",
       "type": "doctest"
      }
     ]
    }
   }
  }
 },
 "nbformat": 4,
 "nbformat_minor": 4
}
