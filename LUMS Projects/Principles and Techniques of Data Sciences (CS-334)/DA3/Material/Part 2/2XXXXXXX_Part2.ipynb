{
 "cells": [
  {
   "cell_type": "markdown",
   "metadata": {},
   "source": [
    "# Assignment 3"
   ]
  },
  {
   "cell_type": "code",
   "execution_count": 24,
   "metadata": {},
   "outputs": [],
   "source": [
    "import otter\n",
    "grader = otter.Notebook()\n",
    "import pandas as pd\n",
    "import numpy as np\n",
    "%matplotlib inline\n",
    "import seaborn as sns\n",
    "import matplotlib.pyplot as plots\n",
    "import matplotlib.pyplot as plt\n",
    "from scipy.stats import ttest_ind"
   ]
  },
  {
   "cell_type": "markdown",
   "metadata": {},
   "source": [
    "### Assignment instructions"
   ]
  },
  {
   "cell_type": "markdown",
   "metadata": {},
   "source": [
    "* **How to install 'otter'**: Run `pip install otter-grader` in your Anaconda Command Prompt\n",
    "* **Otter**: It is an autograder that we will be using for grading your notebooks.\n",
    "* **grader.check('qn')**: This command runs test cases for nth question `qn` provided to you and displays the result. But these are not the only test cases, these are provided just for your basic testing. There will be some *hidden test cases* on which your answers will be tested as well.\n",
    "* You are **not** allowed to edit any pre-defined variables and as per the instructions for every question you have to assign your answers to these variables."
   ]
  },
  {
   "cell_type": "markdown",
   "metadata": {},
   "source": [
    "### Submission instructions"
   ]
  },
  {
   "cell_type": "markdown",
   "metadata": {},
   "source": [
    "* Rename your notebook as **YourRollNumber_Part2.ipynb**. (e.g. *`2XXXXXXX_Part2.ipynb`*)\n",
    "* Download your notebook as a PDF and rename it to **YourRollNumber_Part2.pdf**\n",
    "* Only submit your notebook and PDF in a zip file named **YourRollNumber_DA3.zip** on LMS"
   ]
  },
  {
   "cell_type": "markdown",
   "metadata": {},
   "source": [
    "## Dataset\n",
    "Education is a critical determinant of future success, and one of the key factors that influence academic performance is class attendance. In this dataset, we aim to explore how different factors, such as attendance, extracurricular involvement, and study habits, may impact students' grades.\n",
    "\n",
    "It is often suggested that attending classes above a certain threshold can have a positive effect on academic performance. However, a thorough analysis is required to confirm this hypothesis. In this assignment, we will use a dataset that includes several attributes of students, such as gender, high school type, weekly study hours, and attendance records, to investigate the factors contributing to student success.\n",
    "\n",
    "For simplicity, this dataset contains information about approximately 120 students, with various features related to their academic and personal backgrounds. Each row represents a student and their academic history."
   ]
  },
  {
   "cell_type": "code",
   "execution_count": 498,
   "metadata": {},
   "outputs": [],
   "source": [
    "df = pd.read_csv(\"student_performance_data.csv\")"
   ]
  },
  {
   "cell_type": "markdown",
   "metadata": {},
   "source": [
    "## Data summary\n",
    "\n",
    "Each row in this dataset represents a student with specific academic and personal history. We are interested in examining whether attending classes above the required percentage had any effect on whether or not they received good grades. Several attributes of the students are stored in this dataset:\n",
    "\n",
    "- **student_id**: The student's unique ID for the study.\n",
    "- **gender**:  The gender of the student, either 'Male' or 'Female'.\n",
    "- **student_age**: The student's age at the time of the study.\n",
    "- **high_school_type**: The type of high school the student attended, categorized as 'Other', 'State', or 'Private'.\n",
    "- **scholarship**:  The percentage of scholarship received by the student, ranging from '25%', '50%', '75%', '100%', or 'No' scholarship.\n",
    "- **sleep_quality**: The student's reported quality of sleep, categorized as 'Good' or 'Poor'.\n",
    "- **involvement_in_extracurriculars**: Whether the student is involved in extracurricular activities, with values 'Yes' or 'No'.\n",
    "- **weekly_study_hours**: The average number of hours the student studies per week.\n",
    "- **attendance**: Whether the student’s attendance is above or below the required threshold, categorized as 'Above' or 'Below'.\n",
    "- **assignments_completed**: Whether the student completed all course assignments, categorized as 'Yes' or 'No'.\n",
    "- **attended_tutorials**: Whether the student attended tutorials, categorized as 'Yes' or 'No'.\n",
    "- **grade**: The student's final grade"
   ]
  },
  {
   "cell_type": "markdown",
   "metadata": {},
   "source": [
    "## Data cleaning"
   ]
  },
  {
   "cell_type": "markdown",
   "metadata": {},
   "source": [
    "**Question 1**: A student's `id` is unimportant to us. Drop this column."
   ]
  },
  {
   "cell_type": "code",
   "execution_count": 9,
   "metadata": {},
   "outputs": [],
   "source": [
    "# code here"
   ]
  },
  {
   "cell_type": "code",
   "execution_count": 12,
   "metadata": {},
   "outputs": [],
   "source": [
    "grader.check(\"q1\")"
   ]
  },
  {
   "cell_type": "markdown",
   "metadata": {},
   "source": [
    "**Question 2**: We are working with numerical data, so you are required to convert age ranges to midpoint values. To help with this, write a Python function `convert_age_to_midpoint` that takes an `age_range` as input.\n",
    "\n",
    "- If the `age_range` is a range (e.g., `'20-25'`), the function should return the midpoint of the range.\n",
    "- If the `age_range` is a single value (e.g., `'30'`), the function should return that value as an integer.\n",
    "\n",
    "Next, apply this function to the `student_age` column in a pandas DataFrame to convert all values into midpoints.\n"
   ]
  },
  {
   "cell_type": "code",
   "execution_count": 13,
   "metadata": {},
   "outputs": [],
   "source": [
    "# code here\n"
   ]
  },
  {
   "cell_type": "code",
   "execution_count": null,
   "metadata": {},
   "outputs": [],
   "source": [
    "grader.check(\"q2\")"
   ]
  },
  {
   "cell_type": "markdown",
   "metadata": {},
   "source": [
    "### Question 3:\n",
    "\n",
    "**Question 3**: Similarly, convert the data entries to numerical data as decribed below. \n",
    "\n",
    "- **gender**: 1 if 'Male' and 0 if 'Female'\n",
    "- **high_school_type**: 0 if 'Other', 1 if 'State', and 2 if 'Private'\n",
    "- **scholarship**: 0.25 for '25%', 0.5 for '50%', 0.75 for '75%', 1 for '100%', and 0 if 'No'\n",
    "- **sleep_quality**: 1 if 'Good', and 0 if 'Poor'\n",
    "- **involvement_in_extracurriculars**: 1 if 'Yes', and 0 if 'No'\n",
    "- **attendance**: 1 if 'Above', and 0 if 'Below'\n",
    "- **assignments_completed**: 1 if 'Yes', and 0 if 'No'\n",
    "- **attended_tutorials**: 1 if 'Yes', and 0 if 'No'\n",
    "- **grade**: Convert letter grades into numeric values as follows:\n",
    "    - 'A+' = 4.0\n",
    "    - 'A' = 3.7\n",
    "    - 'B+' = 3.3\n",
    "    - 'B' = 3.0\n",
    "    - 'C+' = 2.3\n",
    "    - 'C' = 2.0\n",
    "    - 'D' = 1.0\n",
    "    - 'F' = 0.0"
   ]
  },
  {
   "cell_type": "code",
   "execution_count": 14,
   "metadata": {},
   "outputs": [],
   "source": [
    "# code here\n"
   ]
  },
  {
   "cell_type": "code",
   "execution_count": null,
   "metadata": {},
   "outputs": [],
   "source": [
    "grader.check(\"q3\")"
   ]
  },
  {
   "cell_type": "markdown",
   "metadata": {},
   "source": [
    "## Exploratory Data Analysis"
   ]
  },
  {
   "cell_type": "markdown",
   "metadata": {},
   "source": [
    "We are interested in examining how different groups of students are impacted by attending classes above the required threshold. The `attendance` variable is 1 if the student’s attendance is above the threshold (i.e., 'Above')."
   ]
  },
  {
   "cell_type": "markdown",
   "metadata": {},
   "source": [
    "**Question 5:** \n",
    "\n",
    "a) Complete the function given below. Given a column name and dataframe, `treatment_plot` should plot the estimated average treatment effect for **all** groups of that column variable. \n",
    "\n",
    "b) What do you observe in your treatment plot for the column `gender`? Write your answer as a comment."
   ]
  },
  {
   "cell_type": "code",
   "execution_count": 15,
   "metadata": {},
   "outputs": [],
   "source": [
    "def treatment_plot(data, col, x_labels=None):\n",
    "    # Code here #$"
   ]
  },
  {
   "cell_type": "code",
   "execution_count": null,
   "metadata": {},
   "outputs": [],
   "source": [
    "treatment_plot(data=df, col='gender', x_labels=['Male', 'Female'])"
   ]
  },
  {
   "cell_type": "markdown",
   "metadata": {},
   "source": [
    "**Question 6:** \n",
    "\n",
    "a) Plot a correlation heatmap for this dataset (it should be a color coded graph indicating correlation values for each of the columns against every other column).\n",
    "\n",
    "b) Comment on any notable correlations. For any of these pairs, answer the following questions: Are they causally related? If so, is their causal relationship direct or indirect? Name any confounding variables you suspect. If you do not think they are causally related, comment why.\n",
    "\n",
    "Note: You will be graded on how critically you have commented, not how much you write. So keep your answers crisp and to the point, but also think deeply."
   ]
  },
  {
   "cell_type": "code",
   "execution_count": 16,
   "metadata": {},
   "outputs": [],
   "source": [
    "# code here"
   ]
  },
  {
   "cell_type": "markdown",
   "metadata": {},
   "source": [
    "## The Effect of Attendance Above the Required Threshold(Treatment)"
   ]
  },
  {
   "cell_type": "markdown",
   "metadata": {},
   "source": [
    "**Question 7:** \n",
    "\n",
    "a) Find the overall estimated average treatment effect (under certain assumptions) of attending classes. Store it in the variable `estimated_ATE`.\n",
    "Note: Your test case may pass even if your value has the wrong sign.\n",
    "\n",
    "b) Is your result positive or negative? What do the sign (+ve or -ve) and magnitude of your result tell you about the effect of attending classes? Write your answer as a comment."
   ]
  },
  {
   "cell_type": "code",
   "execution_count": 17,
   "metadata": {},
   "outputs": [],
   "source": [
    "# code here"
   ]
  },
  {
   "cell_type": "code",
   "execution_count": null,
   "metadata": {},
   "outputs": [],
   "source": [
    "grader.check(\"q7\")"
   ]
  },
  {
   "cell_type": "markdown",
   "metadata": {},
   "source": [
    "c) Does this value reflect the actual accurate treatment effect (effect of attending classes above the required threshold) in our population? If not, under what assumptions will this be an accurate representation of the actual ATE?"
   ]
  },
  {
   "cell_type": "code",
   "execution_count": 18,
   "metadata": {},
   "outputs": [],
   "source": [
    "# answer"
   ]
  },
  {
   "cell_type": "markdown",
   "metadata": {},
   "source": [
    "**Question 8**: Does this estimated average treatment effect make sense to you or are we missing something? Explore the data further and look at the distribution of different groups of students (i.e., students having different values for different attributes) across the treatment and control groups. Comment on how this distribution **may** impact your observed ATE."
   ]
  },
  {
   "cell_type": "code",
   "execution_count": 19,
   "metadata": {},
   "outputs": [],
   "source": [
    "#  answer"
   ]
  },
  {
   "cell_type": "markdown",
   "metadata": {},
   "source": [
    "**Question 9a**: Now write code to find the estimated treatment effect separately within the different groups you explored above. What do your observations tell you? Do you think Simpson's Paradox can be seen manifesting in these observations? If you do observe Simpson's paradox, adjust for these covariates and report the conditional average treatment effect."
   ]
  },
  {
   "cell_type": "code",
   "execution_count": 20,
   "metadata": {},
   "outputs": [],
   "source": [
    "# code here\n"
   ]
  },
  {
   "cell_type": "markdown",
   "metadata": {},
   "source": [
    "**Question 9b**: Now we want to explore the effect of conditioning on certain attributes on the overall estimated ATE. Condition on at least 3 attributes from the dataset *one by one* to report how the estimated ATE changes (this will require trial and error). For example, in the first step, condition on attribute *x*. In the next step, condition on some *x* and *y* together, and so on.\n",
    "\n",
    "Report on your observations. How does the ATE change with every step? What does this tell you about the effect of these attributes on the probability of getting good grades among students who attend classes above the required percentage and those who attend classes below the required percentage.\n",
    "\n",
    "Hint: refer to lecture slides to see how you can adjust for covariates to find a conditional ATE."
   ]
  },
  {
   "cell_type": "code",
   "execution_count": 21,
   "metadata": {},
   "outputs": [],
   "source": [
    "# code here"
   ]
  },
  {
   "cell_type": "markdown",
   "metadata": {},
   "source": [
    "**Question 10:** \n",
    "\n",
    "a) Calculate the p-value for the treatment and store it in `p_value`.\n",
    "\n",
    "b) Comment on the statistical significance of your result. What does this p-value say about attending classes and grades? Clearly state your null and alternative hypotheses and the significance level you have chosen for your p-value. Should you reject the null hypothesis?\n",
    "\n",
    "Note: You are allowed to use scipy for calculating the p-value."
   ]
  },
  {
   "cell_type": "code",
   "execution_count": 22,
   "metadata": {},
   "outputs": [],
   "source": [
    "# code here"
   ]
  },
  {
   "cell_type": "code",
   "execution_count": 23,
   "metadata": {},
   "outputs": [],
   "source": [
    "# answer"
   ]
  },
  {
   "cell_type": "code",
   "execution_count": null,
   "metadata": {},
   "outputs": [],
   "source": [
    "grader.check(\"q10\")"
   ]
  },
  {
   "cell_type": "code",
   "execution_count": null,
   "metadata": {},
   "outputs": [],
   "source": [
    "grader.check_all()"
   ]
  }
 ],
 "metadata": {
  "kernelspec": {
   "display_name": "Python 3 (ipykernel)",
   "language": "python",
   "name": "python3"
  },
  "language_info": {
   "codemirror_mode": {
    "name": "ipython",
    "version": 3
   },
   "file_extension": ".py",
   "mimetype": "text/x-python",
   "name": "python",
   "nbconvert_exporter": "python",
   "pygments_lexer": "ipython3",
   "version": "3.11.5"
  }
 },
 "nbformat": 4,
 "nbformat_minor": 2
}
