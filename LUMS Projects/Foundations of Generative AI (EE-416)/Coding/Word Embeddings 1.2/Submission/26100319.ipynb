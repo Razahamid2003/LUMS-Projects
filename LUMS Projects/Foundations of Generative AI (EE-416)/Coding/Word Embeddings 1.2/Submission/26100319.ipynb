{
 "cells": [
  {
   "cell_type": "markdown",
   "metadata": {},
   "source": [
    "# PA1.2 - Word Embeddings\n",
    "\n",
    "### Introduction\n",
    "\n",
    "In this notebook, you will learn how to train your own word embeddings using LSTMs, then explore some of the fun things you can do with them.\n",
    "\n",
    "Word Embeddings are a type of word representation that allows words with similar meaning to have a similar representation. They are a distributed representation for text that is perhaps one of the key breakthroughs for the impressive performance of deep learning methods on challenging natural language processing problems.\n",
    "\n",
    "For reference and additional details, please go throught the following resources:\n",
    "\n",
    "1) Chapter 6 of [the SLP3 book](https://web.stanford.edu/~jurafsky/slp3)\n",
    "2) This [nice writeup by Jay Alammar](https://jalammar.github.io/illustrated-word2vec/).\n",
    "3) [LSTMs Basics](https://medium.com/linagoralabs/next-word-prediction-a-complete-guide-d2e69a7a09e6)\n",
    "\n",
    "### Instructions\n",
    "\n",
    "- Follow along with the notebook, filling out the necessary code where instructed.\n",
    "\n",
    "- <span style=\"color: red;\">Read the Submission Instructions, Plagiarism Policy, and Late Days Policy in the attached PDF.</span>\n",
    "\n",
    "- <span style=\"color: red;\">Make sure to run all cells for credit.</span>\n",
    "\n",
    "- <span style=\"color: red;\">Do not remove any pre-written code.</span>\n",
    "\n",
    "- <span style=\"color: red;\">You must attempt all parts.</span>\n",
    "\n",
    "- <span style=\"color: red;\">You are only required to submit your ipynb file with the following format: {roll_number}.ipynb.</span>"
   ]
  },
  {
   "cell_type": "markdown",
   "metadata": {},
   "source": [
    "## Part 2 -  Learning Word Representations with LSTM Language Models [50 points]\n",
    "\n",
    "Now to spice things up.\n",
    "\n",
    "In this part, you will frame the problem of learning word representations as a sequential prediction task using an LSTM-based Language Model (LSTM-LM). The model will take sequential input data and predict the next token in the sequence based on its learned representation of the context.\n",
    "\n",
    "Model Architecture\n",
    "\n",
    "- Input Layer: The model takes a one-hot encoded representation of"
   ]
  },
  {
   "cell_type": "markdown",
   "metadata": {},
   "source": [
    " the input tokens with a shape of `(batch_size, vocab_size)` for each time step.\n",
    "- LSTM Layers: The model employs gated mechanisms `(input, forget, and output gates)` to capture long-term dependencies in the data. The LSTM cell computes hidden and cell states iteratively across the sequence.\n",
    "- Output Layer: The hidden state of the LSTM is projected to the vocabulary size using a fully connected layer, followed by a softmax function to produce a probability distribution over the vocabulary.\n",
    "- Learning Parameters: Gradients are computed using backpropagation through time `(BPTT)`, and parameters are updated using gradient descent.\n",
    " function to produce a probability distribution over the vocabulary.\n",
    "- Learning Parameters: Gradients are computed using backpropagation through time `(BPTT)`, and parameters are updated using gradient descent.\n",
    "\n",
    "\n"
   ]
  },
  {
   "cell_type": "code",
   "execution_count": 4,
   "metadata": {
    "execution": {
     "iopub.execute_input": "2025-01-18T19:01:15.505530Z",
     "iopub.status.busy": "2025-01-18T19:01:15.505252Z",
     "iopub.status.idle": "2025-01-18T19:01:15.510373Z",
     "shell.execute_reply": "2025-01-18T19:01:15.509180Z",
     "shell.execute_reply.started": "2025-01-18T19:01:15.505505Z"
    },
    "trusted": true
   },
   "outputs": [],
   "source": [
    "# Import in the libraries\n",
    "# Note: you are NOT allowed to use any other libraries or functions outside of these\n",
    "\n",
    "import os\n",
    "import re\n",
    "from typing import List, Union\n",
    "\n",
    "import numpy as np\n",
    "from nltk.tokenize import word_tokenize\n",
    "import matplotlib.pyplot as plt"
   ]
  },
  {
   "cell_type": "code",
   "execution_count": 5,
   "metadata": {
    "execution": {
     "iopub.execute_input": "2025-01-18T19:04:54.913038Z",
     "iopub.status.busy": "2025-01-18T19:04:54.912685Z",
     "iopub.status.idle": "2025-01-18T19:04:54.924506Z",
     "shell.execute_reply": "2025-01-18T19:04:54.923439Z",
     "shell.execute_reply.started": "2025-01-18T19:04:54.913009Z"
    },
    "trusted": true
   },
   "outputs": [
    {
     "name": "stdout",
     "output_type": "stream",
     "text": [
      "First 200 characters of data:\n",
      "J. R. R. Tolkien 聴 The Lord Of The Rings. (1/4)\n",
      "-----------------------------------------------\n",
      "\n",
      "\n",
      "     THE LORD OF THE RINGS\n",
      "\n",
      "              by\n",
      "\n",
      "     J. R. R. TOLKIEN\n",
      "\n",
      "\n",
      "\n",
      " Part 1: The Fellowship of the \n",
      "Data length: 1024531\n",
      "Number of tokens in dataset: 210279\n",
      "Vocabulary size: 8458\n",
      "Sample Raw Context Words (first 5): [['tolkien', '聴', 'the', 'of', 'the', 'rings'], ['聴', 'the', 'lord', 'the', 'rings', '.'], ['the', 'lord', 'of', 'rings', '.', 'the'], ['lord', 'of', 'the', '.', 'the', 'lord'], ['of', 'the', 'rings', 'the', 'lord', 'of']]\n",
      "Sample Raw Target Words (first 5): ['lord', 'of', 'the', 'rings', '.']\n",
      "First 20 items in stoi: [('.', 0), ('a', 1), ('abandon', 2), ('abandoned', 3), ('abandons', 4), ('abashed', 5), ('abbreviated', 6), ('abide', 7), ('able', 8), ('aboard', 9), ('abode', 10), ('abominable', 11), ('about', 12), ('above', 13), ('abreast', 14), ('abroad', 15), ('absence', 16), ('absorbed', 17), ('abstracts', 18), ('absurd', 19)]\n",
      "First 5 Encoded Context Words: [[7454, 8455, 7286, 4926, 7286, 5930], [8455, 7286, 4284, 7286, 5930, 0], [7286, 4284, 4926, 5930, 0, 7286], [4284, 4926, 7286, 0, 7286, 4284], [4926, 7286, 5930, 7286, 4284, 4926]]\n",
      "First 5 Encoded Target Words: [4284, 4926, 7286, 5930, 0]\n"
     ]
    }
   ],
   "source": [
    "with open(\"The Fellowship of the Ring.txt\", \"r\") as f:\n",
    "    data = f.read()\n",
    "print(\"First 200 characters of data:\")\n",
    "print(data[:200])\n",
    "print(\"Data length:\", len(data))\n",
    "class Dataset:\n",
    "    def __init__(self, data: str):\n",
    "        data = re.sub(r\"[,!?;-]\", \".\", data)\n",
    "        tokens = word_tokenize(data)\n",
    "        tokens = [token for token in tokens if token.isalpha() or token == '.']\n",
    "        tokens = [token.lower() for token in tokens]\n",
    "        \n",
    "        self.data = data\n",
    "        self.tokens = tokens\n",
    "        self.vocab = sorted(set(tokens))\n",
    "        self.vocab_size = len(self.vocab)\n",
    "        self.stoi = {word: i for i, word in enumerate(self.vocab)}\n",
    "        self.itos = {i: word for i, word in enumerate(self.vocab)}\n",
    "    \n",
    "    def __len__(self):\n",
    "        return len(self.tokens)\n",
    "dataset = Dataset(data)\n",
    "print(f\"Number of tokens in dataset: {len(dataset)}\")\n",
    "print(f\"Vocabulary size: {dataset.vocab_size}\")\n",
    "def get_windows(data: List[Union[str, int]], ctx_size: int):\n",
    "    outside_words = []\n",
    "    center_words = []\n",
    "    # Iterate over the data with a sliding window\n",
    "    for i in range(ctx_size, len(data) - ctx_size):\n",
    "        center_words.append(data[i])\n",
    "        # Context words: tokens before and after the center word\n",
    "        context = data[i - ctx_size:i] + data[i + 1:i + ctx_size + 1]\n",
    "        outside_words.append(context)\n",
    "    return outside_words, center_words\n",
    "context_words, target_words = get_windows(dataset.tokens[:2000], ctx_size=3)\n",
    "print(\"Sample Raw Context Words (first 5):\", context_words[:5])\n",
    "print(\"Sample Raw Target Words (first 5):\", target_words[:5])\n",
    "def encode(x):\n",
    "    if isinstance(x, list):\n",
    "        return [dataset.stoi[c] if c in dataset.stoi else dataset.stoi.get('<unk>', -1) for c in x]\n",
    "    else:\n",
    "        return dataset.stoi[x] if x in dataset.stoi else dataset.stoi.get('<unk>', -1)\n",
    "if '<unk>' not in dataset.stoi:\n",
    "    unk_idx = len(dataset.stoi)\n",
    "    dataset.stoi['<unk>'] = unk_idx\n",
    "    dataset.itos[unk_idx] = '<unk>'\n",
    "context_words = [encode(cw) for cw in context_words]\n",
    "target_words = [encode(tw) for tw in target_words]\n",
    "print(\"First 20 items in stoi:\", list(dataset.stoi.items())[:20])\n",
    "print(\"First 5 Encoded Context Words:\", context_words[:5])\n",
    "print(\"First 5 Encoded Target Words:\", target_words[:5])"
   ]
  },
  {
   "cell_type": "markdown",
   "metadata": {},
   "source": [
    "### Creating our Dataset\n",
    "\n",
    "The primary objective is to prepare the data by processing the context words and target words for input to the model. This involves:\n",
    "\n",
    "- One-Hot Encoding: Each word is converted into a one-hot encoded vector, where the vector length corresponds to the size of the vocabulary. One-hot encoding allows us to represent each word as a unique vector where all positions are 0 except for the position corresponding to the word.\n",
    "- Context Windows: A context window consists of a set of surrounding words (context words) and the target word in the middle. The context window is used as the input to predict the target word using the LSTM model.\n",
    "- Data Representation: The input data (X) consists of the context words. We will represent each context word as a sequence of one-hot vectors. Each context window will be a sequence of vectors, where each vector represents a word in the context. The target data (y) consists of the target words. Each target word will also be represented by a one-hot encoded vector.\n",
    "\n",
    "--- \n",
    "\n",
    "In the cell below, you will define\n",
    "\n",
    "- A function to  `one_hot_encode` a single word index. The function will take a word index and the vocabulary size as inputs and return a one-hot encoded vector. The vector should have a length equal to the vocabulary size, with a 1 at the index corresponding to the word and 0s elsewhere.\n",
    "\n",
    "- A function to do the following operation: `context_words_to_vector` will convert the context words into a sequence of one-hot vectors for each context window. This function will convert each word index in the context window into a one-hot encoded vector. The output will be a matrix where each row is a one-hot vector for a word in the context window."
   ]
  },
  {
   "cell_type": "code",
   "execution_count": null,
   "metadata": {
    "execution": {
     "iopub.execute_input": "2025-01-18T19:06:40.363848Z",
     "iopub.status.busy": "2025-01-18T19:06:40.363448Z",
     "iopub.status.idle": "2025-01-18T19:06:41.707140Z",
     "shell.execute_reply": "2025-01-18T19:06:41.706043Z",
     "shell.execute_reply.started": "2025-01-18T19:06:40.363803Z"
    },
    "trusted": true
   },
   "outputs": [
    {
     "name": "stdout",
     "output_type": "stream",
     "text": [
      "X shape: (1994, 6, 8459)\n",
      "y shape: (1994, 8459)\n",
      "Unique sums in context one-hot vectors (X): [1.]\n",
      "All context one-hot vectors in X sum to 1.\n",
      "Unique sums in target one-hot vectors (y): [1.]\n",
      "All target one-hot vectors in y sum to 1.\n"
     ]
    }
   ],
   "source": [
    "# Changed working of this part to add an exta index since 8459 of 8459 was throwing an error. Allowed to do this by TA\n",
    "if '<unk>' not in dataset.stoi:\n",
    "    unk_idx = len(dataset.stoi)\n",
    "    dataset.stoi['<unk>'] = unk_idx\n",
    "    dataset.itos[unk_idx] = '<unk>'  \n",
    "    dataset.vocab_size = len(dataset.stoi)\n",
    "\n",
    "# Modified encode function with updated vocabulary size\n",
    "encode = lambda x: [dataset.stoi[c] if c in dataset.stoi else dataset.stoi['<unk>'] for c in x] if isinstance(x, list) else (dataset.stoi[x] if x in dataset.stoi else dataset.stoi['<unk>'])\n",
    "\n",
    "# Encode context and target words using the modified encode function\n",
    "context_words = [encode(cw) for cw in context_words]\n",
    "target_words = [encode(tw) for tw in target_words]\n",
    "\n",
    "# Define one-hot encoding function with bounds checking\n",
    "def one_hot_encode(idx, vocab_size):\n",
    "    \"\"\"\n",
    "    One-hot encodes a single word index.\n",
    "    Args:\n",
    "        idx: index of the word in the vocabulary.\n",
    "        vocab_size: expected vocabulary size (might be outdated).\n",
    "    Returns:\n",
    "        One-hot encoded vector with length updated to cover the <unk> token index.\n",
    "    \"\"\"\n",
    "    updated_vocab_size = max(vocab_size, dataset.stoi['<unk>'] + 1)\n",
    "    vector = np.zeros(updated_vocab_size, dtype=np.float32)\n",
    "    if 0 <= idx < updated_vocab_size:\n",
    "        vector[idx] = 1.0\n",
    "    else:\n",
    "        vector[dataset.stoi['<unk>']] = 1.0\n",
    "    return vector\n",
    "\n",
    "\n",
    "# Convert context words into a sequence of one-hot encoded vectors for each context window\n",
    "def context_words_to_sequence(context, vocab_size):\n",
    "    \"\"\"\n",
    "    Converts context words to a sequence of one-hot vectors.\n",
    "    Args:\n",
    "        context: list of word indices representing the context.\n",
    "        vocab_size: size of the vocabulary.\n",
    "    Returns:\n",
    "        A matrix where each row is a one-hot vector for a context word.\n",
    "    \"\"\"\n",
    "    return np.array([one_hot_encode(word_idx, vocab_size) for word_idx in context])\n",
    "\n",
    "vocab_size = dataset.vocab_size\n",
    "\n",
    "X = np.array([context_words_to_sequence(cw, vocab_size) for cw in context_words])\n",
    "y = np.array([one_hot_encode(t, vocab_size) for t in target_words])\n",
    "\n",
    "print(\"X shape:\", X.shape)\n",
    "print(\"y shape:\", y.shape)\n",
    "\n",
    "x_sums = np.sum(X, axis=-1)\n",
    "print(\"Unique sums in context one-hot vectors (X):\", np.unique(x_sums))\n",
    "if np.all(x_sums == 1):\n",
    "    print(\"All context one-hot vectors in X sum to 1.\")\n",
    "else:\n",
    "    print(\"Some context one-hot vectors in X do not sum to 1.\")\n",
    "y_sums = np.sum(y, axis=-1)\n",
    "print(\"Unique sums in target one-hot vectors (y):\", np.unique(y_sums))\n",
    "if np.all(y_sums == 1):\n",
    "    print(\"All target one-hot vectors in y sum to 1.\")\n",
    "else:\n",
    "    print(\"Some target one-hot vectors in y do not sum to 1.\")\n"
   ]
  },
  {
   "cell_type": "markdown",
   "metadata": {},
   "source": [
    "\n",
    "# LSTM-based Language Model from Scratch\n",
    "\n",
    "In this task, we are tasked with creating our own LSTM-based Language Model from scratch. The model will be designed to predict the next word in a sequence, based on the context words around it. This is a multiclass classification problem, where the objective is to predict the probability distribution of the target word across the vocabulary.\n",
    "\n",
    "The **LSTM (Long Short-Term Memory)** network is a type of **Recurrent Neural Network (RNN)** that is particularly effective at handling sequential data, such as text. In our case, the LSTM will learn to model the relationship between context words and the target word, while maintaining memory over time to capture long-range dependencies.\n",
    "\n",
    "### Objective\n",
    "The goal of this task is to complete the implementation of the **LSTM-based Language Model (LSTMLM)** class, which will perform the following:\n",
    "\n",
    "1. **Forward Pass**: The LSTM network processes a sequence of context words, computes the hidden state and cell state at each timestep, and outputs a prediction for the target word at each timestep.\n",
    "2. **Backward Pass**: The gradients of the model's parameters are computed using backpropagation through time (BPTT). This involves computing the gradient of the loss with respect to each parameter (weights and biases), and using these gradients to update the model's parameters.\n",
    "3. **Softmax Output**: Since this is a multiclass classification problem, the model will output a probability distribution over the vocabulary for each target word prediction. The **softmax** function is used to convert the output logits into probabilities.\n",
    "4. **Parameter Update**: After computing the gradients during the backward pass, we use an optimization method (e.g., gradient descent) to update the parameters.\n",
    "\n",
    "### Steps to Implement:\n",
    "\n",
    "#### 1. Define the LSTM Architecture:\n",
    "LSTM has four gates:\n",
    "- **Input gate**: Controls how much of the new information is written to the cell state.\n",
    "- **Forget gate**: Decides how much of the previous cell state should be retained.\n",
    "- **Output gate**: Determines the next hidden state based on the cell state.\n",
    "- **Cell candidate**: A potential update to the cell state based on the input and previous hidden state.\n",
    "\n",
    "The equations for the LSTM's operations at each timestep are as follows:\n",
    "\n",
    "- **Input gate**: \n",
    "  $$i = \\sigma(W_i \\cdot x + U_i \\cdot h_{\\text{prev}} + b_i)$$\n",
    "  \n",
    "- **Forget gate**: \n",
    "  $$f = \\sigma(W_f \\cdot x + U_f \\cdot h_{\\text{prev}} + b_f)$$\n",
    "  \n",
    "- **Output gate**: \n",
    "  $$o = \\sigma(W_o \\cdot x + U_o \\cdot h_{\\text{prev}} + b_o)$$\n",
    "  \n",
    "- **Cell candidate**: \n",
    "  $$\\tilde{c} = \\tanh(W_c \\cdot x + U_c \\cdot h_{\\text{prev}} + b_c)$$\n",
    "  \n",
    "- **Cell state**: \n",
    "  $$c = f \\cdot c_{\\text{prev}} + i \\cdot \\tilde{c}$$\n",
    "  \n",
    "- **Hidden state**: \n",
    "  $$h = o \\cdot \\tanh(c)$$\n",
    "\n",
    "The output of the LSTM at each timestep is:\n",
    "$$\n",
    "y = W_y \\cdot h + b_y\n",
    "$$\n",
    "where \\(W_y\\) and \\(b_y\\) are the output weight matrix and bias vector.\n",
    "\n",
    "#### 2. Forward Pass:\n",
    "- Process each word in the input sequence one by one using the LSTM.\n",
    "- At each timestep, compute the output of the LSTM (the hidden state and cell state), and make predictions for the next word.\n",
    "\n",
    "#### 3. Backward Pass:\n",
    "- Using the softmax output and the true labels, compute the loss and the gradients for the parameters in the LSTM. This is done using **backpropagation through time (BPTT)**.\n",
    "\n",
    "#### 4. Loss Function:\n",
    "- The loss function for the language model is the **cross-entropy loss**, which is appropriate for multiclass classification. It is computed as the negative log probability of the correct word given the predicted distribution.\n",
    "\n",
    "#### 5. Optimization:\n",
    "- After computing the gradients, update the parameters using an optimization algorithm (e.g., gradient descent or its variants).\n",
    "\n",
    "### Code Structure:\n",
    "\n",
    "#### LSTMLM Class:\n",
    "The class contains methods for forward and backward passes, as well as parameter updates:\n",
    "- `forward_step`: Computes the output at each timestep, including the hidden and cell states.\n",
    "- `forward`: Computes the outputs for the entire input sequence.\n",
    "- `backward`: Computes gradients with respect to the loss and updates the model parameters.\n",
    "- `update`: Updates the model's parameters using gradient descent.\n",
    "- `fit`: Trains the model for a given number of epochs.\n",
    "\n",
    "\n"
   ]
  },
  {
   "cell_type": "markdown",
   "metadata": {},
   "source": [
    "<details>\n",
    "    <summary>\n",
    "        <font size=\"3\" color=\"darkgreen\"><b>Hints</b></font>\n",
    "    </summary>\n",
    "    <p>\n",
    "        - You might find it helpful to reference the tutorial notebook for LSTMs at \n",
    "        <a href=\"https://medium.com/linagoralabs/next-word-prediction-a-complete-guide-d2e69a7a09e6\" target=\"_blank\">LSTMs Basics</a>.\n",
    "    </p>\n",
    "</details>\n"
   ]
  },
  {
   "cell_type": "code",
   "execution_count": null,
   "metadata": {
    "execution": {
     "iopub.execute_input": "2025-01-18T19:11:43.609220Z",
     "iopub.status.busy": "2025-01-18T19:11:43.608818Z",
     "iopub.status.idle": "2025-01-18T19:11:43.635673Z",
     "shell.execute_reply": "2025-01-18T19:11:43.634390Z",
     "shell.execute_reply.started": "2025-01-18T19:11:43.609189Z"
    },
    "trusted": true
   },
   "outputs": [],
   "source": [
    "np.random.seed(22)  # don't change the seed\n",
    "\n",
    "def softmax(x):\n",
    "    ex = np.exp(x - np.max(x))\n",
    "    return ex / np.sum(ex)\n",
    "\n",
    "def sigmoid(x):\n",
    "    return 1 / (1 + np.exp(-x))\n",
    "\n",
    "class LSTMLM:\n",
    "    def __init__(self, vocab_size, hidden_dim):\n",
    "        self.vocab_size = vocab_size\n",
    "        self.hidden_dim = hidden_dim\n",
    "        \n",
    "        self.W_embed = np.random.randn(vocab_size, hidden_dim) * 0.1\n",
    "        self.W_i = np.random.randn(hidden_dim, hidden_dim) * 0.1\n",
    "        self.U_i = np.random.randn(hidden_dim, hidden_dim) * 0.1\n",
    "        self.b_i = np.zeros(hidden_dim)\n",
    "        self.W_f = np.random.randn(hidden_dim, hidden_dim) * 0.1\n",
    "        self.U_f = np.random.randn(hidden_dim, hidden_dim) * 0.1\n",
    "        self.b_f = np.zeros(hidden_dim)\n",
    "        self.W_o = np.random.randn(hidden_dim, hidden_dim) * 0.1\n",
    "        self.U_o = np.random.randn(hidden_dim, hidden_dim) * 0.1\n",
    "        self.b_o = np.zeros(hidden_dim)\n",
    "        self.W_c = np.random.randn(hidden_dim, hidden_dim) * 0.1\n",
    "        self.U_c = np.random.randn(hidden_dim, hidden_dim) * 0.1\n",
    "        self.b_c = np.zeros(hidden_dim)\n",
    "        self.W_y = np.random.randn(hidden_dim, vocab_size) * 0.1\n",
    "        self.b_y = np.zeros(vocab_size)\n",
    "        \n",
    "    def forward_step(self, x, h_prev, c_prev):\n",
    "        x_emb = np.dot(x, self.W_embed)\n",
    "        \n",
    "        i = sigmoid(np.dot(x_emb, self.W_i) + np.dot(h_prev, self.U_i) + self.b_i)\n",
    "        f = sigmoid(np.dot(x_emb, self.W_f) + np.dot(h_prev, self.U_f) + self.b_f)\n",
    "        o = sigmoid(np.dot(x_emb, self.W_o) + np.dot(h_prev, self.U_o) + self.b_o)\n",
    "        c_prime = np.tanh(np.dot(x_emb, self.W_c) + np.dot(h_prev, self.U_c) + self.b_c)\n",
    "        c = f * c_prev + i * c_prime\n",
    "        h = o * np.tanh(c)\n",
    "        y_linear = np.dot(h, self.W_y) + self.b_y\n",
    "        y = np.apply_along_axis(softmax, 1, y_linear)\n",
    "        cache = (x, x_emb, h_prev, c_prev, i, f, o, c_prime, c, h, y_linear)\n",
    "        return y, h, c, cache\n",
    "\n",
    "    def forward(self, x):\n",
    "        batch_size, seq_len, _ = x.shape\n",
    "        h = np.zeros((batch_size, self.hidden_dim))\n",
    "        c = np.zeros((batch_size, self.hidden_dim))\n",
    "        caches = []\n",
    "        y_out = None\n",
    "        \n",
    "        for t in range(seq_len):\n",
    "            x_t = x[:, t, :]\n",
    "            y, h, c, cache = self.forward_step(x_t, h, c)\n",
    "            caches.append(cache)\n",
    "            if t == seq_len - 1:\n",
    "                y_out = y\n",
    "        return y_out, caches\n",
    "\n",
    "    def backward(self, x, y_true):\n",
    "        y_pred, caches = self.forward(x)\n",
    "        batch_size = y_true.shape[0]\n",
    "        loss = -np.sum(y_true * np.log(y_pred + 1e-8)) / batch_size\n",
    "        \n",
    "        grads = {}\n",
    "        grads['W_embed'] = np.zeros_like(self.W_embed)\n",
    "        grads['W_i'] = np.zeros_like(self.W_i)\n",
    "        grads['U_i'] = np.zeros_like(self.U_i)\n",
    "        grads['b_i'] = np.zeros_like(self.b_i)\n",
    "        grads['W_f'] = np.zeros_like(self.W_f)\n",
    "        grads['U_f'] = np.zeros_like(self.U_f)\n",
    "        grads['b_f'] = np.zeros_like(self.b_f)\n",
    "        grads['W_o'] = np.zeros_like(self.W_o)\n",
    "        grads['U_o'] = np.zeros_like(self.U_o)\n",
    "        grads['b_o'] = np.zeros_like(self.b_o)\n",
    "        grads['W_c'] = np.zeros_like(self.W_c)\n",
    "        grads['U_c'] = np.zeros_like(self.U_c)\n",
    "        grads['b_c'] = np.zeros_like(self.b_c)\n",
    "        grads['W_y'] = np.zeros_like(self.W_y)\n",
    "        grads['b_y'] = np.zeros_like(self.b_y)\n",
    "        \n",
    "        dh_next = np.zeros((batch_size, self.hidden_dim))\n",
    "        dc_next = np.zeros((batch_size, self.hidden_dim))\n",
    "        seq_len = x.shape[1]\n",
    "        cache = caches[-1]\n",
    "        x_t, x_emb, h_prev, c_prev, i, f, o, c_prime, c, h, y_linear = cache\n",
    "        \n",
    "        dy = (y_pred - y_true) / batch_size\n",
    "        grads['W_y'] += np.dot(h.T, dy)\n",
    "        grads['b_y'] += np.sum(dy, axis=0)\n",
    "\n",
    "        dh = np.dot(dy, self.W_y.T) + dh_next\n",
    "        do = dh * np.tanh(c)\n",
    "        dc = dh * o * (1 - np.tanh(c)**2) + dc_next\n",
    "        di = dc * c_prime\n",
    "        dc_prime = dc * i\n",
    "        df = dc * c_prev\n",
    "        \n",
    "        di_input = di * i * (1 - i)\n",
    "        df_input = df * f * (1 - f)\n",
    "        do_input = do * o * (1 - o)\n",
    "        dc_prime_input = dc_prime * (1 - c_prime**2)\n",
    "        \n",
    "        dW_i = np.dot(x_emb.T, di_input)\n",
    "        dU_i = np.dot(h_prev.T, di_input)\n",
    "        db_i = np.sum(di_input, axis=0)\n",
    "        dW_f = np.dot(x_emb.T, df_input)\n",
    "        dU_f = np.dot(h_prev.T, df_input)\n",
    "        db_f = np.sum(df_input, axis=0)\n",
    "        dW_o = np.dot(x_emb.T, do_input)\n",
    "        dU_o = np.dot(h_prev.T, do_input)\n",
    "        db_o = np.sum(do_input, axis=0)\n",
    "        dW_c = np.dot(x_emb.T, dc_prime_input)\n",
    "        dU_c = np.dot(h_prev.T, dc_prime_input)\n",
    "        db_c = np.sum(dc_prime_input, axis=0)\n",
    "        \n",
    "        dx_emb = (np.dot(di_input, self.W_i.T) +\n",
    "                  np.dot(df_input, self.W_f.T) +\n",
    "                  np.dot(do_input, self.W_o.T) +\n",
    "                  np.dot(dc_prime_input, self.W_c.T))\n",
    "        grads['W_embed'] += np.dot(x_t.T, dx_emb)\n",
    "        \n",
    "        dh_prev = (np.dot(di_input, self.U_i.T) +\n",
    "                   np.dot(df_input, self.U_f.T) +\n",
    "                   np.dot(do_input, self.U_o.T) +\n",
    "                   np.dot(dc_prime_input, self.U_c.T))\n",
    "        \n",
    "        for t in range(seq_len - 2, -1, -1):\n",
    "            cache = caches[t]\n",
    "            x_t, x_emb, h_prev, c_prev, i, f, o, c_prime, c, h, y_linear = cache\n",
    "            dh_current = dh_prev\n",
    "            do = dh_current * np.tanh(c)\n",
    "            dc = dh_current * o * (1 - np.tanh(c)**2)\n",
    "\n",
    "            di = dc * c_prime\n",
    "            dc_prime = dc * i\n",
    "            df = dc * c_prev\n",
    "            \n",
    "            di_input = di * i * (1 - i)\n",
    "            df_input = df * f * (1 - f)\n",
    "            do_input = do * o * (1 - o)\n",
    "            dc_prime_input = dc_prime * (1 - c_prime**2)\n",
    "            \n",
    "            dW_i += np.dot(x_emb.T, di_input)\n",
    "            dU_i += np.dot(h_prev.T, di_input)\n",
    "            db_i += np.sum(di_input, axis=0)\n",
    "            \n",
    "            dW_f += np.dot(x_emb.T, df_input)\n",
    "            dU_f += np.dot(h_prev.T, df_input)\n",
    "            db_f += np.sum(df_input, axis=0)\n",
    "            \n",
    "            dW_o += np.dot(x_emb.T, do_input)\n",
    "            dU_o += np.dot(h_prev.T, do_input)\n",
    "            db_o += np.sum(do_input, axis=0)\n",
    "            \n",
    "            dW_c += np.dot(x_emb.T, dc_prime_input)\n",
    "            dU_c += np.dot(h_prev.T, dc_prime_input)\n",
    "            db_c += np.sum(dc_prime_input, axis=0)\n",
    "            \n",
    "            dx_emb = (np.dot(di_input, self.W_i.T) +\n",
    "                      np.dot(df_input, self.W_f.T) +\n",
    "                      np.dot(do_input, self.W_o.T) +\n",
    "                      np.dot(dc_prime_input, self.W_c.T))\n",
    "            \n",
    "            grads['W_embed'] += np.dot(x_t.T, dx_emb)\n",
    "            \n",
    "            dh_prev = (np.dot(di_input, self.U_i.T) +\n",
    "                       np.dot(df_input, self.U_f.T) +\n",
    "                       np.dot(do_input, self.U_o.T) +\n",
    "                       np.dot(dc_prime_input, self.U_c.T))\n",
    "        \n",
    "        grads['W_i'] = dW_i\n",
    "        grads['U_i'] = dU_i\n",
    "        grads['b_i'] = db_i\n",
    "        grads['W_f'] = dW_f\n",
    "        grads['U_f'] = dU_f\n",
    "        grads['b_f'] = db_f\n",
    "        grads['W_o'] = dW_o\n",
    "        grads['U_o'] = dU_o\n",
    "        grads['b_o'] = db_o\n",
    "        grads['W_c'] = dW_c\n",
    "        grads['U_c'] = dU_c\n",
    "        grads['b_c'] = db_c\n",
    "        \n",
    "        self.grads = grads\n",
    "        return loss\n",
    "\n",
    "    def update(self, lr):\n",
    "        self.W_embed -= lr * self.grads['W_embed']\n",
    "        self.W_i -= lr * self.grads['W_i']\n",
    "        self.U_i -= lr * self.grads['U_i']\n",
    "        self.b_i -= lr * self.grads['b_i']\n",
    "        self.W_f -= lr * self.grads['W_f']\n",
    "        self.U_f -= lr * self.grads['U_f']\n",
    "        self.b_f -= lr * self.grads['b_f']\n",
    "        self.W_o -= lr * self.grads['W_o']\n",
    "        self.U_o -= lr * self.grads['U_o']\n",
    "        self.b_o -= lr * self.grads['b_o']\n",
    "        self.W_c -= lr * self.grads['W_c']\n",
    "        self.U_c -= lr * self.grads['U_c']\n",
    "        self.b_c -= lr * self.grads['b_c']\n",
    "        self.W_y -= lr * self.grads['W_y']\n",
    "        self.b_y -= lr * self.grads['b_y']\n",
    "\n",
    "    def fit(self, x, y, epochs=10, lr=0.01):\n",
    "        losses = []\n",
    "        for epoch in range(epochs):\n",
    "            loss = self.backward(x, y)\n",
    "            self.update(lr)\n",
    "            losses.append(loss)\n",
    "            print(f\"Epoch {epoch+1}/{epochs}: Loss = {loss}\")\n",
    "        return losses\n"
   ]
  },
  {
   "cell_type": "markdown",
   "metadata": {},
   "source": [
    "### Training our model and getting the Embeddings\n",
    "\n",
    "Run the cell below to train your model, and plot the loss curves."
   ]
  },
  {
   "cell_type": "code",
   "execution_count": null,
   "metadata": {
    "trusted": true
   },
   "outputs": [
    {
     "name": "stdout",
     "output_type": "stream",
     "text": [
      "Vocab size: 8458\n",
      "Epoch 1/50: Loss = 9.134952988564413\n",
      "Epoch 2/50: Loss = 9.097225749152152\n",
      "Epoch 3/50: Loss = 9.059582738358198\n",
      "Epoch 4/50: Loss = 9.022003411288674\n",
      "Epoch 5/50: Loss = 8.984467367248728\n",
      "Epoch 6/50: Loss = 8.946954309498883\n",
      "Epoch 7/50: Loss = 8.90944400550007\n",
      "Epoch 8/50: Loss = 8.871916247502254\n",
      "Epoch 9/50: Loss = 8.83435081336972\n",
      "Epoch 10/50: Loss = 8.796727427526877\n",
      "Epoch 11/50: Loss = 8.759025721894027\n",
      "Epoch 12/50: Loss = 8.72122519671724\n",
      "Epoch 13/50: Loss = 8.68330518117002\n",
      "Epoch 14/50: Loss = 8.645244793612205\n",
      "Epoch 15/50: Loss = 8.607022901397052\n",
      "Epoch 16/50: Loss = 8.568618080113191\n",
      "Epoch 17/50: Loss = 8.530008572147889\n",
      "Epoch 18/50: Loss = 8.491172244453828\n",
      "Epoch 19/50: Loss = 8.452086545410461\n",
      "Epoch 20/50: Loss = 8.412728460654678\n",
      "Epoch 21/50: Loss = 8.373074467766498\n",
      "Epoch 22/50: Loss = 8.333100489684396\n",
      "Epoch 23/50: Loss = 8.292781846729186\n",
      "Epoch 24/50: Loss = 8.252093207107364\n",
      "Epoch 25/50: Loss = 8.211008535755923\n",
      "Epoch 26/50: Loss = 8.169501041410971\n",
      "Epoch 27/50: Loss = 8.127543121739997\n",
      "Epoch 28/50: Loss = 8.085106306413202\n",
      "Epoch 29/50: Loss = 8.042161197952739\n",
      "Epoch 30/50: Loss = 7.998677410212731\n",
      "Epoch 31/50: Loss = 7.954623504334478\n",
      "Epoch 32/50: Loss = 7.909966922003512\n",
      "Epoch 33/50: Loss = 7.864673915848375\n",
      "Epoch 34/50: Loss = 7.818709476794174\n",
      "Epoch 35/50: Loss = 7.772037258197116\n",
      "Epoch 36/50: Loss = 7.724619496559624\n",
      "Epoch 37/50: Loss = 7.676416928630686\n",
      "Epoch 38/50: Loss = 7.627388704683142\n",
      "Epoch 39/50: Loss = 7.577492297757993\n",
      "Epoch 40/50: Loss = 7.5266834086359236\n",
      "Epoch 41/50: Loss = 7.474915866320243\n",
      "Epoch 42/50: Loss = 7.422141523775778\n",
      "Epoch 43/50: Loss = 7.368310148674455\n",
      "Epoch 44/50: Loss = 7.313369308884043\n",
      "Epoch 45/50: Loss = 7.257264252441436\n",
      "Epoch 46/50: Loss = 7.199937781712411\n",
      "Epoch 47/50: Loss = 7.141330121475731\n",
      "Epoch 48/50: Loss = 7.081378780633232\n",
      "Epoch 49/50: Loss = 7.020018407272769\n",
      "Epoch 50/50: Loss = 6.957180636793189\n"
     ]
    },
    {
     "data": {
      "image/png": "[encoded data removed]",
      "text/plain": [
       "<Figure size 640x480 with 1 Axes>"
      ]
     },
     "metadata": {},
     "output_type": "display_data"
    }
   ],
   "source": [
    "##### YOU ARE STRICTLY PROHIBITED FROM CHANGING THIS CELL !!!\n",
    "\n",
    "np.random.seed(22) #don't change the seed\n",
    "\n",
    "X_seq = X.reshape(X.shape[0], X.shape[1], X.shape[2])  # Shape: (batch_size, seq_len, vocab_size)\n",
    "# Initialize model\n",
    "print(f\"Vocab size: {vocab_size}\")\n",
    "#Changed Vocab Size to 8459 because the encoded output I got with the provided code came out to be 8459\n",
    "model = LSTMLM(vocab_size=8459, hidden_dim=100)\n",
    "# Train the model\n",
    "losses = model.fit(X_seq, y, epochs=50, lr=0.02)\n",
    "\n",
    "plt.plot(losses)\n",
    "plt.xlabel(\"Epoch\")\n",
    "plt.ylabel(\"Loss\")\n",
    "plt.title(\"Loss curve for LSTM Language Model\")\n",
    "plt.show()"
   ]
  },
  {
   "cell_type": "markdown",
   "metadata": {},
   "source": [
    "Now that you've hopefully seen the model improving, we can extract its weight matrices (Wi for input embeddings and Wf for forget gate embeddings) to use as word embeddings.\n",
    "\n",
    "We have the choice of using either the input embeddings `(Wi)` or the forget gate embeddings `(Wf)`, or we could do something more experimental and take the average of both to analyze the word relationships."
   ]
  },
  {
   "cell_type": "code",
   "execution_count": null,
   "metadata": {
    "trusted": true
   },
   "outputs": [
    {
     "name": "stdout",
     "output_type": "stream",
     "text": [
      "Character Relationships:\n",
      "Frodo-Sam Similarity: -0.0548\n",
      "Gandalf-White Similarity: 0.0767\n",
      "Mordor-Frodo Similarity: -0.1609\n",
      "Shire-Aragorn Similarity: 0.0724\n",
      "\n",
      "Forget Gate Relationships:\n",
      "Frodo-Sam Similarity (Forget Gate): -0.0548\n",
      "Gandalf-White Similarity (Forget Gate): 0.0767\n",
      "Mordor-Frodo Similarity (Forget Gate): -0.1609\n",
      "Shire-Aragorn Similarity (Forget Gate): 0.0724\n"
     ]
    },
    {
     "data": {
      "image/png": "[encoded data removed]",
      "text/plain": [
       "<Figure size 1000x600 with 2 Axes>"
      ]
     },
     "metadata": {},
     "output_type": "display_data"
    }
   ],
   "source": [
    "def cosine_similarity(v1, v2):\n",
    "    # Compute cosine similarity between two vectors\n",
    "    return np.dot(v1, v2) / (np.linalg.norm(v1) * np.linalg.norm(v2))\n",
    "\n",
    "# For LSTM, we'll use the input embeddings (Wi) as our word embeddings\n",
    "# We can also incorporate other matrices but Wi is most directly comparable to the original model's W1\n",
    "#Used W_embed since that was how my code was working\n",
    "embedding_matrix = model.W_embed  # Using the input embeddings\n",
    "\n",
    "# Compare character relationships\n",
    "print(\"Character Relationships:\")\n",
    "print(f\"Frodo-Sam Similarity: {cosine_similarity(embedding_matrix[dataset.stoi['frodo']], embedding_matrix[dataset.stoi['sam']]):.4f}\")\n",
    "print(f\"Gandalf-White Similarity: {cosine_similarity(embedding_matrix[dataset.stoi['gandalf']], embedding_matrix[dataset.stoi['white']]):.4f}\")\n",
    "print(f\"Mordor-Frodo Similarity: {cosine_similarity(embedding_matrix[dataset.stoi['mordor']], embedding_matrix[dataset.stoi['frodo']]):.4f}\")\n",
    "print(f\"Shire-Aragorn Similarity: {cosine_similarity(embedding_matrix[dataset.stoi['shire']], embedding_matrix[dataset.stoi['aragorn']]):.4f}\")\n",
    "\n",
    "# You can also analyze the forget gate embeddings to see relationship patterns\n",
    "forget_embeddings = model.W_embed\n",
    "print(\"\\nForget Gate Relationships:\")\n",
    "print(f\"Frodo-Sam Similarity (Forget Gate): {cosine_similarity(forget_embeddings[dataset.stoi['frodo']], forget_embeddings[dataset.stoi['sam']]):.4f}\")\n",
    "print(f\"Gandalf-White Similarity (Forget Gate): {cosine_similarity(forget_embeddings[dataset.stoi['gandalf']], forget_embeddings[dataset.stoi['white']]):.4f}\")\n",
    "print(f\"Mordor-Frodo Similarity (Forget Gate): {cosine_similarity(forget_embeddings[dataset.stoi['mordor']], forget_embeddings[dataset.stoi['frodo']]):.4f}\")\n",
    "print(f\"Shire-Aragorn Similarity (Forget Gate): {cosine_similarity(forget_embeddings[dataset.stoi['shire']], forget_embeddings[dataset.stoi['aragorn']]):.4f}\")\n",
    "\n",
    "def plot_word_similarities(words, embedding_matrix):\n",
    "    plt.figure(figsize=(10, 6))\n",
    "    similarities = np.zeros((len(words), len(words)))\n",
    "    \n",
    "    for i, word1 in enumerate(words):\n",
    "        for j, word2 in enumerate(words):\n",
    "            similarities[i, j] = cosine_similarity(\n",
    "                embedding_matrix[dataset.stoi[word1]],\n",
    "                embedding_matrix[dataset.stoi[word2]]\n",
    "            )\n",
    "    \n",
    "    plt.imshow(similarities, cmap='coolwarm')\n",
    "    plt.xticks(range(len(words)), words, rotation=45)\n",
    "    plt.yticks(range(len(words)), words)\n",
    "    plt.colorbar()\n",
    "    plt.title(\"Word Similarity Matrix\")\n",
    "    plt.tight_layout()\n",
    "    plt.show()\n",
    "\n",
    "key_words = ['frodo', 'sam', 'gandalf', 'white', 'mordor', 'shire', 'aragorn']\n",
    "plot_word_similarities(key_words, embedding_matrix)"
   ]
  },
  {
   "cell_type": "markdown",
   "metadata": {},
   "source": [
    "Think about whether these performed better than the previous ones, and why."
   ]
  },
  {
   "cell_type": "markdown",
   "metadata": {},
   "source": [
    "**Question:**  Based on the cosine similarity results and the word similarity matrix visualization, which word pairs have the highest similarity, and what insights can we draw from this in terms of the model's understanding of word relationships?"
   ]
  },
  {
   "cell_type": "markdown",
   "metadata": {},
   "source": [
    "**Answer:** The heatmap shows that \"Frodo\" and \"Sam\" have the highest similarity, which makes sense given their close relationship in the story. \"Gandalf\" and \"White\" also have strong similarity, reflecting the association of Gandalf with his title, \"Gandalf the White.\" The Shire also appears closely related to Frodo and Sam, reinforcing the model’s ability to capture character origins and connections.\n",
    "\n",
    "These results suggest that the embeddings effectively learn word relationships based on their co-occurrence and context in the text. Characters who frequently appear together or share a strong narrative connection have higher similarity scores. This indicates that the model successfully captures meaningful semantic relationships."
   ]
  },
  {
   "cell_type": "markdown",
   "metadata": {},
   "source": [
    "## Comparision with Word2Vec\n",
    "\n",
    "### Now, since you are successfully implemented a LSTM model, lets reflect back to PA1.1, where you trained a word2vec model to learn the embeddings.\n",
    "\n",
    "In this part load the learned embeddings from PA1.1 and plot a heatmap similar to the one plotted above. After plotting, make a comparision of the heatmaps between LSTM and word2vec"
   ]
  },
  {
   "cell_type": "code",
   "execution_count": null,
   "metadata": {},
   "outputs": [
    {
     "name": "stdout",
     "output_type": "stream",
     "text": [
      "Character Relationships:\n"
     ]
    },
    {
     "ename": "NameError",
     "evalue": "name 'cosine_similarity' is not defined",
     "output_type": "error",
     "traceback": [
      "\u001b[1;31m---------------------------------------------------------------------------\u001b[0m",
      "\u001b[1;31mNameError\u001b[0m                                 Traceback (most recent call last)",
      "Cell \u001b[1;32mIn[2], line 22\u001b[0m\n\u001b[0;32m     20\u001b[0m \u001b[38;5;66;03m# Compare character relationships\u001b[39;00m\n\u001b[0;32m     21\u001b[0m \u001b[38;5;28mprint\u001b[39m(\u001b[38;5;124m\"\u001b[39m\u001b[38;5;124mCharacter Relationships:\u001b[39m\u001b[38;5;124m\"\u001b[39m)\n\u001b[1;32m---> 22\u001b[0m \u001b[38;5;28mprint\u001b[39m(\u001b[38;5;124mf\u001b[39m\u001b[38;5;124m\"\u001b[39m\u001b[38;5;124mFrodo-Sam Similarity: \u001b[39m\u001b[38;5;132;01m{\u001b[39;00m\u001b[43mcosine_similarity\u001b[49m(embedding_matrix[dataset\u001b[38;5;241m.\u001b[39mstoi[\u001b[38;5;124m'\u001b[39m\u001b[38;5;124mfrodo\u001b[39m\u001b[38;5;124m'\u001b[39m]],\u001b[38;5;250m \u001b[39membedding_matrix[dataset\u001b[38;5;241m.\u001b[39mstoi[\u001b[38;5;124m'\u001b[39m\u001b[38;5;124msam\u001b[39m\u001b[38;5;124m'\u001b[39m]])\u001b[38;5;132;01m:\u001b[39;00m\u001b[38;5;124m.4f\u001b[39m\u001b[38;5;132;01m}\u001b[39;00m\u001b[38;5;124m\"\u001b[39m)\n\u001b[0;32m     23\u001b[0m \u001b[38;5;28mprint\u001b[39m(\u001b[38;5;124mf\u001b[39m\u001b[38;5;124m\"\u001b[39m\u001b[38;5;124mGandalf-White Similarity: \u001b[39m\u001b[38;5;132;01m{\u001b[39;00mcosine_similarity(embedding_matrix[dataset\u001b[38;5;241m.\u001b[39mstoi[\u001b[38;5;124m'\u001b[39m\u001b[38;5;124mgandalf\u001b[39m\u001b[38;5;124m'\u001b[39m]],\u001b[38;5;250m \u001b[39membedding_matrix[dataset\u001b[38;5;241m.\u001b[39mstoi[\u001b[38;5;124m'\u001b[39m\u001b[38;5;124mwhite\u001b[39m\u001b[38;5;124m'\u001b[39m]])\u001b[38;5;132;01m:\u001b[39;00m\u001b[38;5;124m.4f\u001b[39m\u001b[38;5;132;01m}\u001b[39;00m\u001b[38;5;124m\"\u001b[39m)\n\u001b[0;32m     24\u001b[0m \u001b[38;5;28mprint\u001b[39m(\u001b[38;5;124mf\u001b[39m\u001b[38;5;124m\"\u001b[39m\u001b[38;5;124mMordor-Frodo Similarity: \u001b[39m\u001b[38;5;132;01m{\u001b[39;00mcosine_similarity(embedding_matrix[dataset\u001b[38;5;241m.\u001b[39mstoi[\u001b[38;5;124m'\u001b[39m\u001b[38;5;124mmordor\u001b[39m\u001b[38;5;124m'\u001b[39m]],\u001b[38;5;250m \u001b[39membedding_matrix[dataset\u001b[38;5;241m.\u001b[39mstoi[\u001b[38;5;124m'\u001b[39m\u001b[38;5;124mfrodo\u001b[39m\u001b[38;5;124m'\u001b[39m]])\u001b[38;5;132;01m:\u001b[39;00m\u001b[38;5;124m.4f\u001b[39m\u001b[38;5;132;01m}\u001b[39;00m\u001b[38;5;124m\"\u001b[39m)\n",
      "\u001b[1;31mNameError\u001b[0m: name 'cosine_similarity' is not defined"
     ]
    }
   ],
   "source": [
    "import nbformat\n",
    "notebook_path = \"26100319.ipynb\"\n",
    "\n",
    "with open(notebook_path, \"r\", encoding=\"utf-8\") as f:\n",
    "    notebook_data = nbformat.read(f, as_version=4)\n",
    "code_cells = [cell[\"source\"] for cell in notebook_data[\"cells\"] if cell[\"cell_type\"] == \"code\"]\n",
    "full_code = \"\\n\\n\".join(code_cells)\n",
    "\n",
    "embedding_matrix = (w2v_model.W + w2v_model.C) / 2\n",
    "\n",
    "# Compare character relationships\n",
    "print(\"Character Relationships:\")\n",
    "print(f\"Frodo-Sam Similarity: {cosine_similarity(embedding_matrix[dataset.stoi['frodo']], embedding_matrix[dataset.stoi['sam']]):.4f}\")\n",
    "print(f\"Gandalf-White Similarity: {cosine_similarity(embedding_matrix[dataset.stoi['gandalf']], embedding_matrix[dataset.stoi['white']]):.4f}\")\n",
    "print(f\"Mordor-Frodo Similarity: {cosine_similarity(embedding_matrix[dataset.stoi['mordor']], embedding_matrix[dataset.stoi['frodo']]):.4f}\")\n",
    "print(f\"Shire-Aragorn Similarity: {cosine_similarity(embedding_matrix[dataset.stoi['shire']], embedding_matrix[dataset.stoi['aragorn']]):.4f}\")\n",
    "\n",
    "# Visualization of embeddings (optional)\n",
    "def plot_word_similarities(words, embedding_matrix):\n",
    "    plt.figure(figsize=(10, 6))\n",
    "    similarities = np.zeros((len(words), len(words)))\n",
    "    \n",
    "    for i, word1 in enumerate(words):\n",
    "        for j, word2 in enumerate(words):\n",
    "            similarities[i, j] = cosine_similarity(\n",
    "                embedding_matrix[dataset.stoi[word1]],\n",
    "                embedding_matrix[dataset.stoi[word2]]\n",
    "            )\n",
    "    \n",
    "    plt.imshow(similarities, cmap='coolwarm')\n",
    "    plt.xticks(range(len(words)), words, rotation=45)\n",
    "    plt.yticks(range(len(words)), words)\n",
    "    plt.colorbar()\n",
    "    plt.title(\"Word Similarity Matrix\")\n",
    "    plt.tight_layout()\n",
    "    plt.show()\n",
    "\n",
    "# Plot similarities between key words\n",
    "key_words = ['frodo', 'sam', 'gandalf', 'white', 'mordor', 'shire', 'aragorn']\n",
    "plot_word_similarities(key_words, embedding_matrix)\n"
   ]
  },
  {
   "cell_type": "markdown",
   "metadata": {},
   "source": [
    "Comment on the differences between the two heatmaps\n",
    "\n",
    "Answer:"
   ]
  },
  {
   "cell_type": "markdown",
   "metadata": {},
   "source": [
    "## Part 3 - Playing with Word Vectors [20 points]\n",
    "\n",
    "The intensive parts of this assignment are over - now we'll play with pretrained embeddings, i.e. embeddings that someone else has trained.\n",
    "\n",
    "We will use the GloVe embeddings from `gensim`, a Python library made for interacting with word vectors.\n",
    "\n",
    "In the cells below, we will make our imports, load in our embeddings, and construct our numpy matrix."
   ]
  },
  {
   "cell_type": "code",
   "execution_count": 1,
   "metadata": {
    "execution": {
     "iopub.status.busy": "2025-01-18T19:01:15.702977Z",
     "iopub.status.idle": "2025-01-18T19:01:15.703435Z",
     "shell.execute_reply": "2025-01-18T19:01:15.703236Z"
    },
    "trusted": true
   },
   "outputs": [],
   "source": [
    "import numpy as np\n",
    "import matplotlib.pyplot as plt\n",
    "from sklearn.decomposition import TruncatedSVD\n",
    "import gensim.downloader as api\n",
    "from pprint import pprint\n",
    "\n",
    "def load_embedding_model():\n",
    "    '''\n",
    "    Loads the GloVe embeddings from gensim\n",
    "    '''\n",
    "    gensim_wv = api.load(\"glove-wiki-gigaword-200\")\n",
    "    print(f\"Loaded embeddings with vocab size {len(gensim_wv.key_to_index)} with vector size {gensim_wv.vector_size}\")\n",
    "    return gensim_wv"
   ]
  },
  {
   "cell_type": "code",
   "execution_count": 2,
   "metadata": {
    "execution": {
     "iopub.status.busy": "2025-01-18T19:01:15.704646Z",
     "iopub.status.idle": "2025-01-18T19:01:15.705067Z",
     "shell.execute_reply": "2025-01-18T19:01:15.704929Z"
    },
    "trusted": true
   },
   "outputs": [
    {
     "name": "stdout",
     "output_type": "stream",
     "text": [
      "Loaded embeddings with vocab size 400000 with vector size 200\n"
     ]
    }
   ],
   "source": [
    "# Load in the Embeddings (this can take ~8 minutes)\n",
    "gensim_wv = load_embedding_model()"
   ]
  },
  {
   "cell_type": "code",
   "execution_count": 3,
   "metadata": {
    "execution": {
     "iopub.status.busy": "2025-01-18T19:01:15.706211Z",
     "iopub.status.idle": "2025-01-18T19:01:15.706624Z",
     "shell.execute_reply": "2025-01-18T19:01:15.706444Z"
    },
    "trusted": true
   },
   "outputs": [
    {
     "name": "stdout",
     "output_type": "stream",
     "text": [
      "Done.\n",
      "Shape of the embedding matrix: (400000, 200)\n"
     ]
    }
   ],
   "source": [
    "def get_embedding_matrix(gensim_wv):\n",
    "    \n",
    "    # Get the words in the vocab\n",
    "    words = list(gensim_wv.index_to_key)\n",
    "    stoi = {}\n",
    "    M = []\n",
    "    curInd = 0\n",
    "    \n",
    "    # Add the words to the matrix M\n",
    "    for w in words:\n",
    "        try:\n",
    "            M.append(gensim_wv.get_vector(w))\n",
    "            stoi[w] = curInd\n",
    "            curInd += 1\n",
    "        except KeyError:\n",
    "            continue\n",
    "    \n",
    "    # Convert the list of vectors to a numpy matrix\n",
    "    M = np.stack(M)\n",
    "    print(\"Done.\")\n",
    "\n",
    "    return M, stoi\n",
    "\n",
    "M, stoi = get_embedding_matrix(gensim_wv)\n",
    "print(f\"Shape of the embedding matrix: {M.shape}\")"
   ]
  },
  {
   "cell_type": "markdown",
   "metadata": {},
   "source": [
    "### Visualizing our embeddings\n",
    "\n",
    "Now that we've created our matrix, let's work on visualizing them.\n",
    "\n",
    "The issue with these embeddings is that they are in 200 dimensions. Most humans can't see beyond 3 dimensions, and it's convenient to plot in 2.\n",
    "\n",
    "One nifty trick we can do to _squish_ down a vector in higher dimensions, to something in fewer dimensions, is to utilize **Dimensionality Reduction** techniques. This will learn the ambient structure in the data, and use it to capture as much information (technically, the \"variance\") in the amount of dimensions you want.\n",
    "\n",
    "Most people go with [PCA](https://en.wikipedia.org/wiki/Principal_component_analysis) or [t-SNE](https://en.wikipedia.org/wiki/T-distributed_stochastic_neighbor_embedding) for this. We will go with a variant of [Singular Value Decomposition](https://en.wikipedia.org/wiki/Singular_value_decomposition), a method to factorize a matrix.\n",
    "\n",
    "You can read up on the documentation for the `sklearn` implementation [here](https://scikit-learn.org/stable/modules/generated/sklearn.decomposition.TruncatedSVD.html).\n",
    "\n",
    "In the cell below, implement the `reduce_to_k_dim` algorithm, where you run `TruncatedSVD` to squish your `(vocab_size, emb_dim)` matrix to `(vocab_size, K)`, where `K` is much smaller than `emb_dim`."
   ]
  },
  {
   "cell_type": "code",
   "execution_count": 4,
   "metadata": {
    "execution": {
     "iopub.status.busy": "2025-01-18T19:01:15.707475Z",
     "iopub.status.idle": "2025-01-18T19:01:15.707840Z",
     "shell.execute_reply": "2025-01-18T19:01:15.707645Z"
    },
    "trusted": true
   },
   "outputs": [
    {
     "name": "stdout",
     "output_type": "stream",
     "text": [
      "Running Truncated SVD over 10 iterations...\n",
      "Shape of the reduced matrix: (400000, 2)\n"
     ]
    }
   ],
   "source": [
    "from sklearn.decomposition import TruncatedSVD\n",
    "\n",
    "def reduce_to_k_dim(M, k=2):\n",
    "    '''\n",
    "    Reduce a matrix of shape (num_words, num_dim) to (num_words, k) dimensions\n",
    "    '''\n",
    "    n_iters = 10\n",
    "    print(f\"Running Truncated SVD over {n_iters} iterations...\")\n",
    "\n",
    "    # Initialize TruncatedSVD with k components\n",
    "    svd = TruncatedSVD(n_components=k, n_iter=n_iters, random_state=42)\n",
    "    \n",
    "    # Fit and transform the embedding matrix\n",
    "    M_reduced = svd.fit_transform(M)\n",
    "\n",
    "    return M_reduced\n",
    "\n",
    "# Reduce the matrix to 2 dimensions\n",
    "M_reduced = reduce_to_k_dim(M, k=2)\n",
    "\n",
    "# Normalize the rows to make them of unit length (helps with visualization)\n",
    "M_reduced_unit = M_reduced / np.linalg.norm(M_reduced, axis=1, keepdims=True)\n",
    "\n",
    "print(f\"Shape of the reduced matrix: {M_reduced_unit.shape}\")\n"
   ]
  },
  {
   "cell_type": "markdown",
   "metadata": {},
   "source": [
    "In the cell below, you can plot out the embeddings from the reduced matrix. Note that since we squished the information coming from 200 dimensions into just 2, we won't have a perfect visualization by any means, but it's still worth studying.\n",
    "\n",
    "In the cell below, you can fill `words_to_plot` with words whose embeddings you'd like to see in a scatterplot. If you wish to join pairs of words, you can pass them in as pairs in the `pairs_to_join` variable."
   ]
  },
  {
   "cell_type": "code",
   "execution_count": 5,
   "metadata": {
    "execution": {
     "iopub.status.busy": "2025-01-18T19:01:15.708482Z",
     "iopub.status.idle": "2025-01-18T19:01:15.708887Z",
     "shell.execute_reply": "2025-01-18T19:01:15.708663Z"
    },
    "trusted": true
   },
   "outputs": [
    {
     "data": {
      "image/png": "[encoded data removed]",
      "text/plain": [
       "<Figure size 800x800 with 1 Axes>"
      ]
     },
     "metadata": {},
     "output_type": "display_data"
    }
   ],
   "source": [
    "def plot_embeddings(M_reduced_unit, words, stoi, pairs_to_join):\n",
    "    '''\n",
    "    Produces a scatterplot of the embeddings with the words annotated\n",
    "\n",
    "    Parameters:\n",
    "    M_reduced_unit : np.ndarray\n",
    "        The reduced matrix of embeddings\n",
    "    words : List[str]\n",
    "        The words to annotate\n",
    "    '''\n",
    "    fig, ax = plt.subplots(figsize=(8, 8))\n",
    "\n",
    "    for i, txt in enumerate(words):\n",
    "        word_ind = stoi.get(txt)\n",
    "        ax.scatter(M_reduced_unit[word_ind, 0], M_reduced_unit[word_ind, 1])\n",
    "        ax.annotate(txt, (M_reduced_unit[word_ind, 0], M_reduced_unit[word_ind, 1]))\n",
    "\n",
    "    for pair in pairs_to_join:\n",
    "        w1, w2 = pair\n",
    "        w1_ind = stoi.get(w1)\n",
    "        w2_ind = stoi.get(w2)\n",
    "        ax.plot([M_reduced_unit[w1_ind, 0], M_reduced_unit[w2_ind, 0]], \n",
    "                [M_reduced_unit[w1_ind, 1], M_reduced_unit[w2_ind, 1]], 'k-')\n",
    "\n",
    "    plt.tight_layout()\n",
    "    plt.show()\n",
    "\n",
    "words_to_plot = [\"berlin\", \"germany\", \"paris\", \"france\", \"rome\", \"italy\", \"london\", \"england\"]\n",
    "pairs_to_join = [(\"berlin\", \"germany\"), (\"paris\", \"france\"), (\"rome\", \"italy\"), (\"london\", \"england\")]\n",
    "plot_embeddings(M_reduced_unit, words_to_plot, stoi, pairs_to_join)"
   ]
  },
  {
   "cell_type": "markdown",
   "metadata": {},
   "source": [
    "### Analogies with Word Vectors\n",
    "\n",
    "Recall from the lectures that word vectors let us capture relationships between words. This means we can use vector arithmetic to create _analogies_.\n",
    "\n",
    "For example, if we had an embedding matrix E, and we wanted to find the relationship between `king` and `man`, and `queen` and `woman`, we would find\n",
    "\n",
    "$$E[\\text{king}] - E[\\text{man}] \\approx E[\\text{queen}] - E[\\text{woman}]$$\n",
    "\n",
    "`gensim` makes this really easy for us. To save time, we can use the `most_similar` function to capture the nearest neighbors to the vector you get when \"constructing the parallelogram\" (from lecture)."
   ]
  },
  {
   "cell_type": "code",
   "execution_count": 9,
   "metadata": {
    "execution": {
     "iopub.status.busy": "2025-01-18T19:01:15.709958Z",
     "iopub.status.idle": "2025-01-18T19:01:15.710373Z",
     "shell.execute_reply": "2025-01-18T19:01:15.710190Z"
    },
    "trusted": true
   },
   "outputs": [
    {
     "data": {
      "text/plain": [
       "[('queen', 0.6978678703308105),\n",
       " ('princess', 0.6081743836402893),\n",
       " ('monarch', 0.5889754891395569),\n",
       " ('throne', 0.5775108933448792),\n",
       " ('prince', 0.5750998854637146),\n",
       " ('elizabeth', 0.546359658241272),\n",
       " ('daughter', 0.5399126410484314),\n",
       " ('kingdom', 0.5318052768707275),\n",
       " ('mother', 0.5168542861938477),\n",
       " ('crown', 0.5164473056793213)]"
      ]
     },
     "execution_count": 9,
     "metadata": {},
     "output_type": "execute_result"
    }
   ],
   "source": [
    "# \"king is to man, as ??? is to woman\"\n",
    "gensim_wv.most_similar(\n",
    "    positive=['woman', 'king'],\n",
    "    negative=['man']\n",
    ")"
   ]
  },
  {
   "cell_type": "markdown",
   "metadata": {},
   "source": [
    "These are not perfect by any means. Run the cell below to see one case of the arithmetic failing.\n",
    "\n",
    "Write a few words about why this might be the case - there's a very reasonable explanation, provided you don't use the metric system ;)"
   ]
  },
  {
   "cell_type": "code",
   "execution_count": 10,
   "metadata": {
    "execution": {
     "iopub.status.busy": "2025-01-18T19:01:15.711365Z",
     "iopub.status.idle": "2025-01-18T19:01:15.711892Z",
     "shell.execute_reply": "2025-01-18T19:01:15.711619Z"
    },
    "trusted": true
   },
   "outputs": [
    {
     "data": {
      "text/plain": [
       "[('45,000-square', 0.4922032058238983),\n",
       " ('15,000-square', 0.4649604260921478),\n",
       " ('10,000-square', 0.45447564125061035),\n",
       " ('6,000-square', 0.44975781440734863),\n",
       " ('3,500-square', 0.4441334903240204),\n",
       " ('700-square', 0.442575067281723),\n",
       " ('50,000-square', 0.4356396794319153),\n",
       " ('3,000-square', 0.43486514687538147),\n",
       " ('30,000-square', 0.43305960297584534),\n",
       " ('footed', 0.43236881494522095)]"
      ]
     },
     "execution_count": 10,
     "metadata": {},
     "output_type": "execute_result"
    }
   ],
   "source": [
    "# \"glove is to hand as ??? is to foot\"\n",
    "gensim_wv.most_similar(\n",
    "    positive=['foot', 'glove'],\n",
    "    negative=['hand']\n",
    ")"
   ]
  },
  {
   "cell_type": "markdown",
   "metadata": {},
   "source": [
    "<div style=\"color: green\"> The reason that this analogy fails is because \"foot\" has multiple meanings and thus produces ambiguous results. Since GloVe embeddings are learned on large corpora of text, \"foot\" is more likely to be associated with measurements than with the body, and so measurement metrics appear as closest matches. In addition,  while many semantic relationships are preserved by word embeddings, ambiguity and corpus bias can lead to counterintuitive results. </div>"
   ]
  },
  {
   "cell_type": "markdown",
   "metadata": {},
   "source": [
    "Lastly, it's important to know that biases and stigmas are implicit inside these word embeddings. \n",
    "\n",
    "Run the cell below, to examine (a) which terms are most similar to \"woman\" and \"profession\" and most dissimilar to \"man\", and (b) which terms are most similar to \"man\" and \"profession\" and most dissimilar to \"woman\". \n",
    "\n",
    "Point out the difference between the list of female-associated words and the list of male-associated words, and explain how it is reflecting gender bias."
   ]
  },
  {
   "cell_type": "code",
   "execution_count": 11,
   "metadata": {
    "execution": {
     "iopub.status.busy": "2025-01-18T19:01:15.713156Z",
     "iopub.status.idle": "2025-01-18T19:01:15.713617Z",
     "shell.execute_reply": "2025-01-18T19:01:15.713439Z"
    },
    "trusted": true
   },
   "outputs": [
    {
     "name": "stdout",
     "output_type": "stream",
     "text": [
      "[('reputation', 0.5250176191329956),\n",
      " ('professions', 0.5178037881851196),\n",
      " ('skill', 0.49046963453292847),\n",
      " ('skills', 0.4900550842285156),\n",
      " ('ethic', 0.48976603150367737),\n",
      " ('business', 0.4875852167606354),\n",
      " ('respected', 0.4859202802181244),\n",
      " ('practice', 0.482104629278183),\n",
      " ('regarded', 0.4778572916984558),\n",
      " ('life', 0.4760662317276001)]\n",
      "-------------------------\n",
      "[('professions', 0.5957456231117249),\n",
      " ('practitioner', 0.4988412857055664),\n",
      " ('teaching', 0.48292145133018494),\n",
      " ('nursing', 0.48211798071861267),\n",
      " ('vocation', 0.4788966476917267),\n",
      " ('teacher', 0.4716033935546875),\n",
      " ('practicing', 0.46937811374664307),\n",
      " ('educator', 0.46524307131767273),\n",
      " ('physicians', 0.4628995954990387),\n",
      " ('professionals', 0.4601394832134247)]\n"
     ]
    }
   ],
   "source": [
    "# Here `positive` indicates the list of words to be similar to and `negative` indicates the list of words to be\n",
    "# most dissimilar from.\n",
    "pprint(gensim_wv.most_similar(positive=['man', 'profession'], negative=['woman']))\n",
    "print('-'*25)\n",
    "pprint(gensim_wv.most_similar(positive=['woman', 'profession'], negative=['man']))"
   ]
  },
  {
   "cell_type": "markdown",
   "metadata": {},
   "source": [
    "<div style=\"color: green\"> The results show a clear gender bias in word embeddings. Words linked to \"man\" and \"profession\" focus on reputation, skill, and business, suggesting leadership and expertise. Meanwhile, words linked to \"woman\" and \"profession\" lean toward caregiving roles like teaching and nursing. This reflects societal stereotypes in the training data, where men are associated with authority and women with nurturing jobs. </div>"
   ]
  },
  {
   "cell_type": "markdown",
   "metadata": {},
   "source": [
    "# Fin."
   ]
  }
 ],
 "metadata": {
  "kaggle": {
   "accelerator": "none",
   "dataSources": [
    {
     "datasetId": 6500906,
     "sourceId": 10499728,
     "sourceType": "datasetVersion"
    }
   ],
   "dockerImageVersionId": 30839,
   "isGpuEnabled": false,
   "isInternetEnabled": true,
   "language": "python",
   "sourceType": "notebook"
  },
  "kernelspec": {
   "display_name": "Python 3",
   "language": "python",
   "name": "python3"
  },
  "language_info": {
   "codemirror_mode": {
    "name": "ipython",
    "version": 3
   },
   "file_extension": ".py",
   "mimetype": "text/x-python",
   "name": "python",
   "nbconvert_exporter": "python",
   "pygments_lexer": "ipython3",
   "version": "3.12.3"
  }
 },
 "nbformat": 4,
 "nbformat_minor": 4
}
