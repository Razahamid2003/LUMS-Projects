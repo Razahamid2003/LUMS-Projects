{
 "cells": [
  {
   "cell_type": "markdown",
   "metadata": {},
   "source": [
    "# **Analyzing the Impact of Castle Doctrine Laws on Violent Crime Rates in the USA**\n",
    "\n",
    "![fbi.jpg](fbi.jpg)\n",
    "## **Introduction**\n",
    "\n",
    "The **Castle Doctrine** is a legal principle that grants individuals the right to use reasonable force, including deadly force, to defend themselves against an intruder within their own homes. Rooted in the notion that one's home is their \"castle,\" these laws eliminate the duty to retreat before using force in self-defense. Proponents argue that the Castle Doctrine empowers lawful homeowners to protect themselves and deters criminal activity, while critics express concerns that such laws may escalate violence and lead to an increase in homicides.\n",
    "\n",
    "Understanding the **causal relationship** between the implementation of Castle Doctrine laws and changes in violent crime rates is crucial for policymakers, law enforcement agencies, and communities. By analyzing this relationship, we can assess whether these laws effectively reduce crime or inadvertently contribute to higher rates of violence.\n",
    "\n",
    "## **Dataset Overview**\n",
    "\n",
    "This analysis utilizes a comprehensive dataset from the **FBI**, encompassing various states over multiple years. The dataset captures a wide range of variables related to violent crimes, socioeconomic conditions, and demographic factors. Notably, the implementation of Castle Doctrine laws occurred at different times across states, with the majority adopting these statutes around **2006**. This staggered adoption provides a unique opportunity to employ robust methodologies to isolate the effect of these laws on violent crime rates.\n",
    "\n",
    "### **Selected Columns for Analysis**\n",
    "\n",
    "For a focused and meaningful analysis, we restrict our examination to the following columns from the dataset:\n",
    "\n",
    "| **Column**         | **Description**                                                                                                                                                                                                                 |\n",
    "|--------------------|---------------------------------------------------------------------------------------------------------------------------------------------------------------------------------------------------------------------------------|\n",
    "| `year`             | The calendar year of the observation (e.g., 2005, 2010).                                                                                                                                                                       |\n",
    "| `post`             | A binary indicator where `1` signifies the post-treatment period (after the implementation of Castle Doctrine laws) and `0` denotes the pre-treatment period.                                                                    |\n",
    "| `sid`              | The state identifier, uniquely representing each state in the dataset.                                                                                                                                                       |\n",
    "| `homicide`         | The number of homicides recorded in the state per 100,000 population for the given year.                                                                                                                                       |\n",
    "| `robbery`          | The number of robberies reported in the state per 100,000 population for the given year.                                                                                                                                        |\n",
    "| `larceny`          | The number of larcenies recorded in the state per 100,000 population for the given year.                                                                                                                                        |\n",
    "| `assault`          | The number of aggravated assaults reported in the state per 100,000 population for the given year.                                                                                                                              |\n",
    "| `burglary`         | The number of burglaries recorded in the state per 100,000 population for the given year. \n",
    "| `l_exp_pubwelfare`         | Logged public welfare spending                                                                                                                                        |\n",
    "| `l_police`         | Logged police presence                                                                                                                                        |\n",
    "| `l_income`         | Logged income                                                                                                                                        |\n",
    "\n",
    "| `murder`           | The number of murders reported in the state per 100,000 population for the given year.                                                                                                                                          |\n",
    "| `unemployrt`       | The unemployment rate in the state for the given year, serving as an economic indicator.                                                                                                                                          |\n",
    "| `poverty`          | The poverty rate in the state for the given year, reflecting socioeconomic conditions.                                                                                                                                           |\n",
    "| `blackm_15_24`     | The percentage of Black males aged 15-24 in the state for the given year.                                                                                                                                                        |\n",
    "| `whitem_15_24`     | The percentage of White males aged 15-24 in the state for the given year.                                                                                                                                                        |\n",
    "| `popwt`     | Population weight                                                                                                                                                                                                                       |\n",
    "\n",
    "### **Crime Definitions**\n",
    "\n",
    "To ensure clarity in our analysis, it's essential to define each of the key crime-related variables included in our dataset:\n",
    "\n",
    "| **Variable**   | **Definition**                                                                                                                                                                                                                     |\n",
    "|----------------|-------------------------------------------------------------------------------------------------------------------------------------------------------------------------------------------------------------------------------------|\n",
    "| **Homicide**   | **Homicide** is defined as the sum of **murder** and **non-negligent manslaughter**. It represents the total number of intentional killings within a state, normalized per 100,000 state population.                                 |\n",
    "| **Murder**     | **Murder** refers to the unlawful killing of another human being without justification or valid excuse, committed with the necessary intention as defined by the law in a specific jurisdiction.                                           |\n",
    "| **Larceny**    | **Larceny** is the unlawful taking and carrying away of personal property with the intent to deprive the rightful owner of it permanently. It encompasses various forms of theft that do not involve force or intimidation.               |\n",
    "| **Assault**    | **Assault** involves the act of causing physical harm or unwanted physical contact to another person. This includes aggravated assaults, which are more severe and may involve the use of weapons or intent to cause serious injury.       |\n",
    "| **Burglary**   | **Burglary** is the act of illegally entering a building or other areas without permission, typically with the intention of committing a further criminal offense inside. It does not necessarily involve theft or violence.            |\n",
    "| **Robbery**    | **Robbery** is the act of taking property or money from a person through force, intimidation, or threat of violence. Unlike larceny, robbery involves direct confrontation and coercion against the victim.                                |\n",
    "\n",
    "\n",
    "### **Temporal and Spatial Dimensions**\n",
    "\n",
    "The dataset spans multiple states across the United States and covers several years, allowing for a longitudinal analysis of crime trends in relation to the implementation of Castle Doctrine laws. Most states adopted these statutes around **2006**, but the exact year of implementation varies, providing a natural experiment setting to evaluate the laws' impact. By comparing states before and after the adoption period and against states that did not adopt the law during the study period, we can effectively employ different techniques to infer causality.\n",
    "\n",
    "---\n",
    "\n"
   ]
  },
  {
   "cell_type": "code",
   "execution_count": 1,
   "metadata": {},
   "outputs": [],
   "source": [
    "#Initialize the grader\n",
    "\n",
    "import otter\n",
    "grader = otter.Notebook()"
   ]
  },
  {
   "cell_type": "code",
   "execution_count": 1,
   "metadata": {},
   "outputs": [],
   "source": [
    "#import as needed\n",
    "\n",
    "import pandas as pd\n",
    "import numpy as np\n",
    "import seaborn as sns\n",
    "import matplotlib.pyplot as plt\n",
    "import statsmodels.api as sm\n",
    "import statsmodels.formula.api as smf"
   ]
  },
  {
   "cell_type": "markdown",
   "metadata": {},
   "source": [
    "## Dataset Exploration"
   ]
  },
  {
   "cell_type": "markdown",
   "metadata": {},
   "source": [
    "**Question 0:** Load your dataset"
   ]
  },
  {
   "cell_type": "code",
   "execution_count": 2,
   "metadata": {},
   "outputs": [],
   "source": [
    "# Import dataset\n",
    "df = ?"
   ]
  },
  {
   "cell_type": "markdown",
   "metadata": {},
   "source": [
    "**Question 1:** \n",
    "\n",
    "a) Plot a correlation heatmap for this dataset using the selected_columns (it should be a color coded graph indicating correlation values for each of the columns against every other column).\n",
    "\n",
    "b) Comment on any 5 notable correlations. Based on these correlations, can you say that any of the correlations you suggested are causally related? If so, is their causal relationship direct or indirect, and are there any cofounding variables you suspect? Otherwise, explain why you weren't able to deduce any causal relaion.\n",
    "\n",
    "Note: You will be graded on how critically you have commented, not how much you write. So keep your answers crisp and to the point, but also think deeply."
   ]
  },
  {
   "cell_type": "code",
   "execution_count": 3,
   "metadata": {},
   "outputs": [],
   "source": [
    "selected_columns = ['post', 'homicide', 'robbery', 'larceny', \n",
    "                    'assault', 'burglary', 'murder', 'unemployrt','l_exp_pubwelfare' ,'l_police','l_income',\n",
    "                    'poverty', 'blackm_15_24', 'whitem_15_24']\n",
    "\n",
    "#Plot correlation heatmap"
   ]
  },
  {
   "cell_type": "markdown",
   "metadata": {},
   "source": [
    "<span style=\"color:yellow\"> Answer: </span>\n"
   ]
  },
  {
   "cell_type": "markdown",
   "metadata": {},
   "source": [
    "## **Analyzing the Impact of Castle Doctrine Laws on Homicide Rates**\n",
    "\n",
    "We set out to analyze the impact of Castle Doctrine laws on homicide rates across different states in the United States. This investigation is particularly intriguing as it delves into the delicate balance between individual self-defense rights and broader public safety concerns. By examining whether the implementation of these laws correlates with changes in homicide rates, we aim to uncover insights that could inform policymakers and the community. However, we remain cautious, fully aware of the complexities involved in isolating the law's effect amidst a myriad of confounding factors. Despite these challenges, our analysis strives to navigate these intricacies to shed light on the implications of Castle Doctrine legislation."
   ]
  },
  {
   "cell_type": "markdown",
   "metadata": {},
   "source": [
    "**Question 2.1**:\n",
    "\n",
    "Estimate the average treatment effect on **Homicide** before and after the doctrine was implemented using the **post** attribute in your dataset, without conditioning on any variable. Do you see any issues with this? Store your answe in the `ATE` variable"
   ]
  },
  {
   "cell_type": "code",
   "execution_count": null,
   "metadata": {},
   "outputs": [],
   "source": [
    "ATE = ?"
   ]
  },
  {
   "cell_type": "code",
   "execution_count": 4,
   "metadata": {},
   "outputs": [],
   "source": [
    "grader.check('test_q2_1')"
   ]
  },
  {
   "cell_type": "markdown",
   "metadata": {},
   "source": [
    "**Question 2.2:** In case we were to assume this approach to capture the true causal effect is valid, test whether the difference in homicide rates in the instances of states where the doctrine was adopted is significant at a 5% significane level?\n",
    "\n",
    "a) Calculate the p-value for the treatment and store it in `p_value`. \n",
    "\n",
    "b) Comment on the statistical significance of your result. What does this p-value say about homicide rates and the impact of the castle doctrine based on our assumptions? Clearly state your null and alternative hypotheses. Should you reject the null hypothesis?\n",
    "\n",
    "**Note:** \n",
    "- Since we don't have an equal number of instances for the treatment and control, you have to sample the **latest** 50 instances from each set.\n",
    "- You need to use an independent samples t-test, where your test statistic is the difference in means of the two groups.\n",
    "- You need to assume variances of the two populations are not equal.\n",
    "- You can use scipy for this part.\n",
    "\n",
    "You can refer to this for further guidance, if needed: https://docs.scipy.org/doc/scipy/reference/generated/scipy.stats.ttest_ind.html."
   ]
  },
  {
   "cell_type": "code",
   "execution_count": null,
   "metadata": {},
   "outputs": [],
   "source": [
    "p_value = ?"
   ]
  },
  {
   "cell_type": "code",
   "execution_count": 5,
   "metadata": {},
   "outputs": [],
   "source": [
    "grader.check('test_q2_2')"
   ]
  },
  {
   "cell_type": "markdown",
   "metadata": {},
   "source": [
    "\n",
    "\n",
    "<span style=\"color:yellow\"> Answer: </span>\n"
   ]
  },
  {
   "cell_type": "markdown",
   "metadata": {},
   "source": [
    "**Question 3**:\n",
    "\n",
    "a) Since our dataset comprises of data from many states, we aim to calculate the ATE across every state separately. \n",
    "\n",
    "-   Using only the states that eventually do implement the doctrine at some stage, \n",
    "-   Populate a **dataframe** containing the columns **sid**, **Pre_Treatment_Avg_Homicide**,**Post_Treatment_Avg_Homicide**, and **ATE_Homicide** to observe how the ATE for these states varies before and after they implement the doctrine. \n",
    "-   The dataframe must be sorted by the **sid**.\n",
    "-   Store it in the `DF_CATE_STATE` variable \n",
    "\n",
    "b) Report the CATE. Store it in the `CATE` variable.\n",
    "\n",
    "b) Do you observe any evidence for the **Simpson's Paradox** for any individual state? If so, why do you think this might be the case?"
   ]
  },
  {
   "cell_type": "code",
   "execution_count": 15,
   "metadata": {},
   "outputs": [],
   "source": [
    "DF_CATE_STATE = pd.DataFrame(columns=['sid','Pre_Treatment_Avg_Homicide','Post_Treatment_Avg_Homicide','ATE_Homicide'])\n",
    "CATE = ?"
   ]
  },
  {
   "cell_type": "markdown",
   "metadata": {},
   "source": [
    "<span style=\"color:yellow\"> Answer: </span>\n"
   ]
  },
  {
   "cell_type": "code",
   "execution_count": 6,
   "metadata": {},
   "outputs": [],
   "source": [
    "grader.check('test_q3a')"
   ]
  },
  {
   "cell_type": "code",
   "execution_count": 7,
   "metadata": {},
   "outputs": [],
   "source": [
    "grader.check('test_q3b')"
   ]
  },
  {
   "cell_type": "markdown",
   "metadata": {},
   "source": [
    "**Question 4**:\n",
    "\n",
    "So far, we have assumed that the trends in a single state won't vary across time, which might be an issue. Since the Castle Doctrine only begins to be implemented across states after 2006, we can assume restrict to our analysis to the year 2005 for pre-implementation, and 2010, for post-implementation of the Castle Doctrine. Repeat the experiment performed in the last question, but by controlling for time.\n",
    "\n",
    "**a)**\n",
    "-   Basing your analysis only on states that have implemented the doctrine in 2010,\n",
    "-   Find the ATE for those states in 2010 (i.e. post treatment group) and 2005 (i.e. pre treatment group),\n",
    "-   Populate a **dataframe** containing the columns **sid**, **Pre_Treatment_Avg_Homicide**,**Post_Treatment_Avg_Homicide**, and **ATE_Homicide** ,\n",
    "-   Sort your dataframe using the **sid** column\n",
    "-   Store it in the variable `DF_CATE_YEAR_STATE`\n",
    "\n",
    "**b)**  Report the CATE. Store it in the variable `CATE_Y`\n",
    "\n",
    "**c)**  Do you believe this is now a true meaure of causal effect of the doctrine on homicide? State any considerable assumptions we might be making.\n"
   ]
  },
  {
   "cell_type": "code",
   "execution_count": null,
   "metadata": {},
   "outputs": [],
   "source": [
    "DF_CATE_STATE_YEAR = pd.DataFrame(columns=['sid','Pre_Treatment_Avg_Homicide','Post_Treatment_Avg_Homicide','ATE_Homicide'])\n",
    "CATE_Y = ?"
   ]
  },
  {
   "cell_type": "code",
   "execution_count": 8,
   "metadata": {},
   "outputs": [],
   "source": [
    "grader.check('test_q4a')"
   ]
  },
  {
   "cell_type": "code",
   "execution_count": 9,
   "metadata": {},
   "outputs": [],
   "source": [
    "grader.check('test_q4b')"
   ]
  },
  {
   "cell_type": "markdown",
   "metadata": {},
   "source": [
    "<span style=\"color:yellow\"> Answer: </span>\n"
   ]
  },
  {
   "cell_type": "markdown",
   "metadata": {},
   "source": [
    "**Question 5**:\n",
    "\n",
    "One of the fundamental Quasi-Experimental methods of measuring the ATE is the difference in difference approach. It allows us to effectively control for both:\n",
    "\n",
    "1. **Time-Invariant Differences:** Any unobserved characteristics that do not change over time, such as cultural factors or baseline law enforcement practices.\n",
    "2. **Common Temporal Trends:** Broader trends affecting all states, like economic shifts or national policy changes.\n",
    "\n",
    "\n",
    "  Mathematically, the **Difference-in-Differences** estimator is expressed as:\n",
    "\n",
    "  $DiD = (\\overline{Y}_{\\text{Post, Treated}} - \\overline{Y}_{\\text{Pre, Treated}}) - (\\overline{Y}_{\\text{Post, Control}} - \\overline{Y}_{\\text{Pre, Control}})$.\n",
    "\n",
    "\n",
    "**a)** Plot an **overlaid line plot** of how the **mean of homicide rate** changes across time for states after and before implementing the doctrine. For reference to how your plot should look like, consult **plot.jpg** in your assignment folder.\n",
    "\n",
    "\n",
    "\n",
    "**b)**  Report the ATE estimated using the DiD formula where:\n",
    "\n",
    "-   Assume the pre-intervention period is 2005, while the post-intervention period is 2010,\n",
    "-   Given **S** defines your set of all states, your treatment group **T** consists of the states that have implemented the doctrine in **2010**, and your control group are the states **S\\T** in **2005** (i.e. the states apart from those incorporated in T)\n",
    "-   Store your result in the `DiD_homicide` variable\n",
    "\n",
    "**c)** Comment on the value of ATE obtained through DiD and the approach we used in the previous part. Which one do you believe is more robust to observing an association between homicide rates and the introdution of the Castle Doctrine?"
   ]
  },
  {
   "cell_type": "code",
   "execution_count": null,
   "metadata": {},
   "outputs": [],
   "source": [
    "DiD_homicide = ?"
   ]
  },
  {
   "cell_type": "code",
   "execution_count": 12,
   "metadata": {},
   "outputs": [],
   "source": [
    "grader.check('test_q5')"
   ]
  },
  {
   "cell_type": "markdown",
   "metadata": {},
   "source": [
    "<span style=\"color:yellow\"> Answer: </span>\n"
   ]
  },
  {
   "cell_type": "markdown",
   "metadata": {},
   "source": [
    "**Question 6:**\n",
    "\n",
    "We generally hypothesize that the implementation of Castle Doctrine laws would lead to a decrease in violent crime rates, as these laws are intended to deter criminal activity by empowering individuals to defend themselves. To test this expectation, calculate the **Difference-in-Differences (DiD)** estimates for the following crime categories:\n",
    "\n",
    "- **Murder**\n",
    "- **Robbery**\n",
    "- **Larceny**\n",
    "- **Assault**\n",
    "\n",
    "Using the same DiD formula as previously defined, perform the calculations for each of these crime types to assess whether the implementation of Castle Doctrine laws is associated with a significant change in their respective rates.\n",
    "\n",
    "\n",
    "**Instructions:**\n",
    "\n",
    "a) **Report the DiD Estimates:**\n",
    "-  For each of the following crime categories (murder, robbery, larceny, assault), compute the DiD estimate using the approach used for homicide. Store your results in `DiD_robbery`, `DiD_larceny`, `DiD_assault`, and `DiD_murder` variables.\n",
    "\n",
    "b) **Interpret the Results:**\n",
    "   - Analyze whether the DiD estimates indicate a decrease in crime rates consistent with our intuition, and briefly discuss any discrepancies. Would you suggest implementing the law?\n"
   ]
  },
  {
   "cell_type": "code",
   "execution_count": null,
   "metadata": {},
   "outputs": [],
   "source": [
    "DiD_robbery = ?\n",
    "DiD_larceny = ?\n",
    "DiD_assault = ?\n",
    "DiD_murder = ?"
   ]
  },
  {
   "cell_type": "code",
   "execution_count": 13,
   "metadata": {},
   "outputs": [],
   "source": [
    "grader.check('test_q6')"
   ]
  },
  {
   "cell_type": "markdown",
   "metadata": {},
   "source": [
    "<span style=\"color:yellow\"> Answer: </span>\n"
   ]
  },
  {
   "cell_type": "markdown",
   "metadata": {},
   "source": [
    "### **Lastly, just before we leave - let's test out another Quasi-Experimental Method of exploring causal relationships: *Multivariate Regression*!**\n",
    "\n",
    "**Good News: Understanding that the workload at this stage of the semester is statistically significant, I’ve gone ahead and provided the code you’ll need to perform this regression 😊.**\n",
    "\n",
    "Multivariate regression will help us understand whether the Castle Doctrine law truly impacts homicide rates, by isolating the effect of the law from several other covariates e.g. economic and policy influences.\n",
    "\n",
    "### **Background**\n",
    "\n",
    "In this model, we include **multiple control variables** such as economic indicators (e.g., unemployment rate, poverty rate) and policy-related factors (e.g., police presence in a state) to account for their potential influence on homicide rates. This allows us to **better isolate the causal impact** of the Castle Doctrine law. Here’s the general form of the regression model for this case based on literature:\n",
    "\n",
    "**$\\text{Outcome}_{it} = \\beta_0 + \\beta_1 \\times \\text{CDL}_{it} + \\beta_2 \\times X_{it} + \\alpha_i + \\lambda_t + \\epsilon_{it}$**\n",
    "\n",
    "where:\n",
    "- $\\text{Outcome}_{it}$: the crime outcome variable, in this case the homicide rate, for state $i$ at time $t$.\n",
    "- $\\text{CDL}_{it}$: the treatment variable, representing the Castle Doctrine law (set to 1 if the law is in effect in state $i$ during time $t$; 0 otherwise).\n",
    "- $X_{it}$: a vector of control variables, such as unemployment rate, poverty rate, logged income, police presence, and welfare spending.\n",
    "- $\\alpha_i$: state fixed effects to control for differences across states that do not change over time.\n",
    "- $\\lambda_t$: year fixed effects to control for national trends that affect all states equally in each year.\n",
    "- $\\epsilon_{it}$: error term.\n",
    "\n",
    "### **Objective**\n",
    "\n",
    "By running this regression, we aim to isolate the effect of the Castle Doctrine law on homicide rates, holding all other factors constant. This approach is more robust than simpler comparisons, as it **controls for multiple potential confounding factors** and focuses on within-state changes over time, not just across states.\n",
    "\n",
    "### **Question and Instructions**\n",
    "\n",
    "1. **Run the Provided Code:** Execute the code provided to run this multivariate regression model on the dataset.\n",
    "\n",
    "2. **Interpret the Results**: Based on the output:\n",
    "\n",
    "    **a) Examine the coefficient for `post` (our treatment variable) to determine the effect of the Castle Doctrine law on homicide rates. How does it compare with our earlier estimate using the DiD approach?**   \n",
    "\n",
    "    **b) Is the coefficient for `post` statistically significant at the 5% level? What does this tell you about the impact of the law on homicide rates?**\n",
    "\n",
    "    **c) How do the control variables of unemployment rate, poverty, and police presence impact our outcome variable?**\n",
    "\n",
    "    **d) Could there still be any limitations with the approach that we've used? **Hint**: Does the OLS model we are using for regression necessarily capture the underlying distribution?**\n",
    "\n",
    "---\n",
    "\n",
    "By completing this section, you'll gain insight into how multivariate regression helps isolate causal effects by controlling for multiple influences in a single model, giving you a deeper understanding of the policy's true impact on crime outcomes.\n",
    "\n"
   ]
  },
  {
   "cell_type": "code",
   "execution_count": 15,
   "metadata": {},
   "outputs": [],
   "source": [
    "import statsmodels.formula.api as smf\n",
    "\n",
    "# Our control variables \n",
    "control_vars = ['unemployrt', 'poverty', 'l_income', 'l_exp_pubwelfare', 'l_police']\n",
    "controls = ' + '.join(control_vars)\n",
    "\n",
    "# The OLS model we're using for regression. We use cluster standards error to better adjust for potential within-state correlations.\n",
    "formula = f'homicide ~ post + {controls} + C(sid) + C(year)'\n",
    "model = smf.ols(formula=formula, data=data).fit(cov_type='cluster', cov_kwds={'groups': data['sid']})\n",
    "\n",
    "# Use this summary for your interpretations\n",
    "display(model.summary())"
   ]
  },
  {
   "cell_type": "markdown",
   "metadata": {},
   "source": [
    "### By now, all I hope is that you realize…\n",
    "\n",
    "As you've worked through this assignment, I hope you've developed an appreciation for the complexities involved in establishing causality. Causal inference isn’t straightforward; it requires careful attention to assumptions, rigorous control of confounding factors, and a deep understanding of what the data can truly tell us. Each method we explored, from Difference-in-Differences to Multivariate Regression, required us to think critically about the limitations and nuances of our approach.\n",
    "\n",
    "It's also important to note that the purpose of this dataset wasn’t to definitively justify or refute any policy’s effects. True causal analysis would require even deeper data exploration, consideration of additional factors, and careful external validation. What we've done here is just the beginning—a simplified view of a much more complex process.\n",
    "\n",
    "As you approach real-world data problems, remember that establishing causality demands more than just statistical techniques. It requires a combination of domain knowledge, critical thinking, and a commitment to exploring and questioning the data from all angles. \n",
    "\n",
    "Congratulations on making it this far, and welcome to the world of careful, thoughtful data analysis! 🎉\n"
   ]
  },
  {
   "cell_type": "markdown",
   "metadata": {},
   "source": [
    "# Fin"
   ]
  }
 ],
 "metadata": {
  "kernelspec": {
   "display_name": "Python 3",
   "language": "python",
   "name": "python3"
  },
  "language_info": {
   "codemirror_mode": {
    "name": "ipython",
    "version": 3
   },
   "file_extension": ".py",
   "mimetype": "text/x-python",
   "name": "python",
   "nbconvert_exporter": "python",
   "pygments_lexer": "ipython3",
   "version": "3.11.8"
  }
 },
 "nbformat": 4,
 "nbformat_minor": 2
}
