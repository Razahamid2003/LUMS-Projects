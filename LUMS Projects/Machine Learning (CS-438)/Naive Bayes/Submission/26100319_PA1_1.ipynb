{
 "cells": [
  {
   "cell_type": "markdown",
   "metadata": {},
   "source": [
    "# PA1: Naive Bayes\n",
    "\n",
    "### Introduction\n",
    "\n",
    "In this notebook, you will be implementing two types of Naive Bayes model based on the dataset features and task requirements.\n",
    "\n",
    "For reference and additional details, please go through [Chapter 4](https://web.stanford.edu/~jurafsky/slp3/) of the SLP3 book.\n",
    "\n",
    "In this assignment, you are provided with two datasets. One is suitable for **Multinomial Naive Bayes**, while the other is appropriate for **Bernoulli Naive Bayes**. Your task is to:\n",
    "1. Analyze both datasets and determine which Naive Bayes model to apply based on the dataset’s characteristics.\n",
    "2. Implement both **Multinomial** and **Bernoulli Naive Bayes** from scratch, adhering to the guidelines below regarding allowed libraries.\n",
    "3. Finally, apply the corresponding models using the `sklearn` library and compare the results with your own implementation.\n",
    "\n",
    "### Guidelines:\n",
    "- Use only **numpy** and **pandas** for the manual implementation of Naive Bayes classifiers. No other libraries should be used for this part.\n",
    "- For the final part of the assignment, you will use **sklearn** to compare your implementation results.\n",
    "\n",
    "\n",
    "### Instructions\n",
    "\n",
    "- Follow along with the notebook, filling out the necessary code where instructed.\n",
    "\n",
    "- <span style=\"color: red;\">Read the Submission Instructions, Plagiarism Policy, and Late Days Policy in the attached PDF.</span>\n",
    "\n",
    "- <span style=\"color: red;\">Make sure to run all cells for credit.</span>\n",
    "\n",
    "- <span style=\"color: red;\">Do not remove any pre-written code.</span>\n",
    "\n",
    "- <span style=\"color: red;\">You must attempt all parts.</span>"
   ]
  },
  {
   "cell_type": "markdown",
   "metadata": {},
   "source": [
    "All necessary libraries for this assignment have already been added. You are not allowed to add any additional imports."
   ]
  },
  {
   "cell_type": "code",
   "execution_count": null,
   "metadata": {},
   "outputs": [],
   "source": [
    "!pip install datasets\n",
    "!pip install nltk"
   ]
  },
  {
   "cell_type": "code",
   "execution_count": 1,
   "metadata": {},
   "outputs": [
    {
     "name": "stderr",
     "output_type": "stream",
     "text": [
      "[nltk_data] Downloading package punkt to\n",
      "[nltk_data]     C:\\Users\\razah\\AppData\\Roaming\\nltk_data...\n",
      "[nltk_data]   Package punkt is already up-to-date!\n"
     ]
    },
    {
     "data": {
      "text/plain": [
       "True"
      ]
     },
     "execution_count": 1,
     "metadata": {},
     "output_type": "execute_result"
    }
   ],
   "source": [
    "# Standard library imports\n",
    "import numpy as np\n",
    "import regex as re\n",
    "\n",
    "# Third-party library imports\n",
    "import pandas as pd\n",
    "from sklearn.preprocessing import LabelBinarizer\n",
    "from sklearn.model_selection import train_test_split\n",
    "from sklearn.metrics import accuracy_score\n",
    "import nltk\n",
    "from datasets import load_dataset\n",
    "\n",
    "# NLTK-specific download\n",
    "nltk.download(\"punkt\")"
   ]
  },
  {
   "cell_type": "markdown",
   "metadata": {},
   "source": [
    "## 1. Loading the Datasets\n",
    "\n",
    "In this assignment, you are provided with two datasets:\n",
    "\n",
    "- **Dataset 1**: Golf Dataset (available in CSV format in the given folder)\n",
    "- **Dataset 2**: Tweet Evaluation Dataset (to be loaded from Hugging Face)\n",
    "\n",
    "### Instructions:\n",
    "\n",
    "1. **Golf Dataset**: You can find the CSV file of the Golf Dataset in the resources provided with this assignment. This dataset aims to explore factors that influence the decision to play golf, which could be valuable for predictive modeling tasks. ​​\n",
    "\n",
    "2. **Tweet Evaluation Dataset**: Instead of downloading the dataset manually, we will be using the [`datasets`](https://huggingface.co/docs/datasets) library from Hugging Face to automatically download and manage the Tweet Eval dataset. This library is part of the Hugging Face ecosystem, widely used for Natural Language Processing (NLP) tasks. The `datasets` library not only downloads the dataset but also offers a standardized interface for accessing and handling the data, making it compatible with other popular libraries like Pandas and PyTorch. Format each split of the dataset into a Pandas DataFrame. The columns should be `text` and `label`, where `text` is the sentence and `label` is the emotion label. The goal is to classify tweets into various emotional categories (e.g., joy, sadness, anger) by analyzing their content.\n",
    "\n",
    "   You can explore the extensive list of datasets available on Hugging Face [here](https://huggingface.co/datasets).\n",
    "\n",
    "### Why Use Hugging Face?\n",
    "\n",
    "Familiarizing yourself with Hugging Face tools now will be beneficial for future assignments and projects, where we will be relying on this platform for various NLP-related tasks. It simplifies data handling and ensures smooth integration with machine learning workflows.\n",
    "\n",
    "### Task:\n",
    "\n",
    "- Explore both datasets and identify their key features. This will help you determine which dataset is best suited for **Multinomial Naive Bayes** and which is better suited for **Bernoulli Naive Bayes**. You can read more about Bernoulli Naive Bayes [here](https://medium.com/@gridflowai/part-2-dive-into-bernoulli-naive-bayes-d0cbcbabb775).\n"
   ]
  },
  {
   "cell_type": "code",
   "execution_count": 2,
   "metadata": {},
   "outputs": [],
   "source": [
    "# code here\n",
    "golf_data = pd.read_csv('D:\\\\LUMS Files\\\\Fall24-25\\\\ML\\\\Codes\\\\PA1.1\\\\golf_data.csv')"
   ]
  },
  {
   "cell_type": "code",
   "execution_count": 3,
   "metadata": {},
   "outputs": [],
   "source": [
    "# code here\n",
    "tweet_data = load_dataset('tweet_eval', 'emotion', cache_dir=\"datasets\")"
   ]
  },
  {
   "cell_type": "markdown",
   "metadata": {},
   "source": [
    "##### Before proceeding with further tasks, ensure you have determined which type of Naive Bayes is most suitable for each dataset."
   ]
  },
  {
   "cell_type": "markdown",
   "metadata": {},
   "source": [
    "## 2. Data Preprocessing"
   ]
  },
  {
   "cell_type": "markdown",
   "metadata": {},
   "source": [
    "### 2.1 Preprocessing the Golf Dataset"
   ]
  },
  {
   "cell_type": "markdown",
   "metadata": {},
   "source": [
    "In this task, you will apply one-hot encoding to the categorical columns of the Golf dataset and split the data into training and test sets. You can use `sklearn's` `train_test_split` which has been imported for you above. Ensure that the `test_size` parameter is set to 0.3."
   ]
  },
  {
   "cell_type": "code",
   "execution_count": 4,
   "metadata": {},
   "outputs": [],
   "source": [
    "X = golf_data.drop('Play', axis=1)\n",
    "y = golf_data['Play']\n",
    "\n",
    "X_encoded = pd.get_dummies(X, drop_first=True)\n",
    "X_encoded = X_encoded.astype(int)\n",
    "\n",
    "X_train, X_test, y_train, y_test = train_test_split(X_encoded, y, test_size=0.3, random_state=42)\n",
    "X_train, X_val, y_train, y_val = train_test_split(X_train, y_train, test_size=0.1, random_state=42)"
   ]
  },
  {
   "cell_type": "markdown",
   "metadata": {},
   "source": [
    "### 2.2 Preprocessing the Tweet Eval Dataset"
   ]
  },
  {
   "cell_type": "markdown",
   "metadata": {},
   "source": [
    "At this stage, you need to pre-process your data to ensure it's in a clean format for further analysis. The following steps should be performed:\n",
    "\n",
    "- Remove any URL.\n",
    "- Remove punctuation and non-alphanumeric characters.\n",
    "- Convert all text to lowercase.\n",
    "- Remove any extra whitespace.\n",
    "- Eliminate common stopwords.\n",
    "\n",
    "In the cell below, implement a function that carries out these tasks. You can utilize the `re` library for cleaning text and the `nltk` library for removing stopwords.\n",
    "\n",
    "Once the function is complete, apply it to the `text` column of your dataset to obtain the preprocessed text.\n"
   ]
  },
  {
   "cell_type": "code",
   "execution_count": 5,
   "metadata": {},
   "outputs": [
    {
     "name": "stderr",
     "output_type": "stream",
     "text": [
      "[nltk_data] Downloading package stopwords to\n",
      "[nltk_data]     C:\\Users\\razah\\AppData\\Roaming\\nltk_data...\n",
      "[nltk_data]   Package stopwords is already up-to-date!\n"
     ]
    }
   ],
   "source": [
    "from nltk.corpus import stopwords\n",
    "\n",
    "nltk.download('stopwords')\n",
    "stop_words = set(stopwords.words('english'))\n",
    "\n",
    "tweet_data = load_dataset('tweet_eval', 'emotion', cache_dir=\"datasets\")\n",
    "\n",
    "def preprocess_text(text):\n",
    "    text = re.sub(r'http\\S+|www\\S+|https\\S+', '', text, flags=re.MULTILINE)\n",
    "    text = text.lower()\n",
    "    text = text.replace('user', '')\n",
    "    text = re.sub(r'[^a-zA-Z0-9\\s]', '', text)\n",
    "    text = re.sub(r'\\s+', ' ', text).strip()\n",
    "    text = ' '.join([word for word in text.split() if word not in stop_words])\n",
    "    \n",
    "    text = text.lower()\n",
    "    return text\n",
    "\n",
    "tweet_data = tweet_data.map(lambda x: {'text': preprocess_text(x['text'])})\n",
    "tetx = tweet_data['train']['text']"
   ]
  },
  {
   "cell_type": "markdown",
   "metadata": {},
   "source": [
    "## 3. Implementing Naive Bayes from Scratch"
   ]
  },
  {
   "cell_type": "markdown",
   "metadata": {},
   "source": [
    "## 3.1 Bernoulli Naive Bayes\n",
    "\n",
    "### From Scratch\n",
    "\n",
    "Recall that the Bernoulli Naive Bayes model is based on **Bayes' Theorem**:\n",
    "\n",
    "$$\n",
    "P(y \\mid x) = \\frac{P(x \\mid y)P(y)}{P(x)}\n",
    "$$\n",
    "\n",
    "What we really want is to find the class \\(c\\) that maximizes \\(P(c \\mid x)\\), so we can use the following equation:\n",
    "\n",
    "$$\n",
    "\\hat{c} = \\underset{c}{\\text{argmax}} \\ P(c \\mid x) = \\underset{c}{\\text{argmax}} \\ P(x \\mid c)P(c)\n",
    "$$\n",
    "\n",
    "In the case of **Bernoulli Naive Bayes**, we assume that each word \\(x_i\\) in a sentence follows a **Bernoulli distribution**, meaning that the word either appears (1) or does not appear (0) in the document. We can simplify the formula using this assumption:\n",
    "\n",
    "$$\n",
    "\\hat{c} = \\underset{c}{\\text{argmax}} \\ P(c) \\prod_{i=1}^{n} P(x_i = 1 \\mid c)^{x_i} P(x_i = 0 \\mid c)^{1 - x_i}\n",
    "$$\n",
    "\n",
    "Where:\n",
    "\n",
    "- $x_i = 1$ if the $i^{\\text{th}}$ word is present in the document.\n",
    "- $x_i = 0$ if the $i^{\\text{th}}$ word is not present in the document.\n",
    "\n",
    "\n",
    "We can estimate $P(c)$ by counting the number of times each class appears in our training data, and dividing by the total number of training examples. We can estimate $P(x_i = 1 \\mid c)$ by counting the number of documents in class $c$ that contain the word $x_i$, and dividing by the total number of documents in class $c$.\n",
    "\n",
    "### **Important: Laplace Smoothing**\n",
    "\n",
    "When calculating $P(x_i = 1 \\mid c)$ and $P(x_i = 0 \\mid c)$, we apply **Laplace smoothing** to avoid zero probabilities. This is essential because, without it, any word that has not appeared in a document of class $c$ will have a probability of zero, which would make the overall product zero, leading to incorrect classification.\n",
    "\n",
    "**Reason**: Laplace smoothing ensures that we don't encounter zero probabilities by adding a small constant (typically 1) to both the numerator and the denominator. This is particularly useful when a word has never appeared in the training data for a specific class.\n",
    "\n",
    "The smoothed probability formula is:\n",
    "\n",
    "$$\n",
    "P(x_i = 1 \\mid c) = \\frac{\\text{count of documents in class } c \\text{ where } x_i = 1 + 1}{\\text{total documents in class } c + 2}\n",
    "$$\n",
    "\n",
    "This ensures no word has a zero probability, even if it was unseen in the training data.\n",
    "\n",
    "### Avoiding Underflow with Logarithms:\n",
    "\n",
    "To avoid underflow errors due to multiplying small probabilities, we apply logarithms, which convert the product into a sum:\n",
    "\n",
    "$$\n",
    "\\hat{c} = \\underset{c}{\\text{argmax}} \\ \\log P(c) + \\sum_{i=1}^{n} \\left[ x_i \\log P(x_i = 1 \\mid c) + (1 - x_i) \\log P(x_i = 0 \\mid c) \\right]\n",
    "$$\n",
    "\n",
    "You will now implement this algorithm.\n",
    "\n",
    "<span style=\"color: red;\"> For this part, the only external library you will need is `numpy`. You are not allowed to use anything else.</span>\n"
   ]
  },
  {
   "cell_type": "code",
   "execution_count": 6,
   "metadata": {},
   "outputs": [],
   "source": [
    "class BernoulliNaiveBayes:\n",
    "    def __init__(self):\n",
    "        self.class_probabilities = None\n",
    "        self.feature_probabilities = None\n",
    "        self.classes = None\n",
    "\n",
    "    def fit(self, X, y):\n",
    "        n_samples, n_features = X.shape\n",
    "        self.classes = np.unique(y)\n",
    "        n_classes = len(self.classes)\n",
    "\n",
    "        self.class_probabilities = np.zeros(n_classes)\n",
    "        self.feature_probabilities = np.zeros((n_classes, n_features, 2))\n",
    "\n",
    "        for idx, c in enumerate(self.classes):\n",
    "            X_c = X[y == c]\n",
    "            self.class_probabilities[idx] = X_c.shape[0] / n_samples\n",
    "            self.feature_probabilities[idx, :, 1] = (np.sum(X_c, axis=0) + 1) / (X_c.shape[0] + 2)\n",
    "            self.feature_probabilities[idx, :, 0] = 1 - self.feature_probabilities[idx, :, 1]\n",
    "\n",
    "    def predict(self, X):\n",
    "        n_samples, n_features = X.shape\n",
    "        n_classes = len(self.classes)\n",
    "        \n",
    "        log_probabilities = np.zeros((n_samples, n_classes))\n",
    "\n",
    "        for idx, c in enumerate(self.classes):\n",
    "            log_prior = np.log(self.class_probabilities[idx])\n",
    "            log_likelihood = X * np.log(self.feature_probabilities[idx, :, 1]) + \\\n",
    "                             (1 - X) * np.log(self.feature_probabilities[idx, :, 0])\n",
    "            \n",
    "            log_probabilities[:, idx] = log_prior + np.sum(log_likelihood, axis=1)\n",
    "\n",
    "        return self.classes[np.argmax(log_probabilities, axis=1)]"
   ]
  },
  {
   "cell_type": "markdown",
   "metadata": {},
   "source": [
    "Now use your implementation to train a Naive Bayes model on the training data, and generate predictions for the Validation Set.\n",
    "\n",
    "Report the Accuracy, Precision, Recall, and F1 score of your model on the validation data. Also display the Confusion Matrix. You are allowed to use `sklearn.metrics` for this.\n",
    "\n",
    "We wiill be discussing these metrics in detail in the upcoming lectures."
   ]
  },
  {
   "cell_type": "code",
   "execution_count": 7,
   "metadata": {},
   "outputs": [
    {
     "name": "stdout",
     "output_type": "stream",
     "text": [
      "Bernoulli Naive Bayes Metrics (Validation Data):\n",
      "Accuracy: 0.8026\n",
      "Precision: 0.7334\n",
      "Recall: 0.8026\n",
      "F1 Score: 0.7263\n",
      "Confusion Matrix:\n",
      "[[428   4]\n",
      " [102   3]]\n",
      "Bernoulli Naive Bayes Metrics (Test Data):\n",
      "Accuracy: 0.8200\n",
      "Precision: 0.7685\n",
      "Recall: 0.8200\n",
      "F1 Score: 0.7494\n",
      "Confusion Matrix:\n",
      "[[1872   13]\n",
      " [ 401   14]]\n"
     ]
    }
   ],
   "source": [
    "from sklearn.metrics import accuracy_score, precision_score, recall_score, f1_score, confusion_matrix\n",
    "\n",
    "model = BernoulliNaiveBayes()\n",
    "model.fit(X_train, y_train)\n",
    "\n",
    "#-----------------------------------------------------------------------------------#\n",
    "\n",
    "y_pred_val = model.predict(X_val)\n",
    "\n",
    "accuracy = accuracy_score(y_val, y_pred_val)\n",
    "precision = precision_score(y_val, y_pred_val, average='weighted')\n",
    "recall = recall_score(y_val, y_pred_val, average='weighted')\n",
    "f1 = f1_score(y_val, y_pred_val, average='weighted')\n",
    "\n",
    "print(\"Bernoulli Naive Bayes Metrics (Validation Data):\")\n",
    "print(f\"Accuracy: {accuracy:.4f}\")\n",
    "print(f\"Precision: {precision:.4f}\")\n",
    "print(f\"Recall: {recall:.4f}\")\n",
    "print(f\"F1 Score: {f1:.4f}\")\n",
    "conf_matrix = confusion_matrix(y_val, y_pred_val)\n",
    "print(\"Confusion Matrix:\")\n",
    "print(conf_matrix)\n",
    "\n",
    "#-----------------------------------------------------------------------------------#\n",
    "\n",
    "y_pred_test = model.predict(X_test)\n",
    "\n",
    "accuracy = accuracy_score(y_test, y_pred_test)\n",
    "precision = precision_score(y_test, y_pred_test, average='weighted')\n",
    "recall = recall_score(y_test, y_pred_test, average='weighted')\n",
    "f1 = f1_score(y_test, y_pred_test, average='weighted')\n",
    "\n",
    "print(\"Bernoulli Naive Bayes Metrics (Test Data):\")\n",
    "print(f\"Accuracy: {accuracy:.4f}\")\n",
    "print(f\"Precision: {precision:.4f}\")\n",
    "print(f\"Recall: {recall:.4f}\")\n",
    "print(f\"F1 Score: {f1:.4f}\")\n",
    "conf_matrix = confusion_matrix(y_test, y_pred_test)\n",
    "print(\"Confusion Matrix:\")\n",
    "print(conf_matrix)"
   ]
  },
  {
   "cell_type": "markdown",
   "metadata": {},
   "source": [
    "## 3.2 Multinomial Naive Bayes (Manual Implementation)"
   ]
  },
  {
   "cell_type": "markdown",
   "metadata": {},
   "source": [
    "### Vectorizing sentences with Bag of Words\n",
    "\n",
    "Now that we have loaded in our data, we will need to vectorize our sentences - this is necessary to be able to numericalize our inputs before feeding them into our model. \n",
    "\n",
    "We will be using a Bag of Words approach to vectorize our sentences. This is a simple approach that counts the number of times each word appears in a sentence. \n",
    "\n",
    "The element at index $\\text{i}$ of the vector will be the number of times the $\\text{i}^{\\text{th}}$ word in our vocabulary appears in the sentence. So, for example, if our vocabulary is `[\"the\", \"cat\", \"sat\", \"on\", \"mat\"]`, and our sentence is `\"the cat sat on the mat\"`, then our vector will be `[2, 1, 1, 1, 1]`.\n",
    "\n",
    "You will now create a `BagOfWords` class to vectorize our sentences. This will involve creating\n",
    "\n",
    "1. A vocabulary from our corpus\n",
    "\n",
    "2. A mapping from words to indices in our vocabulary\n",
    "\n",
    "3. A function to vectorize a sentence in the fashion described above\n",
    "\n",
    "It may help you to define something along the lines of a `fit` and a `vectorize` method."
   ]
  },
  {
   "cell_type": "code",
   "execution_count": 8,
   "metadata": {},
   "outputs": [],
   "source": [
    "class BagOfWords:\n",
    "    def __init__(self):\n",
    "        self.vocab = {}\n",
    "    \n",
    "    def fit(self, corpus):\n",
    "        vocab_set = set()\n",
    "        \n",
    "        for sentence in corpus:\n",
    "            words = sentence.split()\n",
    "            vocab_set.update(words)\n",
    "        \n",
    "        self.vocab = {word: idx for idx, word in enumerate(sorted(vocab_set))}\n",
    "\n",
    "    def vectorize(self, sentence):\n",
    "        vector = np.zeros(len(self.vocab))\n",
    "        words = sentence.split()\n",
    "        \n",
    "        for word in words:\n",
    "            if word in self.vocab:\n",
    "                vector[self.vocab[word]] += 1\n",
    "                \n",
    "        return vector\n",
    "\n",
    "    def transform(self, corpus):\n",
    "        return np.array([self.vectorize(sentence) for sentence in corpus])"
   ]
  },
  {
   "cell_type": "markdown",
   "metadata": {},
   "source": [
    "For a sanity check, you can manually set the vocabulary of your `BagOfWords` object to the vocabulary of the example above, and check that the vectorization of the sentence is correct.\n",
    "\n",
    "Once you have implemented the `BagOfWords` class, fit it to the training data, and vectorize the training, validation, and test data."
   ]
  },
  {
   "cell_type": "code",
   "execution_count": 9,
   "metadata": {},
   "outputs": [],
   "source": [
    "corpus_train = tweet_data['train']['text']\n",
    "corpus_val = tweet_data['validation']['text']\n",
    "corpus_test = tweet_data['test']['text']\n",
    "\n",
    "bow = BagOfWords()\n",
    "bow.fit(corpus_train)\n",
    "\n",
    "X_train_bow = bow.transform(corpus_train)\n",
    "X_val_bow = bow.transform(corpus_val)\n",
    "X_test_bow = bow.transform(corpus_test)"
   ]
  },
  {
   "cell_type": "markdown",
   "metadata": {},
   "source": [
    "\n",
    "\n",
    "### From Scratch\n",
    "\n",
    "Now that we have vectorized our sentences, we can implement our Naive Bayes model. Recall that the Naive Bayes model is based off of the Bayes Theorem:\n",
    "\n",
    "$$\n",
    "P(y \\mid x) = \\frac{P(x \\mid y)P(y)}{P(x)}\n",
    "$$\n",
    "\n",
    "What we really want is to find the class $c$ that maximizes $P(c \\mid x)$, so we can use the following equation:\n",
    "\n",
    "$$\n",
    "\\hat{c} = \\underset{c}{\\text{argmax}} \\ P(c \\mid x) = \\underset{c}{\\text{argmax}} \\ P(x \\mid c)P(c)\n",
    "$$\n",
    "\n",
    "We can then use the Naive Bayes assumption to simplify this:\n",
    "\n",
    "$$\n",
    "\\hat{c} = \\underset{c}{\\text{argmax}} \\ P(c \\mid x) = \\underset{c}{\\text{argmax}} \\ P(c) \\prod_{i=1}^{n} P(x_i \\mid c)\n",
    "$$\n",
    "\n",
    "Where $x_i$ is the $i^{\\text{th}}$ word in our sentence.\n",
    "\n",
    "All of these probabilities can be estimated from our training data. We can estimate $P(c)$ by counting the number of times each class appears in our training data, and dividing by the total number of training examples. We can estimate $P(x_i \\mid c)$ by counting the number of times the $i^{\\text{th}}$ word in our vocabulary appears in sentences of class $c$, and dividing by the total number of words in sentences of class $c$.\n",
    "\n",
    "It would help to apply logarithms to the above equation so that we translate the product into a sum, and avoid underflow errors. This will give us the following equation:\n",
    "\n",
    "$$\n",
    "\\hat{c} = \\underset{c}{\\text{argmax}} \\ \\log P(c) + \\sum_{i=1}^{n} \\log P(x_i \\mid c)\n",
    "$$\n",
    "\n",
    "You will now implement this algorithm. It would help to go through [this chapter from SLP3](https://web.stanford.edu/~jurafsky/slp3/4.pdf) to get a better understanding of the model - **it is recommended base your implementation off the pseudocode that has been provided on Page 6**. You can either make a `NaiveBayes` class, or just implement the algorithm across two functions.\n",
    "\n",
    "<span style=\"color: red;\"> For this part, the only external library you will need is `numpy`. You are not allowed to use anything else.</span>"
   ]
  },
  {
   "cell_type": "code",
   "execution_count": 10,
   "metadata": {},
   "outputs": [],
   "source": [
    "class MultinomialNaiveBayes:\n",
    "    def __init__(self):\n",
    "        self.class_priors = {}\n",
    "        self.conditional_probs = {}\n",
    "        self.vocab = None\n",
    "        self.class_counts = {}\n",
    "    \n",
    "    def fit(self, X, y):\n",
    "        n_samples, n_features = X.shape\n",
    "        self.vocab = np.arange(n_features)\n",
    "\n",
    "        self.class_counts = {}\n",
    "        for label in y:\n",
    "            if label in self.class_counts:\n",
    "                self.class_counts[label] += 1\n",
    "            else:\n",
    "                self.class_counts[label] = 1\n",
    "        \n",
    "        total_samples = len(y)\n",
    "        self.class_priors = {label: count / total_samples for label, count in self.class_counts.items()}\n",
    "        \n",
    "        self.conditional_probs = {}\n",
    "        for label in self.class_counts:\n",
    "            self.conditional_probs[label] = np.zeros(n_features)\n",
    "        \n",
    "        for idx, label in enumerate(y):\n",
    "            self.conditional_probs[label] += X[idx]\n",
    "        \n",
    "        for label in self.conditional_probs:\n",
    "            total_words = self.conditional_probs[label].sum()\n",
    "            self.conditional_probs[label] = (self.conditional_probs[label] + 1) / (total_words + n_features)\n",
    "\n",
    "    def predict(self, X):\n",
    "        predictions = []\n",
    "        for x in X:\n",
    "            log_probs = {}\n",
    "            for label in self.class_priors:\n",
    "                log_prob = np.log(self.class_priors[label])\n",
    "                log_prob += np.sum(np.log(self.conditional_probs[label]) * x)\n",
    "                log_probs[label] = log_prob\n",
    "            \n",
    "            predicted_class = max(log_probs, key=log_probs.get)\n",
    "            predictions.append(predicted_class)\n",
    "        \n",
    "        return predictions"
   ]
  },
  {
   "cell_type": "markdown",
   "metadata": {},
   "source": [
    "Now use your implementation to train a Naive Bayes model on the training data, and generate predictions for the Validation Set.\n",
    "\n",
    "Report the Accuracy, Precision, Recall, and F1 score of your model on the validation data. Also display the Confusion Matrix. You are allowed to use `sklearn.metrics` for this."
   ]
  },
  {
   "cell_type": "code",
   "execution_count": 11,
   "metadata": {},
   "outputs": [
    {
     "name": "stdout",
     "output_type": "stream",
     "text": [
      "Multinomial Naive Bayes Metrics (Validation Data):\n",
      "Accuracy: 0.6524\n",
      "Precision: 0.6694\n",
      "Recall: 0.6524\n",
      "F1 Score: 0.6299\n",
      "Confusion Matrix:\n",
      "[[139   8   0  13]\n",
      " [ 34  46   1  16]\n",
      " [ 14   2   4   8]\n",
      " [ 27   7   0  55]]\n",
      "Bernoulli Naive Bayes Metrics (Test Data):\n",
      "Accuracy: 0.6636\n",
      "Precision: 0.6828\n",
      "Recall: 0.6636\n",
      "F1 Score: 0.6419\n",
      "Confusion Matrix:\n",
      "[[493  19   1  45]\n",
      " [103 183   3  69]\n",
      " [ 68  12  19  24]\n",
      " [111  20   3 248]]\n"
     ]
    }
   ],
   "source": [
    "mnb = MultinomialNaiveBayes()\n",
    "mnb.fit(X_train_bow, tweet_data['train']['label'])\n",
    "\n",
    "#-----------------------------------------------------------------------------------#\n",
    "\n",
    "y_val_pred = mnb.predict(X_val_bow)\n",
    "\n",
    "accuracy = accuracy_score(tweet_data['validation']['label'], y_val_pred)\n",
    "precision = precision_score(tweet_data['validation']['label'], y_val_pred, average='weighted')\n",
    "recall = recall_score(tweet_data['validation']['label'], y_val_pred, average='weighted')\n",
    "f1 = f1_score(tweet_data['validation']['label'], y_val_pred, average='weighted')\n",
    "conf_matrix = confusion_matrix(tweet_data['validation']['label'], y_val_pred)\n",
    "\n",
    "print(\"Multinomial Naive Bayes Metrics (Validation Data):\")\n",
    "print(f\"Accuracy: {accuracy:.4f}\")\n",
    "print(f\"Precision: {precision:.4f}\")\n",
    "print(f\"Recall: {recall:.4f}\")\n",
    "print(f\"F1 Score: {f1:.4f}\")\n",
    "print(\"Confusion Matrix:\")\n",
    "print(conf_matrix)\n",
    "\n",
    "#-----------------------------------------------------------------------------------#\n",
    "\n",
    "y_test_pred = mnb.predict(X_test_bow)\n",
    "\n",
    "accuracy = accuracy_score(tweet_data['test']['label'], y_test_pred)\n",
    "precision = precision_score(tweet_data['test']['label'], y_test_pred, average='weighted')\n",
    "recall = recall_score(tweet_data['test']['label'], y_test_pred, average='weighted')\n",
    "f1 = f1_score(tweet_data['test']['label'], y_test_pred, average='weighted')\n",
    "conf_matrix = confusion_matrix(tweet_data['test']['label'], y_test_pred)\n",
    "\n",
    "print(\"Bernoulli Naive Bayes Metrics (Test Data):\")\n",
    "print(f\"Accuracy: {accuracy:.4f}\")\n",
    "print(f\"Precision: {precision:.4f}\")\n",
    "print(f\"Recall: {recall:.4f}\")\n",
    "print(f\"F1 Score: {f1:.4f}\")\n",
    "print(\"Confusion Matrix:\")\n",
    "print(conf_matrix)"
   ]
  },
  {
   "cell_type": "markdown",
   "metadata": {},
   "source": [
    "## 4. Implementing Naive Bayes using sklearn\n",
    "\n",
    "In this section, you will compare your manual implementations with `sklearn`'s implementations of both of the Naive Bayes models we have covered above."
   ]
  },
  {
   "cell_type": "code",
   "execution_count": 12,
   "metadata": {},
   "outputs": [
    {
     "name": "stdout",
     "output_type": "stream",
     "text": [
      "Sklearn Bernoulli Naive Bayes Metrics (Validation):\n",
      "Accuracy: 0.8026\n",
      "Precision: 0.7334\n",
      "Recall: 0.8026\n",
      "F1 Score: 0.7263\n",
      "Confusion Matrix:\n",
      "[[428   4]\n",
      " [102   3]]\n",
      "Sklearn Bernoulli Naive Bayes Metrics (Test):\n",
      "Accuracy: 0.8200\n",
      "Precision: 0.7685\n",
      "Recall: 0.8200\n",
      "F1 Score: 0.7494\n",
      "Confusion Matrix:\n",
      "[[1872   13]\n",
      " [ 401   14]]\n",
      "Sklearn Multinomial Naive Bayes Metrics (Validation):\n",
      "Accuracy: 0.6524\n",
      "Precision: 0.6694\n",
      "Recall: 0.6524\n",
      "F1 Score: 0.6299\n",
      "Confusion Matrix:\n",
      "[[139   8   0  13]\n",
      " [ 34  46   1  16]\n",
      " [ 14   2   4   8]\n",
      " [ 27   7   0  55]]\n",
      "Sklearn Multinomial Naive Bayes Metrics:\n",
      "Accuracy: 0.6636\n",
      "Precision: 0.6828\n",
      "Recall: 0.6636\n",
      "F1 Score: 0.6419\n",
      "Confusion Matrix:\n",
      "[[493  19   1  45]\n",
      " [103 183   3  69]\n",
      " [ 68  12  19  24]\n",
      " [111  20   3 248]]\n"
     ]
    }
   ],
   "source": [
    "from sklearn.naive_bayes import BernoulliNB, MultinomialNB\n",
    "\n",
    "bnb = BernoulliNB()\n",
    "bnb.fit(X_train, y_train)\n",
    "\n",
    "y_predval_sk_bnb = bnb.predict(X_val)\n",
    "\n",
    "accuracy_bnb = accuracy_score(y_val, y_predval_sk_bnb)\n",
    "precision_bnb = precision_score(y_val, y_predval_sk_bnb, average='weighted')\n",
    "recall_bnb = recall_score(y_val, y_predval_sk_bnb, average='weighted')\n",
    "f1_bnb = f1_score(y_val, y_predval_sk_bnb, average='weighted')\n",
    "conf_matrix_bnb = confusion_matrix(y_val, y_predval_sk_bnb)\n",
    "\n",
    "print(\"Sklearn Bernoulli Naive Bayes Metrics (Validation):\")\n",
    "print(f\"Accuracy: {accuracy_bnb:.4f}\")\n",
    "print(f\"Precision: {precision_bnb:.4f}\")\n",
    "print(f\"Recall: {recall_bnb:.4f}\")\n",
    "print(f\"F1 Score: {f1_bnb:.4f}\")\n",
    "print(\"Confusion Matrix:\")\n",
    "print(conf_matrix_bnb)\n",
    "\n",
    "y_predtest_sk_bnb = bnb.predict(X_test)\n",
    "\n",
    "accuracy_bnb = accuracy_score(y_test, y_predtest_sk_bnb)\n",
    "precision_bnb = precision_score(y_test, y_predtest_sk_bnb, average='weighted')\n",
    "recall_bnb = recall_score(y_test, y_predtest_sk_bnb, average='weighted')\n",
    "f1_bnb = f1_score(y_test, y_predtest_sk_bnb, average='weighted')\n",
    "conf_matrix_bnb = confusion_matrix(y_test, y_predtest_sk_bnb)\n",
    "\n",
    "print(\"Sklearn Bernoulli Naive Bayes Metrics (Test):\")\n",
    "print(f\"Accuracy: {accuracy_bnb:.4f}\")\n",
    "print(f\"Precision: {precision_bnb:.4f}\")\n",
    "print(f\"Recall: {recall_bnb:.4f}\")\n",
    "print(f\"F1 Score: {f1_bnb:.4f}\")\n",
    "print(\"Confusion Matrix:\")\n",
    "print(conf_matrix_bnb)\n",
    "\n",
    "#------------------------------------------------------------------------------------------------------------#\n",
    "\n",
    "mnb_sklearn = MultinomialNB()\n",
    "mnb_sklearn.fit(X_train_bow, tweet_data['train']['label'])\n",
    "\n",
    "y_predval_sk_mnb = mnb_sklearn.predict(X_val_bow)\n",
    "\n",
    "accuracy_mnb = accuracy_score(tweet_data['validation']['label'], y_predval_sk_mnb)\n",
    "precision_mnb = precision_score(tweet_data['validation']['label'], y_predval_sk_mnb, average='weighted')\n",
    "recall_mnb = recall_score(tweet_data['validation']['label'], y_predval_sk_mnb, average='weighted')\n",
    "f1_mnb = f1_score(tweet_data['validation']['label'], y_predval_sk_mnb, average='weighted')\n",
    "conf_matrix_mnb = confusion_matrix(tweet_data['validation']['label'], y_predval_sk_mnb)\n",
    "\n",
    "print(\"Sklearn Multinomial Naive Bayes Metrics (Validation):\")\n",
    "print(f\"Accuracy: {accuracy_mnb:.4f}\")\n",
    "print(f\"Precision: {precision_mnb:.4f}\")\n",
    "print(f\"Recall: {recall_mnb:.4f}\")\n",
    "print(f\"F1 Score: {f1_mnb:.4f}\")\n",
    "print(\"Confusion Matrix:\")\n",
    "print(conf_matrix_mnb)\n",
    "\n",
    "y_predtest_sk_mnb = mnb_sklearn.predict(X_test_bow)\n",
    "\n",
    "accuracy_mnb = accuracy_score(tweet_data['test']['label'], y_predtest_sk_mnb)\n",
    "precision_mnb = precision_score(tweet_data['test']['label'], y_predtest_sk_mnb, average='weighted')\n",
    "recall_mnb = recall_score(tweet_data['test']['label'], y_predtest_sk_mnb, average='weighted')\n",
    "f1_mnb = f1_score(tweet_data['test']['label'], y_predtest_sk_mnb, average='weighted')\n",
    "conf_matrix_mnb = confusion_matrix(tweet_data['test']['label'], y_predtest_sk_mnb)\n",
    "\n",
    "print(\"Sklearn Multinomial Naive Bayes Metrics:\")\n",
    "print(f\"Accuracy: {accuracy_mnb:.4f}\")\n",
    "print(f\"Precision: {precision_mnb:.4f}\")\n",
    "print(f\"Recall: {recall_mnb:.4f}\")\n",
    "print(f\"F1 Score: {f1_mnb:.4f}\")\n",
    "print(\"Confusion Matrix:\")\n",
    "print(conf_matrix_mnb)\n"
   ]
  },
  {
   "cell_type": "markdown",
   "metadata": {},
   "source": [
    "## 5. Conclusion\n",
    "\n",
    "1. Explain the key factors you considered when determining which dataset is more suitable for **Multinomial Naive Bayes** and which is better suited for **Bernoulli Naive Bayes**."
   ]
  },
  {
   "cell_type": "markdown",
   "metadata": {},
   "source": [
    "***Nature of the Data:***\n",
    "Multinomial is best suited for datasets where the features represent counts or frequencies of events. Whereas Binomial is ideal for datasets where the features are binary.\n",
    "\n",
    "***Data Distribution:***\n",
    "Multinomial is suited for data that has features that can take many non-zero integer values. However Binomial checks for only the absence or presence of a value.\n",
    "\n",
    "***Pattern Finding:***\n",
    "Multinomial assumes independence between features but allows for variability in feature count, which can capture more nuanced patterns in the data. However, Binomial only assumes independence of features based solely on presence/absence, which may be simpler but might miss out on patterns related to frequency.\n",
    "\n",
    "Thus the choice between Binomial and Multinomial for a dataset comes depends on wether the frequency of a feature plays a big role in determening th epredicted output. If it's presence or absence alone is enough of a determening factor, then Binomial Naive Bayes is preferred. Thus why it was used to predict outputs for the Golf Dataset."
   ]
  }
 ],
 "metadata": {
  "kernelspec": {
   "display_name": "Python 3",
   "language": "python",
   "name": "python3"
  },
  "language_info": {
   "codemirror_mode": {
    "name": "ipython",
    "version": 3
   },
   "file_extension": ".py",
   "mimetype": "text/x-python",
   "name": "python",
   "nbconvert_exporter": "python",
   "pygments_lexer": "ipython3",
   "version": "3.12.3"
  }
 },
 "nbformat": 4,
 "nbformat_minor": 2
}
