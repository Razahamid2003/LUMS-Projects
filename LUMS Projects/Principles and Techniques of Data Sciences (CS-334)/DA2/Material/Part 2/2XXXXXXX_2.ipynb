{
  "cells": [
    {
      "cell_type": "code",
      "execution_count": null,
      "metadata": {},
      "outputs": [],
      "source": [
        "#Uncomment one of these lines(according to your pip version) if you haven't installed otter before\n",
        "# !pip install otter-grader \n",
        "# !pip3 install otter-grader"
      ]
    },
    {
      "cell_type": "code",
      "execution_count": null,
      "metadata": {},
      "outputs": [],
      "source": [
        "# Initialize Otter\n",
        "import otter\n",
        "grader = otter.Notebook()"
      ]
    },
    {
      "cell_type": "markdown",
      "metadata": {
        "id": "a62SbcVCgCHp"
      },
      "source": [
        "# **Assignment 1 (Part 2)**"
      ]
    },
    {
      "cell_type": "markdown",
      "metadata": {
        "id": "Ee1DOKZUeWTj"
      },
      "source": [
        "<h3>Assignment Instructions</h3>\n",
        "\n",
        "* **How to install 'otter'**: Run `!pip install otter-grader`\n",
        "* **Otter**: It is an autograder that we will be using for grading your notebooks.\n",
        "* **grader.check('qn')**: This command runs test cases for nth question `qn` provided to you and displays the result. But these are not the only test cases, these are provided just for your basic testing. There will be some *hidden test cases* on which your answers will be tested as well.\n",
        "* You are **not** allowed to edit any pre-defined variables and as per the instructions for every question you have to assign your answers to these variables.\n",
        "* Write your answers in place of `...`\n",
        "* For the questions asking for explanation, write your answers in the text box below the relevant question infront of \"Answer:\"\n"
      ]
    },
    {
      "cell_type": "markdown",
      "metadata": {
        "id": "Jii99vBZfI_s"
      },
      "source": [
        "<h3>Submission Instructions</h3>\n",
        "\n",
        "* There are two parts of this assignment. You should name both notebooks as **YourRollNumber_PartNumber.ipynb**. (e.g. this part should be named as *`2XXXXXXX_2.ipynb`*)\n",
        "* You must submit a zip file containg just two notebooks and it must not have any folder or any other file.\n",
        "* The name of the zip file must be your `RollNumber_PA1`\n"
      ]
    },
    {
      "cell_type": "markdown",
      "metadata": {
        "id": "Cj0LEzxwfqgu"
      },
      "source": [
        "Uncomment the line below if you have not installed otter-grader before"
      ]
    },
    {
      "cell_type": "markdown",
      "metadata": {
        "id": "KCYVoFoFfi4Z"
      },
      "source": [
        "Please run the cell below to import all the necessary libraries that you would require for this part"
      ]
    },
    {
      "cell_type": "code",
      "execution_count": null,
      "metadata": {
        "id": "FAy01fOkfMAr"
      },
      "outputs": [],
      "source": [
        "import pandas as pd\n",
        "import numpy as np\n",
        "import matplotlib.pyplot as plt\n",
        "import seaborn as sns\n",
        "import warnings\n",
        "\n",
        "warnings.simplefilter('ignore')"
      ]
    },
    {
      "cell_type": "markdown",
      "metadata": {
        "id": "FnK36E5p4tWW"
      },
      "source": [
        "<h3>Understanding your data<h3/>"
      ]
    },
    {
      "cell_type": "markdown",
      "metadata": {},
      "source": [
        "**Question 1a:** Import the dataframe and save it in the variable `nba_data`. Then store the last 10 rows of the dataset in the variable `nba_data_last_10`. Lastly, visualize `nba_data_last_10`"
      ]
    },
    {
      "cell_type": "code",
      "execution_count": null,
      "metadata": {
        "colab": {
          "base_uri": "https://localhost:8080/",
          "height": 603
        },
        "id": "bL46-ZOh2wSn",
        "outputId": "b1f3c942-b659-4d79-fcb0-9cee75660f16"
      },
      "outputs": [],
      "source": [
        "file_path = 'all_seasons.csv'\n",
        "nba_data = ...\n",
        "nba_data_last_10 = ..."
      ]
    },
    {
      "cell_type": "code",
      "execution_count": null,
      "metadata": {},
      "outputs": [],
      "source": [
        "grader.check(\"q1a\")"
      ]
    },
    {
      "cell_type": "markdown",
      "metadata": {
        "id": "GnFxudGMFDUg"
      },
      "source": [
        "**Question 1b:** Using the provided mapping `column_mapping`, rename the columns with undescriptive titles to more descriptive titles in camel case format. Implement the mapping and rename the columns in the DataFrame."
      ]
    },
    {
      "cell_type": "code",
      "execution_count": null,
      "metadata": {
        "colab": {
          "base_uri": "https://localhost:8080/"
        },
        "id": "qYE5No0rEQ2A",
        "outputId": "e042c58b-1c65-49ee-8ac7-30ac1c70f63b"
      },
      "outputs": [],
      "source": [
        "# Mapping of original column names to descriptive camel case titles\n",
        "column_mapping = {\n",
        "    'player_name': 'playerName',\n",
        "    'team_abbreviation': 'teamAbbreviation',\n",
        "    'age': 'age',\n",
        "    'player_height': 'playerHeight',\n",
        "    'player_weight': 'playerWeight',\n",
        "    'college': 'college',\n",
        "    'country': 'country',\n",
        "    'draft_year': 'draftYear',\n",
        "    'draft_round': 'draftRound',\n",
        "    'draft_number': 'draftNumber',\n",
        "    'gp': 'gamesPlayed',\n",
        "    'pts': 'points',\n",
        "    'reb': 'rebounds',\n",
        "    'ast': 'assists',\n",
        "    'net_rating': 'netRating',\n",
        "    'oreb_pct': 'offensiveReboundPercentage',\n",
        "    'dreb_pct': 'defensiveReboundPercentage',\n",
        "    'usg_pct': 'usagePercentage',\n",
        "    'ts_pct': 'trueShootingPercentage',\n",
        "    'ast_pct': 'assistPercentage',\n",
        "    'season': 'season'\n",
        "}"
      ]
    },
    {
      "cell_type": "code",
      "execution_count": null,
      "metadata": {},
      "outputs": [],
      "source": [
        "grader.check(\"q1b\")"
      ]
    },
    {
      "cell_type": "markdown",
      "metadata": {
        "id": "VN83fRLY3Owa"
      },
      "source": [
        "**Question 1c:** Store the concise summary of the DataFrame in the variable `nba_data_summary` which includes the number of rows and columns, the data types of each column, the number of non-null values in each column and the memory usage of the DataFrame."
      ]
    },
    {
      "cell_type": "code",
      "execution_count": null,
      "metadata": {
        "colab": {
          "base_uri": "https://localhost:8080/"
        },
        "id": "Mx8i321D3jqA",
        "outputId": "b41002ed-5691-49c9-a8da-a08aede1dc8b"
      },
      "outputs": [],
      "source": [
        "nba_data_summary = ..."
      ]
    },
    {
      "cell_type": "markdown",
      "metadata": {
        "id": "PhdbfQ69Q67W"
      },
      "source": [
        "**Question 2a:** Drop the column \"Unnamed: 0\". Explain why there is a need to do so?"
      ]
    },
    {
      "cell_type": "code",
      "execution_count": null,
      "metadata": {
        "colab": {
          "base_uri": "https://localhost:8080/",
          "height": 743
        },
        "id": "v4F147tkOJse",
        "outputId": "d5578b43-e281-43e0-8bb9-3c23c4431e4f"
      },
      "outputs": [],
      "source": [
        "..."
      ]
    },
    {
      "cell_type": "markdown",
      "metadata": {
        "id": "9KTFuUp9oTRm"
      },
      "source": [
        "Answer:"
      ]
    },
    {
      "cell_type": "code",
      "execution_count": null,
      "metadata": {},
      "outputs": [],
      "source": [
        "grader.check(\"q2a\")"
      ]
    },
    {
      "cell_type": "markdown",
      "metadata": {
        "id": "xPT5T_fvSF0u"
      },
      "source": [
        "**Question 2b:** Your task is to perform missing values analysis. Make a table with 3 columns. 1st column has all the column names , 2nd column has total no. of missing values titled `Total No. of Missing Values`, 3rd column has percentage of Missing Values rounded to 2 decimal places titled `% of Missing Values`. Store the result in `missing_df`"
      ]
    },
    {
      "cell_type": "code",
      "execution_count": null,
      "metadata": {
        "colab": {
          "base_uri": "https://localhost:8080/",
          "height": 708
        },
        "id": "bYhkejEISJDR",
        "outputId": "449a50ce-7743-49da-cfe5-ae5a23a6aff8"
      },
      "outputs": [],
      "source": [
        "missing_df =  ..."
      ]
    },
    {
      "cell_type": "code",
      "execution_count": null,
      "metadata": {},
      "outputs": [],
      "source": [
        "grader.check(\"q2b\")"
      ]
    },
    {
      "cell_type": "markdown",
      "metadata": {
        "id": "tm7_Wb5dRh5l"
      },
      "source": [
        "**Question 2c:** Store the names of numerical data columns and categorical data columns in the two arrays `numerical_data` and `categorical_data` respectively. Note: Use the `to_list()` function to convert your answer to a list of values."
      ]
    },
    {
      "cell_type": "code",
      "execution_count": null,
      "metadata": {
        "colab": {
          "base_uri": "https://localhost:8080/"
        },
        "id": "Wtm77fpnRhMJ",
        "outputId": "a0437efa-37d5-4553-a996-bf2bbb191111"
      },
      "outputs": [],
      "source": [
        "numerical_data = ...\n",
        "categorical_data = ...\n"
      ]
    },
    {
      "cell_type": "code",
      "execution_count": null,
      "metadata": {},
      "outputs": [],
      "source": [
        "grader.check(\"q2c\")"
      ]
    },
    {
      "cell_type": "markdown",
      "metadata": {
        "id": "vMyBwNvZRNvf"
      },
      "source": [
        "**Question 2d:** Handle null values appropriately. If categorical, fill with \"DNE\". If numerical fill with mean."
      ]
    },
    {
      "cell_type": "code",
      "execution_count": null,
      "metadata": {
        "colab": {
          "base_uri": "https://localhost:8080/",
          "height": 743
        },
        "id": "S9QRaF-tRFLO",
        "outputId": "e50fe9a3-2b4c-4af2-9fc0-34113f3a01c2"
      },
      "outputs": [],
      "source": [
        "..."
      ]
    },
    {
      "cell_type": "code",
      "execution_count": null,
      "metadata": {},
      "outputs": [],
      "source": [
        "grader.check(\"q2d\")"
      ]
    },
    {
      "cell_type": "markdown",
      "metadata": {
        "id": "phDsqh_zweoM"
      },
      "source": [
        "<h3>Analysis<h3/>"
      ]
    },
    {
      "cell_type": "markdown",
      "metadata": {},
      "source": [
        "**Question 3:** What are the summary statistics for key player performance metrics i.e points, rebounds, assists and age? Store your answer in `performance_summary`."
      ]
    },
    {
      "cell_type": "code",
      "execution_count": null,
      "metadata": {
        "colab": {
          "base_uri": "https://localhost:8080/"
        },
        "id": "esgwG4Wxwd6k",
        "outputId": "21fa8a6c-d7a3-46d9-8470-fe181a6c4a8d"
      },
      "outputs": [],
      "source": [
        "performance_summary = ..."
      ]
    },
    {
      "cell_type": "code",
      "execution_count": null,
      "metadata": {},
      "outputs": [],
      "source": [
        "grader.check(\"q3\")"
      ]
    },
    {
      "cell_type": "markdown",
      "metadata": {
        "id": "euF06phmxYz8"
      },
      "source": [
        "Q4. Which top 3 teams have the highest average points per player? Store your answer in the form of a list in `top_3_teams`. Note: Use the `to_list()` function to convert your answer to a list of values."
      ]
    },
    {
      "cell_type": "code",
      "execution_count": null,
      "metadata": {
        "colab": {
          "base_uri": "https://localhost:8080/"
        },
        "id": "XF5yv0BrxDiX",
        "outputId": "8090cda9-a429-47c0-f67b-c4e4e1441adc"
      },
      "outputs": [],
      "source": [
        "top_3_teams = ..."
      ]
    },
    {
      "cell_type": "code",
      "execution_count": null,
      "metadata": {},
      "outputs": [],
      "source": [
        "grader.check(\"q4\")"
      ]
    },
    {
      "cell_type": "markdown",
      "metadata": {
        "id": "MU_8RtrC84CN"
      },
      "source": [
        "Q5. How many players have last names starting with 'Mc' or 'O’' (e.g., McCollum, O'Neal)? This question explores the frequency of players with common Irish or Scottish prefixes in their last names. Store your answer in `mc_o_names_count` Hint: Use Regex!"
      ]
    },
    {
      "cell_type": "code",
      "execution_count": null,
      "metadata": {
        "colab": {
          "base_uri": "https://localhost:8080/"
        },
        "id": "GE1emFWVyRot",
        "outputId": "61fe27cd-09d3-4010-d8c2-b3f73a3d3d25"
      },
      "outputs": [],
      "source": [
        "mc_o_names_count = ...\n"
      ]
    },
    {
      "cell_type": "code",
      "execution_count": null,
      "metadata": {},
      "outputs": [],
      "source": [
        "grader.check(\"q5\")"
      ]
    },
    {
      "cell_type": "markdown",
      "metadata": {
        "id": "eis90HK8Cp_A"
      },
      "source": [
        "**Question 6a:** Analyze how different teams perform across various statistics in the 2022-23 season. Create a pivot table that shows the **average** points (points), rebounds (rebounds), and assists (assists) for each team in the 2022-23 season. Store your answer in `avg_stats_pivot`"
      ]
    },
    {
      "cell_type": "code",
      "execution_count": null,
      "metadata": {
        "colab": {
          "base_uri": "https://localhost:8080/",
          "height": 1000
        },
        "id": "nkUmrn-E6ERU",
        "outputId": "52c80de7-1625-499c-ccb9-c8a112c06fd8"
      },
      "outputs": [],
      "source": [
        "avg_stats_pivot = ..."
      ]
    },
    {
      "cell_type": "code",
      "execution_count": null,
      "metadata": {},
      "outputs": [],
      "source": [
        "grader.check(\"q6a\")"
      ]
    },
    {
      "cell_type": "markdown",
      "metadata": {
        "id": "fOEKiWCX6wui"
      },
      "source": [
        "**Question 6b:** Identify the team with the highest average points, rebounds, and assists from the pivot table. Store your answers in `highest_avg_points_team` , `highest_avg_rebounds_team` , `highest_avg_assists_team` respectively."
      ]
    },
    {
      "cell_type": "code",
      "execution_count": null,
      "metadata": {
        "colab": {
          "base_uri": "https://localhost:8080/"
        },
        "id": "BPxZij-UCahY",
        "outputId": "f6dc012e-af90-41ee-dadc-ea61fb1a071e"
      },
      "outputs": [],
      "source": [
        "highest_avg_points_team = ...\n",
        "highest_avg_rebounds_team = ...\n",
        "highest_avg_assists_team = ...\n",
        "\n"
      ]
    },
    {
      "cell_type": "code",
      "execution_count": null,
      "metadata": {},
      "outputs": [],
      "source": [
        "grader.check(\"q6b\")"
      ]
    },
    {
      "cell_type": "markdown",
      "metadata": {
        "id": "Vh4P3kMD7Zqy"
      },
      "source": [
        "**Question 6c:** Create a pivot table that displays the count of players from each country for each team in the 2022-23 season. Store your answer in `players_count_pivot`."
      ]
    },
    {
      "cell_type": "code",
      "execution_count": null,
      "metadata": {
        "colab": {
          "base_uri": "https://localhost:8080/",
          "height": 1000
        },
        "id": "stGvS2rG7R4s",
        "outputId": "bdd87ccf-76a8-48b6-c95b-24242d07c703"
      },
      "outputs": [],
      "source": [
        "players_count_pivot = ..."
      ]
    },
    {
      "cell_type": "code",
      "execution_count": null,
      "metadata": {},
      "outputs": [],
      "source": [
        "grader.check(\"q6c\")"
      ]
    },
    {
      "cell_type": "markdown",
      "metadata": {
        "id": "FIZ2z68t71oW"
      },
      "source": [
        "**Question 6d:** Identify the country with the most players for the team with the highest average assists. Store your answer in `country_most_players`."
      ]
    },
    {
      "cell_type": "code",
      "execution_count": null,
      "metadata": {
        "colab": {
          "base_uri": "https://localhost:8080/"
        },
        "id": "azRsqAt7704L",
        "outputId": "61811722-b4c6-4b78-ea10-452772ea2f98"
      },
      "outputs": [],
      "source": [
        "country_most_players = ..."
      ]
    },
    {
      "cell_type": "code",
      "execution_count": null,
      "metadata": {},
      "outputs": [],
      "source": [
        "grader.check(\"q6d\")"
      ]
    },
    {
      "cell_type": "markdown",
      "metadata": {
        "id": "R6wjJ2lpDCP-"
      },
      "source": [
        "<h3> Data Visualization <h3/>"
      ]
    },
    {
      "cell_type": "markdown",
      "metadata": {},
      "source": [
        "**Question 7a:** Analyze the correlation between key performance metrics. Create a heatmap to visualize the correlation between the following statistics for players in the 2022-23 season:\n",
        "\n",
        "- **Points** (`points`)\n",
        "- **Rebounds** (`rebounds`)\n",
        "- **Assists** (`assists`)\n",
        "- **True Shooting Percentage** (`trueShootingPercentage`)\n",
        "- **Usage Percentage** (`usagePercentage`)\n",
        "- **Net Rating** (`netRating`)\n",
        "- **Offensive Rebound Percentage** (`offensiveReboundPercentage`)\n",
        "- **Defensive Rebound Percentage** (`defensiveReboundPercentage`)\n",
        "- **Assist Percentage** (`assistPercentage`)"
      ]
    },
    {
      "cell_type": "code",
      "execution_count": null,
      "metadata": {
        "colab": {
          "base_uri": "https://localhost:8080/",
          "height": 891
        },
        "id": "ZXbi6XFlGqHG",
        "outputId": "866a9957-4c82-435f-b3b7-cc3c72a4d2a5"
      },
      "outputs": [],
      "source": [
        "..."
      ]
    },
    {
      "cell_type": "markdown",
      "metadata": {
        "id": "2YrUhW03H36e"
      },
      "source": [
        "**Question 7b:** Store\n",
        "1. the most strongly correlated pair of metrics in the form of a list in the variable `strongly_correlated_pair`\n",
        "2. their correlation coefficient in variable `correlation_coefficient`\n",
        "\n",
        "Interpret the correlation heatmap. What interesting insights can you draw?"
      ]
    },
    {
      "cell_type": "code",
      "execution_count": null,
      "metadata": {
        "id": "tcKKAtOXH2Hx"
      },
      "outputs": [],
      "source": [
        "##Interpretation:\n",
        "\n",
        "strongly_correlated_pair = []\n",
        "correlation_coefficient = ..."
      ]
    },
    {
      "cell_type": "markdown",
      "metadata": {
        "id": "G3ufkWKf9tbp"
      },
      "source": [
        "Answer:"
      ]
    },
    {
      "cell_type": "code",
      "execution_count": null,
      "metadata": {},
      "outputs": [],
      "source": [
        "grader.check(\"q7b\")"
      ]
    },
    {
      "cell_type": "markdown",
      "metadata": {
        "id": "R_0HoFl-KXAC"
      },
      "source": [
        "**Question 8a:** Analyze the distribution of scoring performance for players on three specific teams in the 2022-23 season: Golden State Warriors (GSW), Boston Celtics (BOS), and Miami Heat (MIA). Create a single violin plot to visualize the distribution of points (points) scored by players from each of these teams.\n",
        "\n",
        "This analysis facilitates a comparative understanding of how these three teams perform in terms of scoring."
      ]
    },
    {
      "cell_type": "code",
      "execution_count": null,
      "metadata": {
        "colab": {
          "base_uri": "https://localhost:8080/",
          "height": 783
        },
        "id": "dVTbBC3HJhle",
        "outputId": "ad07e643-5dfb-47ee-adff-a6941525a2b7"
      },
      "outputs": [],
      "source": []
    },
    {
      "cell_type": "markdown",
      "metadata": {
        "id": "Lh1KkdBlLthp"
      },
      "source": [
        "**Question 8b:** Compare the shapes and spreads of the distributions for all three teams to identify which team has the widest scoring range and more variability.\n",
        "Discuss any notable trends, such as which team has a higher median score or if there are significant outliers in any of the teams."
      ]
    },
    {
      "cell_type": "markdown",
      "metadata": {
        "id": "-mUGv5aI-RCy"
      },
      "source": [
        "Answer:"
      ]
    },
    {
      "cell_type": "markdown",
      "metadata": {
        "id": "9UJGbbfuMDZs"
      },
      "source": [
        "**Question 8c:** Identify the outliers for each team in a list format containing player names. Note: Use `to_list()` function to convert into a list format. Store your answers in `BOS_outliers` , `GSW_outliers` and `MIA_outliers`"
      ]
    },
    {
      "cell_type": "code",
      "execution_count": null,
      "metadata": {
        "colab": {
          "base_uri": "https://localhost:8080/"
        },
        "id": "szR9IhC4ML-O",
        "outputId": "8a66a5dd-8ffd-4f51-bed8-070aad6a503e"
      },
      "outputs": [],
      "source": [
        "BOS_outliers = ...\n",
        "GSW_outliers = ...\n",
        "MIA_outliers = ..."
      ]
    },
    {
      "cell_type": "code",
      "execution_count": null,
      "metadata": {},
      "outputs": [],
      "source": [
        "grader.check(\"q8c\")"
      ]
    },
    {
      "cell_type": "markdown",
      "metadata": {
        "id": "7Gt0Wt3yOWKU"
      },
      "source": [
        "**Question 9a:** Analyze the distribution of player height and weight.\n",
        "\n",
        "Create a side-by-side histogram comparing the distributions of player height and weight. Include vertical lines representing the mean height and weight on their respective plots."
      ]
    },
    {
      "cell_type": "code",
      "execution_count": null,
      "metadata": {
        "colab": {
          "base_uri": "https://localhost:8080/",
          "height": 512
        },
        "id": "RZg9JEmdOcBF",
        "outputId": "da9c0130-8edf-478e-d80d-713f1dd9fa16"
      },
      "outputs": [],
      "source": [
        "..."
      ]
    },
    {
      "cell_type": "markdown",
      "metadata": {
        "id": "mixHZkfXOui0"
      },
      "source": [
        "**Question 9b:** What useful insight you get from this?\n",
        "\n",
        "Answer:\n"
      ]
    },
    {
      "cell_type": "markdown",
      "metadata": {
        "id": "ADJrb813PxAB"
      },
      "source": [
        "**Question 10a:** Create a scatter plot with a regression line to visualize the relationship between player height and weight."
      ]
    },
    {
      "cell_type": "code",
      "execution_count": null,
      "metadata": {
        "colab": {
          "base_uri": "https://localhost:8080/",
          "height": 472
        },
        "id": "JrzxY3p5O9Uz",
        "outputId": "b1b1621e-dd5d-41a0-810c-d082effc116e"
      },
      "outputs": [],
      "source": [
        "..."
      ]
    },
    {
      "cell_type": "markdown",
      "metadata": {
        "id": "Vtk6YKfyP6e7"
      },
      "source": [
        "**Question 10b:** Based on your analysis, describe the nature of the relationship between height and weight among NBA players.\n",
        "\n",
        "Answer:"
      ]
    },
    {
      "cell_type": "markdown",
      "metadata": {
        "id": "OfB2Et6QQB8H"
      },
      "source": [
        "**Question 11a:** Analyze the relationship between player age and the number of games played.\n",
        "\n",
        "Create a line plot to visualize how the average number of games played (gp) varies with player age."
      ]
    },
    {
      "cell_type": "code",
      "execution_count": null,
      "metadata": {
        "colab": {
          "base_uri": "https://localhost:8080/",
          "height": 472
        },
        "id": "JfwI0m5iQ0Hl",
        "outputId": "bbdf1cc1-4792-4afd-974b-c41e32635859"
      },
      "outputs": [],
      "source": [
        "...\n"
      ]
    },
    {
      "cell_type": "markdown",
      "metadata": {
        "id": "4Ea2jTJOQ-eA"
      },
      "source": [
        "**Question 11b:** Based on your analysis, describe the trend you observe regarding age and the number of games played by NBA players.\n",
        "\n",
        "Answer:"
      ]
    },
    {
      "cell_type": "markdown",
      "metadata": {
        "id": "vb6gs1c-RKxE"
      },
      "source": [
        "**Question 12a:** Analyze the trends in player age and height over multiple seasons.\n",
        "\n",
        "Create a dual-axis line plot that displays the average age of players and their average height for each season."
      ]
    },
    {
      "cell_type": "code",
      "execution_count": null,
      "metadata": {
        "colab": {
          "base_uri": "https://localhost:8080/",
          "height": 650
        },
        "id": "mogGpAYeRiso",
        "outputId": "8a3d9951-1171-4626-8ee0-55ac9f0721f5"
      },
      "outputs": [],
      "source": [
        "..."
      ]
    },
    {
      "cell_type": "markdown",
      "metadata": {
        "id": "1hkiWByBSNsO"
      },
      "source": [
        "**Question 12b:** How does player age change over the seasons?\n",
        "Is there a noticeable trend in average player height over time?\n",
        "What implications might these trends have for team composition and player recruitment strategies in the NBA?\n",
        "\n",
        "Answer:"
      ]
    },
    {
      "cell_type": "markdown",
      "metadata": {
        "id": "-3hfQKkHUJBy"
      },
      "source": [
        "**Question 13a:** Create a box plot to compare the distribution of assists made by players from three selected teams (e.g., Golden State Warriors, Los Angeles Lakers, and Miami Heat)."
      ]
    },
    {
      "cell_type": "code",
      "execution_count": null,
      "metadata": {
        "colab": {
          "base_uri": "https://localhost:8080/",
          "height": 607
        },
        "id": "6TWKoBQAST3h",
        "outputId": "ef536f2e-d119-449a-a360-1bd04a2017e9"
      },
      "outputs": [],
      "source": [
        "..."
      ]
    },
    {
      "cell_type": "markdown",
      "metadata": {
        "id": "qh4Z7pDYUdMn"
      },
      "source": [
        "**Question 13b:**\n",
        "1. Which team has the highest median assists made by its players?\n",
        "2. Are there any notable outliers in the distribution, and what might they indicate about individual player performances?\n",
        "3. How do the distributions compare among the selected teams?\n"
      ]
    },
    {
      "cell_type": "markdown",
      "metadata": {
        "id": "YO_bzwcvA3qG"
      },
      "source": [
        "Answer:"
      ]
    }
  ],
  "metadata": {
    "colab": {
      "provenance": []
    },
    "kernelspec": {
      "display_name": "Python 3",
      "name": "python3"
    },
    "language_info": {
      "codemirror_mode": {
        "name": "ipython",
        "version": 3
      },
      "file_extension": ".py",
      "mimetype": "text/x-python",
      "name": "python",
      "nbconvert_exporter": "python",
      "pygments_lexer": "ipython3",
      "version": "3.9.6"
    }
  },
  "nbformat": 4,
  "nbformat_minor": 0
}
