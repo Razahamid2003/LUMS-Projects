{
 "cells": [
  {
   "cell_type": "code",
   "execution_count": 1,
   "metadata": {
    "deletable": false,
    "editable": false
   },
   "outputs": [],
   "source": [
    "# Initialize Otter\n",
    "import otter\n",
    "grader = otter.Notebook(\"26100319_1.ipynb\")"
   ]
  },
  {
   "cell_type": "markdown",
   "metadata": {},
   "source": [
    "# **Assignment 1 (Part 1)**"
   ]
  },
  {
   "cell_type": "markdown",
   "metadata": {},
   "source": [
    "<h3>Assignment Instructions</h3>\n"
   ]
  },
  {
   "cell_type": "markdown",
   "metadata": {},
   "source": [
    "* **How to install 'otter'**: Run `pip install otter-grader` in your Anaconda Command Prompt\n",
    "* **Otter**: It is an autograder that we will be using for grading your notebooks.\n",
    "* **Initialize Otter**: Run the cell above to initialize otter. Replace `2XXXXXX_1.ipynb` with your updated filename inside the grader variable above. \n",
    "* **grader.check('qn')**: This command runs test cases for nth question `qn` provided to you and displays the result. But these are not the only test cases, these are provided just for your basic testing. There will be some *hidden test cases* on which your answers will be tested as well.\n",
    "* You are **not** allowed to edit any pre-defined variables and as per the instructions for every question you have to assign your answers to these variables.\n",
    "* Write your answers in place of `...`\n"
   ]
  },
  {
   "cell_type": "markdown",
   "metadata": {},
   "source": [
    "<h3>Submission Instructions</h3>\n"
   ]
  },
  {
   "cell_type": "markdown",
   "metadata": {},
   "source": [
    "* There are two parts of this assignment. You should name both notebooks as **YourRollNumber_PartNumber.ipynb**. (e.g. this part should be named as *`2XXXXXXX_1.ipynb`*)\n",
    "* You must submit a zip file containg just two notebooks and it must not has any folder or any other file. \n",
    "* The name of the zip file must be your `RollNumber_PA1`\n"
   ]
  },
  {
   "cell_type": "markdown",
   "metadata": {},
   "source": [
    "Please run the cell below to import all the necessary libraries that you would require for this part"
   ]
  },
  {
   "cell_type": "code",
   "execution_count": 2,
   "metadata": {},
   "outputs": [],
   "source": [
    "import numpy as np\n",
    "import pandas as pd\n",
    "import matplotlib.pyplot as plt"
   ]
  },
  {
   "cell_type": "markdown",
   "metadata": {},
   "source": [
    "<h3>Context about the dataset</h3>"
   ]
  },
  {
   "cell_type": "markdown",
   "metadata": {},
   "source": [
    "\n",
    "The titanic dataset is a record of passengers aboard the Titanic and their fates (whether or not they survived the incident). This includes socio-economic class divide between passengers, their ages, names, fares and even their passenger IDs. The principal source for data about Titanic passengers is the Encyclopedia Titanica. The datasets used here were begun by a variety of researchers. One of the original sources is Eaton & Haas (1994) Titanic: Triumph and Tragedy, Patrick Stephens Ltd, which includes a passenger list created by many researchers and edited by Michael A. Findlay.\n",
    "\n",
    "As we explore this data from titanic, it is your job to answer some pressing questions regarding the various age groups aboard, their economic statuses and survival rates in each gender. Following are some details about the variable to help you understand the data better. <br>\n",
    "\n",
    "<h4>Variable Descriptions</h4>\n",
    "\n",
    "* Pclass ->   Passenger Class  (1 = 1st; 2 = 2nd; 3 = 3rd) <br>\n",
    "* Survived ->  Did the passenger survive? (0 = No; 1 = Yes) <br>\n",
    "* Name ->  name <br>\n",
    "* Sex ->  sex  <br>\n",
    "* Age ->  age  <br>\n",
    "* SibSp ->  Number of Siblings/Spouses Aboard <br>\n",
    "* Parch ->  Number of Parents/Children Aboard <br>\n",
    "* Ticket ->   Ticket Number <br>\n",
    "* Fare ->   Passenger Fare (British pound) <br>\n",
    "* Cabin ->   Cabin <br>\n",
    "* Embarked ->   Port of Embarkation (C = Cherbourg; Q = Queenstown; S = Southampton) <br>"
   ]
  },
  {
   "cell_type": "markdown",
   "metadata": {
    "deletable": false,
    "editable": false
   },
   "source": [
    "**Question 0:** Load the titanic dataset file into the variable `titanic_df`"
   ]
  },
  {
   "cell_type": "code",
   "execution_count": null,
   "metadata": {
    "tags": []
   },
   "outputs": [],
   "source": [
    "titanic_df = pd.read_csv('titanic.csv')"
   ]
  },
  {
   "cell_type": "code",
   "execution_count": 4,
   "metadata": {
    "deletable": false,
    "editable": false
   },
   "outputs": [
    {
     "data": {
      "text/html": [
       "<p><strong><pre style='display: inline;'>Q0</pre></strong> passed! 🍀</p>"
      ],
      "text/plain": [
       "Q0 results: All test cases passed!"
      ]
     },
     "execution_count": 4,
     "metadata": {},
     "output_type": "execute_result"
    }
   ],
   "source": [
    "grader.check(\"Q0\")"
   ]
  },
  {
   "cell_type": "markdown",
   "metadata": {
    "deletable": false,
    "editable": false
   },
   "source": [
    "**Question 1:** Using the describe function, find the mean fare  and store it into `mean_fare`, rounded off to three decimal places. You cannot directly call the .mean() function."
   ]
  },
  {
   "cell_type": "code",
   "execution_count": 5,
   "metadata": {
    "tags": []
   },
   "outputs": [],
   "source": [
    "fare_stats = titanic_df['Fare'].describe()\n",
    "mean_fare = round(fare_stats['mean'], 3)"
   ]
  },
  {
   "cell_type": "code",
   "execution_count": 6,
   "metadata": {
    "deletable": false,
    "editable": false
   },
   "outputs": [
    {
     "data": {
      "text/html": [
       "<p><strong><pre style='display: inline;'>Q1</pre></strong> passed! 🌈</p>"
      ],
      "text/plain": [
       "Q1 results: All test cases passed!"
      ]
     },
     "execution_count": 6,
     "metadata": {},
     "output_type": "execute_result"
    }
   ],
   "source": [
    "grader.check(\"Q1\")"
   ]
  },
  {
   "cell_type": "markdown",
   "metadata": {
    "deletable": false,
    "editable": false
   },
   "source": [
    "**Question 2:** Drop the `Cabin` and `Family_Size` column inside the dataframe. `titanic_df` should no longer contain these columns."
   ]
  },
  {
   "cell_type": "code",
   "execution_count": 7,
   "metadata": {
    "tags": []
   },
   "outputs": [],
   "source": [
    "titanic_df = titanic_df.drop(columns=['Cabin', 'Family_Size'])"
   ]
  },
  {
   "cell_type": "code",
   "execution_count": 8,
   "metadata": {
    "deletable": false,
    "editable": false
   },
   "outputs": [
    {
     "data": {
      "text/html": [
       "<p><strong><pre style='display: inline;'>Q2</pre></strong> passed! ✨</p>"
      ],
      "text/plain": [
       "Q2 results: All test cases passed!"
      ]
     },
     "execution_count": 8,
     "metadata": {},
     "output_type": "execute_result"
    }
   ],
   "source": [
    "grader.check(\"Q2\")"
   ]
  },
  {
   "cell_type": "markdown",
   "metadata": {
    "deletable": false,
    "editable": false
   },
   "source": [
    "**Question 3:** What percentage of people aboard the ship were females? Store the result rounded off to three decimal places in `female_percentage`."
   ]
  },
  {
   "cell_type": "code",
   "execution_count": 9,
   "metadata": {
    "tags": []
   },
   "outputs": [],
   "source": [
    "num_females = titanic_df[titanic_df['Sex'] == 'female'].shape[0]\n",
    "\n",
    "total_passengers = titanic_df.shape[0]\n",
    "\n",
    "female_percentage = round((num_females / total_passengers) * 100, 3)"
   ]
  },
  {
   "cell_type": "code",
   "execution_count": 10,
   "metadata": {
    "deletable": false,
    "editable": false
   },
   "outputs": [
    {
     "data": {
      "text/html": [
       "<p><strong><pre style='display: inline;'>Q3</pre></strong> passed! 🚀</p>"
      ],
      "text/plain": [
       "Q3 results: All test cases passed!"
      ]
     },
     "execution_count": 10,
     "metadata": {},
     "output_type": "execute_result"
    }
   ],
   "source": [
    "grader.check(\"Q3\")"
   ]
  },
  {
   "cell_type": "markdown",
   "metadata": {
    "deletable": false,
    "editable": false
   },
   "source": [
    "**Question 4:** Set the `PassengerID` of passengers as the index for this dataset."
   ]
  },
  {
   "cell_type": "code",
   "execution_count": 11,
   "metadata": {
    "tags": []
   },
   "outputs": [],
   "source": [
    "titanic_df = titanic_df.set_index('PassengerId')"
   ]
  },
  {
   "cell_type": "code",
   "execution_count": 12,
   "metadata": {
    "deletable": false,
    "editable": false
   },
   "outputs": [
    {
     "data": {
      "text/html": [
       "<p><strong><pre style='display: inline;'>Q4</pre></strong> passed! 🍀</p>"
      ],
      "text/plain": [
       "Q4 results: All test cases passed!"
      ]
     },
     "execution_count": 12,
     "metadata": {},
     "output_type": "execute_result"
    }
   ],
   "source": [
    "grader.check(\"Q4\")"
   ]
  },
  {
   "cell_type": "markdown",
   "metadata": {
    "deletable": false,
    "editable": false
   },
   "source": [
    "**Question 5:** Convert all column names to lowercase and remove any leading and trailing whitespaces. Simultaneously, replace any non-leading and non-trailing spaces within the column names with an underscore. You are not allowed to hardcode the column names."
   ]
  },
  {
   "cell_type": "code",
   "execution_count": 13,
   "metadata": {
    "tags": []
   },
   "outputs": [],
   "source": [
    "titanic_df.columns = titanic_df.columns.str.lower().str.strip().str.replace(' ', '_')"
   ]
  },
  {
   "cell_type": "code",
   "execution_count": 14,
   "metadata": {
    "deletable": false,
    "editable": false
   },
   "outputs": [
    {
     "data": {
      "text/html": [
       "<p><strong><pre style='display: inline;'>Q5</pre></strong> passed! 🎉</p>"
      ],
      "text/plain": [
       "Q5 results: All test cases passed!"
      ]
     },
     "execution_count": 14,
     "metadata": {},
     "output_type": "execute_result"
    }
   ],
   "source": [
    "grader.check(\"Q5\")"
   ]
  },
  {
   "cell_type": "markdown",
   "metadata": {
    "deletable": false,
    "editable": false
   },
   "source": [
    "**Question 6:** Find the female passenger that had the highest fare and store the result in `highest_fare`. Furthermore, find the male passenger that had the lowest non-zero fare and store it in `lowest_fare`. <br>\n",
    "Note: You are not meant to store the value only but the entire row entry."
   ]
  },
  {
   "cell_type": "code",
   "execution_count": 15,
   "metadata": {
    "tags": []
   },
   "outputs": [],
   "source": [
    "highest_fare = titanic_df[titanic_df['sex'] == 'female'].nlargest(1, 'fare')\n",
    "lowest_fare = titanic_df[(titanic_df['sex'] == 'male') & (titanic_df['fare'] > 0)].nsmallest(1, 'fare')"
   ]
  },
  {
   "cell_type": "code",
   "execution_count": 16,
   "metadata": {
    "deletable": false,
    "editable": false
   },
   "outputs": [
    {
     "data": {
      "text/html": [
       "<p><strong><pre style='display: inline;'>Q6</pre></strong> passed! 🍀</p>"
      ],
      "text/plain": [
       "Q6 results: All test cases passed!"
      ]
     },
     "execution_count": 16,
     "metadata": {},
     "output_type": "execute_result"
    }
   ],
   "source": [
    "grader.check(\"Q6\")"
   ]
  },
  {
   "cell_type": "markdown",
   "metadata": {
    "deletable": false,
    "editable": false
   },
   "source": [
    "**Question 7:** Write a function `CalculateSurvival(data)` that takes in a dataframe and returns the survival percentage rounded off to three decimal places."
   ]
  },
  {
   "cell_type": "code",
   "execution_count": 17,
   "metadata": {
    "tags": []
   },
   "outputs": [],
   "source": [
    "def CalculateSurvivalRate(data):\n",
    "    total_passengers = data.shape[0]\n",
    "    survivors = data[data['survived'] == 1].shape[0]\n",
    "    survival_percentage = (survivors / total_passengers) * 100\n",
    "    \n",
    "    return round(survival_percentage, 3)"
   ]
  },
  {
   "cell_type": "code",
   "execution_count": 18,
   "metadata": {
    "deletable": false,
    "editable": false
   },
   "outputs": [
    {
     "data": {
      "text/html": [
       "<p><strong><pre style='display: inline;'>Q7</pre></strong> passed! 💯</p>"
      ],
      "text/plain": [
       "Q7 results: All test cases passed!"
      ]
     },
     "execution_count": 18,
     "metadata": {},
     "output_type": "execute_result"
    }
   ],
   "source": [
    "grader.check(\"Q7\")"
   ]
  },
  {
   "cell_type": "markdown",
   "metadata": {
    "deletable": false,
    "editable": false
   },
   "source": [
    "**Question 8A:** Add a column called `family` to the dataframe that shows true for a passenger whose family members (siblings, spouses, parents, or children) were on board and false otherwise."
   ]
  },
  {
   "cell_type": "code",
   "execution_count": 19,
   "metadata": {
    "tags": []
   },
   "outputs": [],
   "source": [
    "titanic_df[\"family\"] = (titanic_df['sibsp'] + titanic_df['parch']) > 0"
   ]
  },
  {
   "cell_type": "code",
   "execution_count": 20,
   "metadata": {
    "deletable": false,
    "editable": false
   },
   "outputs": [
    {
     "data": {
      "text/html": [
       "<p><strong><pre style='display: inline;'>Q8A</pre></strong> passed! ✨</p>"
      ],
      "text/plain": [
       "Q8A results: All test cases passed!"
      ]
     },
     "execution_count": 20,
     "metadata": {},
     "output_type": "execute_result"
    }
   ],
   "source": [
    "grader.check(\"Q8A\")"
   ]
  },
  {
   "cell_type": "markdown",
   "metadata": {
    "deletable": false,
    "editable": false
   },
   "source": [
    "**Question 8B:** Using the `CalculateSurvivalRate` function, find the survival percentage of the passengers who had family on board (siblings, spouses, children or parents) and store the result in `survival_rate_with_family`."
   ]
  },
  {
   "cell_type": "code",
   "execution_count": 21,
   "metadata": {
    "tags": []
   },
   "outputs": [],
   "source": [
    "survival_rate_with_family = CalculateSurvivalRate(titanic_df[titanic_df['family'] == True])"
   ]
  },
  {
   "cell_type": "code",
   "execution_count": 22,
   "metadata": {
    "deletable": false,
    "editable": false
   },
   "outputs": [
    {
     "data": {
      "text/html": [
       "<p><strong><pre style='display: inline;'>Q8B</pre></strong> passed! ✨</p>"
      ],
      "text/plain": [
       "Q8B results: All test cases passed!"
      ]
     },
     "execution_count": 22,
     "metadata": {},
     "output_type": "execute_result"
    }
   ],
   "source": [
    "grader.check(\"Q8B\")"
   ]
  },
  {
   "cell_type": "markdown",
   "metadata": {
    "deletable": false,
    "editable": false
   },
   "source": [
    "**Question 8C:** Using the `CalculateSurvivalRate` function, find the survival percentage of the passengers who did not have any family on board (no siblings, spouses, children and parents) and store the result in `survival_rate_without_family`."
   ]
  },
  {
   "cell_type": "code",
   "execution_count": 23,
   "metadata": {
    "tags": []
   },
   "outputs": [],
   "source": [
    "survival_rate_without_family = CalculateSurvivalRate(titanic_df[titanic_df['family'] == False])"
   ]
  },
  {
   "cell_type": "code",
   "execution_count": 24,
   "metadata": {
    "deletable": false,
    "editable": false
   },
   "outputs": [
    {
     "data": {
      "text/html": [
       "<p><strong><pre style='display: inline;'>Q8C</pre></strong> passed! 🎉</p>"
      ],
      "text/plain": [
       "Q8C results: All test cases passed!"
      ]
     },
     "execution_count": 24,
     "metadata": {},
     "output_type": "execute_result"
    }
   ],
   "source": [
    "grader.check(\"Q8C\")"
   ]
  },
  {
   "cell_type": "markdown",
   "metadata": {
    "deletable": false,
    "editable": false
   },
   "source": [
    "**Question 8D:** Based on your findings above, were the passengers who had family more likely to survive than those who did not? Answer as 'Yes' or 'No' and store it in `ans`."
   ]
  },
  {
   "cell_type": "code",
   "execution_count": 25,
   "metadata": {
    "tags": []
   },
   "outputs": [],
   "source": [
    "ans = 'Yes'"
   ]
  },
  {
   "cell_type": "code",
   "execution_count": 26,
   "metadata": {
    "deletable": false,
    "editable": false
   },
   "outputs": [
    {
     "data": {
      "text/html": [
       "<p><strong><pre style='display: inline;'>Q8D</pre></strong> passed! 💯</p>"
      ],
      "text/plain": [
       "Q8D results: All test cases passed!"
      ]
     },
     "execution_count": 26,
     "metadata": {},
     "output_type": "execute_result"
    }
   ],
   "source": [
    "grader.check(\"Q8D\")"
   ]
  },
  {
   "cell_type": "markdown",
   "metadata": {
    "deletable": false,
    "editable": false
   },
   "source": [
    "**Question 9:** Use `groupby` to find the survival percentage of males and females and store them in `male_survival_percentage` and `female_survival_percentage` respectively. Round off your answers to three decimal places. Not using `groupby` will result in a zero for this question."
   ]
  },
  {
   "cell_type": "code",
   "execution_count": 27,
   "metadata": {
    "tags": []
   },
   "outputs": [],
   "source": [
    "survival_by_gender = titanic_df.groupby('sex')['survived'].mean() * 100\n",
    "\n",
    "male_survival_percentage = round(survival_by_gender['male'], 3)\n",
    "female_surival_percentage = round(survival_by_gender['female'], 3)\n"
   ]
  },
  {
   "cell_type": "code",
   "execution_count": 28,
   "metadata": {
    "deletable": false,
    "editable": false
   },
   "outputs": [
    {
     "data": {
      "text/html": [
       "<p><strong><pre style='display: inline;'>Q9</pre></strong> passed! 🙌</p>"
      ],
      "text/plain": [
       "Q9 results: All test cases passed!"
      ]
     },
     "execution_count": 28,
     "metadata": {},
     "output_type": "execute_result"
    }
   ],
   "source": [
    "grader.check(\"Q9\")"
   ]
  },
  {
   "cell_type": "markdown",
   "metadata": {
    "deletable": false,
    "editable": false
   },
   "source": [
    "**Question 10:** Using the pandas iloc function, extract the rows with passengers aged between 5 to 20 and fare above 20. Store this result in `ilocresult`. "
   ]
  },
  {
   "cell_type": "code",
   "execution_count": 29,
   "metadata": {
    "tags": []
   },
   "outputs": [],
   "source": [
    "filtered_df = titanic_df[(titanic_df['age'] >= 5) & (titanic_df['age'] <= 20) & (titanic_df['fare'] > 20)]\n",
    "\n",
    "ilocresult = filtered_df.iloc[:, [titanic_df.columns.get_loc('age'), titanic_df.columns.get_loc('fare')]]"
   ]
  },
  {
   "cell_type": "code",
   "execution_count": 30,
   "metadata": {
    "deletable": false,
    "editable": false
   },
   "outputs": [
    {
     "data": {
      "text/html": [
       "<p><strong><pre style='display: inline;'>Q10</pre></strong> passed! 🚀</p>"
      ],
      "text/plain": [
       "Q10 results: All test cases passed!"
      ]
     },
     "execution_count": 30,
     "metadata": {},
     "output_type": "execute_result"
    }
   ],
   "source": [
    "grader.check(\"Q10\")"
   ]
  },
  {
   "cell_type": "markdown",
   "metadata": {
    "deletable": false,
    "editable": false
   },
   "source": [
    "**Question 11A:** Replace the integer values in the `Pclass` columns with corresponding string data types. For example, replace 1 with 'Upper', 2 with 'Middle' and 3 with 'Lower'."
   ]
  },
  {
   "cell_type": "code",
   "execution_count": 31,
   "metadata": {
    "tags": []
   },
   "outputs": [],
   "source": [
    "titanic_df['pclass'] = titanic_df['pclass'].replace({1: 'Upper', 2: 'Middle', 3: 'Lower'})"
   ]
  },
  {
   "cell_type": "code",
   "execution_count": 32,
   "metadata": {
    "deletable": false,
    "editable": false
   },
   "outputs": [
    {
     "data": {
      "text/html": [
       "<p><strong><pre style='display: inline;'>Q11A</pre></strong> passed! 🙌</p>"
      ],
      "text/plain": [
       "Q11A results: All test cases passed!"
      ]
     },
     "execution_count": 32,
     "metadata": {},
     "output_type": "execute_result"
    }
   ],
   "source": [
    "grader.check(\"Q11A\")"
   ]
  },
  {
   "cell_type": "markdown",
   "metadata": {
    "deletable": false,
    "editable": false
   },
   "source": [
    "**Question 11B:** Using a pivot table, represent the male and female passengers that survived in each of the three passenger classes. Store the result in `class_count`."
   ]
  },
  {
   "cell_type": "code",
   "execution_count": 33,
   "metadata": {
    "tags": []
   },
   "outputs": [],
   "source": [
    "class_count = titanic_df.pivot_table(index='pclass', columns='sex', values='survived', aggfunc='sum', fill_value=0)"
   ]
  },
  {
   "cell_type": "code",
   "execution_count": 34,
   "metadata": {
    "deletable": false,
    "editable": false
   },
   "outputs": [
    {
     "data": {
      "text/html": [
       "<p><strong><pre style='display: inline;'>Q11B</pre></strong> passed! 🎉</p>"
      ],
      "text/plain": [
       "Q11B results: All test cases passed!"
      ]
     },
     "execution_count": 34,
     "metadata": {},
     "output_type": "execute_result"
    }
   ],
   "source": [
    "grader.check(\"Q11B\")"
   ]
  },
  {
   "cell_type": "markdown",
   "metadata": {},
   "source": [
    "**Well done on completing the first part of your assignment. Take a break and move onto the next!**"
   ]
  }
 ],
 "metadata": {
  "kernelspec": {
   "display_name": "Python 3",
   "language": "python",
   "name": "python3"
  },
  "language_info": {
   "codemirror_mode": {
    "name": "ipython",
    "version": 3
   },
   "file_extension": ".py",
   "mimetype": "text/x-python",
   "name": "python",
   "nbconvert_exporter": "python",
   "pygments_lexer": "ipython3",
   "version": "3.12.3"
  },
  "otter": {
   "OK_FORMAT": true,
   "tests": {
    "Q0": {
     "name": "Q0",
     "points": 1,
     "suites": [
      {
       "cases": [
        {
         "code": ">>> assert titanic_df.shape == (891, 14)\n",
         "hidden": false,
         "locked": false
        }
       ],
       "scored": true,
       "setup": "",
       "teardown": "",
       "type": "doctest"
      }
     ]
    },
    "Q1": {
     "name": "Q1",
     "points": 3,
     "suites": [
      {
       "cases": [
        {
         "code": ">>> assert mean_fare == 32.204\n",
         "hidden": false,
         "locked": false
        }
       ],
       "scored": true,
       "setup": "",
       "teardown": "",
       "type": "doctest"
      }
     ]
    },
    "Q10": {
     "name": "Q10",
     "points": 3,
     "suites": [
      {
       "cases": [
        {
         "code": ">>> assert ilocresult.shape == (53, 2)\n>>> assert ilocresult['age'].median() == 15.0\n>>> assert ilocresult['fare'].median() == 34.375\n",
         "hidden": false,
         "locked": false
        }
       ],
       "scored": true,
       "setup": "",
       "teardown": "",
       "type": "doctest"
      }
     ]
    },
    "Q11A": {
     "name": "Q11A",
     "points": 2,
     "suites": [
      {
       "cases": [
        {
         "code": ">>> assert titanic_df['pclass'].value_counts()['Upper'] == 216\n>>> assert titanic_df['pclass'].value_counts()['Lower'] == 491\n>>> assert titanic_df['pclass'].value_counts()['Middle'] == 184\n",
         "hidden": false,
         "locked": false
        }
       ],
       "scored": true,
       "setup": "",
       "teardown": "",
       "type": "doctest"
      }
     ]
    },
    "Q11B": {
     "name": "Q11B",
     "points": 4,
     "suites": [
      {
       "cases": [
        {
         "code": ">>> assert list(class_count['female']) == [72, 70, 91]\n>>> assert list(class_count['male']) == [47, 17, 45]\n",
         "hidden": false,
         "locked": false
        }
       ],
       "scored": true,
       "setup": "",
       "teardown": "",
       "type": "doctest"
      }
     ]
    },
    "Q2": {
     "name": "Q2",
     "points": 3,
     "suites": [
      {
       "cases": [
        {
         "code": ">>> assert titanic_df.shape == (891, 12)\n>>> assert 'Cabin' not in titanic_df.columns\n>>> assert 'Family_Size' not in titanic_df.columns\n",
         "hidden": false,
         "locked": false
        }
       ],
       "scored": true,
       "setup": "",
       "teardown": "",
       "type": "doctest"
      }
     ]
    },
    "Q3": {
     "name": "Q3",
     "points": 3,
     "suites": [
      {
       "cases": [
        {
         "code": ">>> assert female_percentage == 35.241\n",
         "hidden": false,
         "locked": false
        }
       ],
       "scored": true,
       "setup": "",
       "teardown": "",
       "type": "doctest"
      }
     ]
    },
    "Q4": {
     "name": "Q4",
     "points": 2,
     "suites": [
      {
       "cases": [
        {
         "code": ">>> assert 'PassengerId' not in titanic_df.columns\n>>> assert titanic_df.index.name == 'PassengerId'\n>>> assert titanic_df.shape == (891, 11)\n",
         "hidden": false,
         "locked": false
        }
       ],
       "scored": true,
       "setup": "",
       "teardown": "",
       "type": "doctest"
      }
     ]
    },
    "Q5": {
     "name": "Q5",
     "points": 3,
     "suites": [
      {
       "cases": [
        {
         "code": ">>> assert list(titanic_df.columns) == ['age', 'embarked', 'fare', 'name', 'parch', 'pclass', 'sex', 'sibsp', 'survived', 'ticket', 'title']\n",
         "hidden": false,
         "locked": false
        }
       ],
       "scored": true,
       "setup": "",
       "teardown": "",
       "type": "doctest"
      }
     ]
    },
    "Q6": {
     "name": "Q6",
     "points": null,
     "suites": [
      {
       "cases": [
        {
         "code": ">>> assert highest_fare.index[0] == 259\n>>> assert highest_fare['fare'].values[0] == 512.3292\n>>> assert lowest_fare['fare'].values[0] == 4.0125\n>>> assert lowest_fare.index[0] == 379\n",
         "hidden": false,
         "locked": false
        }
       ],
       "scored": true,
       "setup": "",
       "teardown": "",
       "type": "doctest"
      }
     ]
    },
    "Q7": {
     "name": "Q7",
     "points": 4,
     "suites": [
      {
       "cases": [
        {
         "code": ">>> assert CalculateSurvivalRate(titanic_df.loc[(titanic_df['sibsp'] > 0) | (titanic_df['parch'] > 0)]) == 50.565\n>>> assert CalculateSurvivalRate(titanic_df.loc[(titanic_df['sibsp'] == 0) & (titanic_df['parch'] == 0)]) == 30.354\n",
         "hidden": false,
         "locked": false
        }
       ],
       "scored": true,
       "setup": "",
       "teardown": "",
       "type": "doctest"
      }
     ]
    },
    "Q8A": {
     "name": "Q8A",
     "points": 2,
     "suites": [
      {
       "cases": [
        {
         "code": ">>> assert titanic_df['family'].value_counts()[True] == 354\n>>> assert titanic_df['family'].value_counts()[False] == 537\n",
         "hidden": false,
         "locked": false
        }
       ],
       "scored": true,
       "setup": "",
       "teardown": "",
       "type": "doctest"
      }
     ]
    },
    "Q8B": {
     "name": "Q8B",
     "points": 2,
     "suites": [
      {
       "cases": [
        {
         "code": ">>> assert survival_rate_with_family == 50.565\n",
         "hidden": false,
         "locked": false
        }
       ],
       "scored": true,
       "setup": "",
       "teardown": "",
       "type": "doctest"
      }
     ]
    },
    "Q8C": {
     "name": "Q8C",
     "points": 2,
     "suites": [
      {
       "cases": [
        {
         "code": ">>> assert survival_rate_without_family == 30.354\n",
         "hidden": false,
         "locked": false
        }
       ],
       "scored": true,
       "setup": "",
       "teardown": "",
       "type": "doctest"
      }
     ]
    },
    "Q8D": {
     "name": "Q8D",
     "points": 2,
     "suites": [
      {
       "cases": [
        {
         "code": ">>> assert ans.strip().lower() == 'yes'\n",
         "hidden": false,
         "locked": false
        }
       ],
       "scored": true,
       "setup": "",
       "teardown": "",
       "type": "doctest"
      }
     ]
    },
    "Q9": {
     "name": "Q9",
     "points": 3,
     "suites": [
      {
       "cases": [
        {
         "code": ">>> assert male_survival_percentage == 18.891\n>>> assert female_surival_percentage == 74.204\n",
         "hidden": false,
         "locked": false
        }
       ],
       "scored": true,
       "setup": "",
       "teardown": "",
       "type": "doctest"
      }
     ]
    }
   }
  }
 },
 "nbformat": 4,
 "nbformat_minor": 2
}
