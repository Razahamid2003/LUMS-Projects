{
  "cells": [
    {
      "cell_type": "markdown",
      "metadata": {
        "id": "41ncfz31mN1B"
      },
      "source": [
        "\n",
        "# **CS-331: Introduction to Artificial Intelligence - Project Spring 2024**\n",
        "\n",
        "## **Robot Path Prediciton**\n",
        "### **Deadline: $\\color{pink}{\\text{26th April 2024}}$**\n",
        "\n",
        "### Submission Instructions\n",
        "\n",
        "1. All cells must be run once before submission and should $\\color{orange}{\\text{clearly display the results (graphs/plots/visualizations etc)}}$. Failure to do so will result in 0 marks for that specific part.\n",
        "\n",
        "2. You are required to zip all your files and upload on LMS in the Project tab by the deadline.\n",
        "\n",
        "3. The zip file $\\color{orange}{\\text{MUST}}$ contain your jupyter notebooks (.ipynb) and python script (.py) files for $\\color{orange}{\\text{EACH}}$ part.\n",
        "\n",
        "4. The zip file should follow the naming convention \"GroupID_rollnumber1_rollnumber2_Project\" with 'rollnumber' replaced with each partner's respective ID. If you are not working in a pair, please name the zip file as \"rollnumber_Project\".\n",
        "\n",
        "### Late Submission Policy\n",
        "\n",
        "2. $\\color{red}{\\text{No submission}}$ will be accepted after the deadline.\n",
        "2. $\\color{red}{\\text{No submission}}$ will be accepted via email/Slack, unless announced by the course staff beforehand. It is your responsibility to stay updated with any announcements.\n",
        "\n",
        "### Plagiarism Policy\n",
        "All parts of the project are to be done/discussed in group of two (if applicable). The course staff will refer any case of plagiarism\n",
        "from others or the internet immediately to the DC. If you are confused about what\n",
        "constitutes plagiarism, it is your responsibility to consult with the TAs\n",
        "in a timely manner.\n",
        "\n",
        "### Vivas\n",
        "\n",
        "The teaching staff reserves the right to conduct a viva for any student. Please do not freeload, any valid complaints from your group partner will be taken seriously and would lead to penalisations.\n",
        "\n",
        "-----------------------------------------------------------------------"
      ]
    },
    {
      "cell_type": "markdown",
      "metadata": {
        "id": "H6mCDrscnWrz"
      },
      "source": [
        "### **Problem Description**\n",
        "\n",
        "In this project, you will be solving a problem where micro robots are tasked with navigating within a wooden box environment which has obstacles. Your objective is to predict the trajectory of the robot over a specified duration based on historical video data.\n",
        "\n",
        "### **Time Series and Lookback**\n",
        "\n",
        "The data we have is $\\color{orange}{\\text{time-series}}$. You will come across this data type very often in this field, since it forms the basis for many AI-based tasks. Let us learn some concepts regarding that. <br/>\n",
        "A time series dataset is a collection of data points (or observations) recorded at successive, equally spaced intervals of time, with the intention of analyzing patterns/trend, and behavior of a feature over time.\n",
        "For example, if we have a feature's values across a 10 timestep window i.e., `[t-10, t-9, t-8, ... t-1]` we can predict its value at time step `t` based on aggregated information from the previous timesteps. </br>\n",
        "\n",
        "#### Lookback\n",
        "The lookback concept in time series analysis refers to the number of previous observations used as input when predicting the next value in the series. It determines how far back in time the model \"looks\" to gather information for making predictions. For example, with a lookback of one, only the immediately preceding observation is used for prediction, while with a lookback of two, the two previous observations are considered, and so on. Consider these examples: <br/>\n",
        "\n",
        "**Lookback of One** <br/>\n",
        "Input: (502, 59) -> Output: (506, 59)\n",
        "\n",
        "**Look-back of Two** <br/>\n",
        "Input: ((496, 63), (502, 59)) -> Output: (506, 59)\n",
        "\n",
        "### **Dataset Overview**\n",
        "\n",
        "You have the following format for train and test data in this project:\n",
        "\n",
        "* Training Data\n",
        "  - A 1200-second video recording `(training_data.mp4)` of the robot's movement within the wooden box environment. This video is captured at 30 frames per second (fps).\n",
        "  - A text file  `(training_data.txt)`containing the robot's coordinates, with 30 values recorded for each second (since video is 30 fps).\n",
        "\n",
        "* Testing Data\n",
        "  - A test video `(test01.mp4)`, 60 seconds long recorded at 30 fps.\n",
        "  - A test txt file `(test01.txt)` following the same format as the `training_data.txt` file.\n",
        "\n",
        "### **Objective**\n",
        "\n",
        "Your goal is to forecast the positions of the robot using KNN, Regression Tree (decision trees that can take continuous values instead of class labels), and Neural Networks."
      ]
    },
    {
      "cell_type": "markdown",
      "metadata": {
        "id": "waR27YWHYoQI"
      },
      "source": [
        "# **Part 1A: KNN from Scratch [30 marks]**\n",
        "\n",
        "You are $\\color{red}{\\text{NOT}}$ allowed to use scikit-learn or any other machine learning toolkit for this part (Part 1A). You have to implement your own kNN model. However, you can use numpy, matplotlib, seaborn, and other standard Python libraries for this part. Contact the TAs if you want to use any other libraries.\n",
        "\n",
        "### Imports"
      ]
    },
    {
      "cell_type": "code",
      "execution_count": null,
      "metadata": {
        "id": "dYDd7mLZo7Jh"
      },
      "outputs": [],
      "source": [
        "# import all required libraries here\n",
        "import numpy as np\n",
        "\n",
        "# mount the drive if you are using google colab"
      ]
    },
    {
      "cell_type": "markdown",
      "metadata": {
        "id": "0_QinQ6Zos_K"
      },
      "source": [
        "### Loading and Preprocessing the Dataset\n",
        "\n",
        "Get the training and testing data `(trainX and testX)` (you may use the function below to preprocess it). Further, think about how you would form the predictions array `(trainY and testY)` using a lookback of 1."
      ]
    },
    {
      "cell_type": "code",
      "execution_count": null,
      "metadata": {
        "id": "KwBjRxuEnU97"
      },
      "outputs": [],
      "source": [
        "# Do not edit this cell\n",
        "def process_data(file_name):\n",
        "    with open(file_name, 'r') as file:\n",
        "        lines = file.readlines()\n",
        "    data = []\n",
        "    for line in lines:          # process the lines to extract x and y coordinates\n",
        "        x_str, y_str = line.strip().split(',')\n",
        "        x = int(x_str)\n",
        "        y = int(y_str)\n",
        "        data.append([x, y])     # store x and y coordinates for each time step\n",
        "    data = np.array(data)\n",
        "    return data"
      ]
    },
    {
      "cell_type": "markdown",
      "metadata": {
        "id": "a7WjKr18p9R8"
      },
      "source": [
        "\n",
        "### Implement K-Nearest Neighbors (KNN) from Scratch\n",
        "\n",
        "  * Develop the KNN algorithm.\n",
        "  * This involves creating functions for calculating distances between data points, finding nearest neighbors, and making predictions.\n",
        "  * For values of k where a tie occurs, you will need to break the tie by backing off to k-1 value. In case the tie persists, you will need to keep descreasing k till you get a clear winner.\n",
        "  * Use Euclidean distance in your kNN classifier\n",
        "$$\n",
        "d_{\\text{Euclidean}}(\\vec{p},\\vec{q}) = \\sqrt{(p_1 - q_1)^2 + (p_2 - q_2)^2 + (p_3 - q_3)^2 + ... + (p_n - q_n)^2}\n",
        "$$\n"
      ]
    },
    {
      "cell_type": "code",
      "execution_count": null,
      "metadata": {
        "id": "28vBNKU55EPM"
      },
      "outputs": [],
      "source": [
        "# code here"
      ]
    },
    {
      "cell_type": "markdown",
      "metadata": {},
      "source": [
        "### Evaluation and Analysis\n",
        "\n",
        "*  Plot a line graph to evaluate your model's performance (using RMSE) across a reasonable range of K values `i.e., 2, 4, 6, 8, 10`, and explain the trend in your graph. Be sure to also identify optimal k value and add reasoning for your choice. <br/>\n",
        "\n",
        "* Note that our model predicts both x and y coordinates at once, thus the RMSE needs to account for that. (This is a useful trick to remember for your future AI-based projects!)\n",
        "\n",
        "$$\n",
        "\\text{RMSE} = \\sqrt{\\frac{1}{n} \\sum_{i=1}^{n} (x_i - \\hat{x}i)^2} + \\sqrt{\\frac{1}{n} \\sum_{i=1}^{n} (y_i - \\hat{y}_i)^2}\n",
        "$$"
      ]
    },
    {
      "cell_type": "code",
      "execution_count": null,
      "metadata": {
        "id": "vDdqc1EdYoQM"
      },
      "outputs": [],
      "source": [
        "# code here"
      ]
    },
    {
      "cell_type": "markdown",
      "metadata": {
        "id": "RjsGM4zrYoQM"
      },
      "source": [
        "### Double Click to $\\color{green}{\\text{add explanation/reasoning here}}$"
      ]
    },
    {
      "cell_type": "markdown",
      "metadata": {
        "id": "8M-BRXQL5eTd"
      },
      "source": [
        "### Visualization of Actual and Predicted Path\n",
        "\n",
        "Compare the actual trajectory of robot with the one predicted by your KNN model for a 6 second interval of your choice from the testing video to check the performance of your model. Do this by plotting both paths on a single graph. The following  $\\color{pink}{\\text{important}}$ points may help you with figuring how to do this:\n",
        "\n",
        "* For the actual trajectory/path, consider how the test video maps to the txt files based on fps rate provided earlier. How many points should you choose for the required interval?\n",
        "\n",
        "* Which KNN model from the above ones should you choose and why? (provide a one-liner description)\n",
        "\n",
        "* Based on the chosen time interval (e.g. 9-15 seconds), what should be the input to the KNN model (remember that your model is using a lookback of 1) such that the output corresponds to the same timesteps as the actual trajectory?\n"
      ]
    },
    {
      "cell_type": "code",
      "execution_count": 2,
      "metadata": {
        "id": "BrEfDUc06XjE"
      },
      "outputs": [],
      "source": [
        "# plot the actual and predicted paths"
      ]
    },
    {
      "cell_type": "markdown",
      "metadata": {
        "id": "HpCkGNs46Z00"
      },
      "source": [
        "# **Part 1B: KNN using scikit-learn [10 marks]**\n",
        "\n",
        "In this part, you will implement KNN using scikit-learn (so you can independently check how well your KNN model performs compared to state-of-the-art instead of asking the TAs).\n",
        "\n",
        "- Repeat the same process that you did in Part1A for plotting the actual and predicted paths. Use the same time interval from the testing data as before (kind of understood since it is a comparison, but doesn't hurt to clarify).\n"
      ]
    },
    {
      "cell_type": "code",
      "execution_count": null,
      "metadata": {
        "id": "fuuOdlPT65FH"
      },
      "outputs": [],
      "source": [
        "# code here"
      ]
    }
  ],
  "metadata": {
    "colab": {
      "provenance": []
    },
    "kernelspec": {
      "display_name": "Python 3",
      "name": "python3"
    },
    "language_info": {
      "codemirror_mode": {
        "name": "ipython",
        "version": 3
      },
      "file_extension": ".py",
      "mimetype": "text/x-python",
      "name": "python",
      "nbconvert_exporter": "python",
      "pygments_lexer": "ipython3",
      "version": "3.11.5"
    }
  },
  "nbformat": 4,
  "nbformat_minor": 0
}
