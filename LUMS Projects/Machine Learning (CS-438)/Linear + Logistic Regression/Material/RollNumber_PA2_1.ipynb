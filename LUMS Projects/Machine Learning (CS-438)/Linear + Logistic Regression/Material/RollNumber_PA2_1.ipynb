{
 "cells": [
  {
   "cell_type": "markdown",
   "id": "5fc34735-756d-4494-9a2a-7d157d493db6",
   "metadata": {},
   "source": [
    "# Problem Background: The Great Migration\n",
    "\n",
    "**Year: 3050**\n",
    "\n",
    "The world as we knew it has changed drastically. After decades of conflict, disease, and a relentless zombie apocalypse, the human race faces extinction. The relentless hordes of the undead have ravaged cities, reduced populations, and devastated the planet's ecosystems. \n",
    "\n",
    "In a desperate bid for survival, the remaining factions of humanity have united to embark on a monumental journey to a new home: **Earth Junior**, a distant planet believed to be free from the scourge of the undead. \n",
    "\n",
    "As they prepare for this monumental journey, the survival of the human race hinges on their ability to screen potential passengers at the spaceship station. It is crucial that no zombies are allowed to enter the spacecraft, as even a single infected individual could jeopardize the entire mission and the future of humanity.\n",
    "\n",
    "In this dire situation, you find yourself as the last surviving machine learning engineer, tasked with developing a screening model to predict the zombie-ness of a person. A high human-zombie score would mean the person is likely to be a zombie. The fate of the human race depends on your expertise in machine learning, and you must create a reliable system to ensure the success of this migration to 'Earth Junior'.\n"
   ]
  },
  {
   "cell_type": "markdown",
   "id": "03373c37",
   "metadata": {
    "id": "03373c37"
   },
   "source": [
    "# Programming Assignment 2: Task 1 -- Linear Regression  [100 Marks]\n",
    "\n",
    "### Introduction\n",
    "\n",
    "In this assignment, you will be implementing Linear Regression and Logistic Regression models for the provided dataset from scratch, and will be familiarizing yourself with the corresponding scikit-learn APIs. A description of the problem statement is given at the start of each part.\n",
    "\n",
    "After this notebook you should be able to:\n",
    "\n",
    "- Set up simple regression tasks.\n",
    "\n",
    "- Understand the working of Linear Regression models and simple data preprocessing.\n",
    "\n",
    "- Implement Linear Regression models using simple `numpy`.\n",
    "\n",
    "Have fun!\n",
    "\n",
    "### Instructions\n",
    "\n",
    "- Follow along with the notebook, filling out the necessary code where instructed.\n",
    "\n",
    "- <span style=\"color: red;\">Read the Submission Instructions and Plagiarism Policy in the attached PDF.</span>\n",
    "\n",
    "- <span style=\"color: red;\">Make sure to run all cells for credit.</span>\n",
    "\n",
    "- <span style=\"color: red;\">Do not remove any pre-written code.</span> We will be using the `print` statements to grade your assignment.\n",
    "\n",
    "- <span style=\"color: red;\">You must attempt all parts.</span> Do not assume that because something is for 0 marks, you can leave it - it will definitely be used in later parts.\n",
    "\n",
    "- <span style=\"color: red;\">Do not use unauthorized libraries.</span> You are not allowed to use `sklearn` in Part A of both tasks. Failure to follow these instructions will result in a serious penalty."
   ]
  },
  {
   "cell_type": "markdown",
   "id": "54f05b27-9f04-463f-ad03-21ba330f9d4e",
   "metadata": {},
   "source": [
    "# Human-Zombie Dataset\n",
    "\n",
    "This dataset simulates human and zombie characteristics based on various lifestyle and physical traits. The dataset contains 1,000 entries, each with features that correlate with a continuous \"Human-Zombie Score\" ranging from 0 (complete human) to 100 (complete zombie).\n",
    "\n",
    "This generation of human race has smart-chips embedded in their bloodstream that can keep track of and record all these features.\n",
    "\n",
    "## Features\n",
    "\n",
    "- **Height (cm):** The height of the individual measured in centimeters, it decreases with zombie score because zombies are known to shrink in height.\n",
    "\n",
    "- **Weight (kg):** The weight of the individual measured in kilograms. Zombies tend to have a lower weight because of loss of muscle mass, tissue, organs (and soul??).\n",
    "\n",
    "- **Screen Time (hrs):** The average number of hours spent in front of screens daily. This feature increases with the human-zombie score, reflecting a more sedentary lifestyle.\n",
    "\n",
    "- **Junk Food (days/week):** The average number of days per week the individual consumes junk food. This feature also increases with the human-zombie score, indicating poorer dietary habits.\n",
    "\n",
    "- **Physical Activity (hrs/week):** The total hours spent on physical activities per week. This feature decreases as the human-zombie score increases, suggesting a decline in physical activity.\n",
    "\n",
    "- **Task Completion (scale):** Scale from 0 to 10 representing how often tasks are completed on time (0 = always on time, 10 = never on time). This score decreases with a higher human-zombie score, indicating declining productivity.\n",
    "\n",
    "- **Human-Zombie Score:** A continuous score from 0 to 100 representing the degree of \"zombie-ness\" of the individual, where 0 is fully human and 100 is completely zombie-like.\n",
    "\n",
    "## Usage\n",
    "\n",
    "This dataset can be used for various analyses, including regression modeling to predict the human-zombie score based on lifestyle and physical traits.\n"
   ]
  },
  {
   "cell_type": "markdown",
   "id": "dfb0858b",
   "metadata": {
    "id": "dfb0858b"
   },
   "source": [
    "## Multivariate Linear Regression\n",
    "\n",
    "In this part, you will implement multivariate linear regression (from scratch) to predict the the human-zombie score during screening before the person can be allowed to enter the spaceship.\n",
    "\n",
    "To do this, you have the human-zombie-datset.csv containing 1000 examples of the features described above and their scores.\n",
    "\n",
    "Each one of these input features is stored using a different scale. The features include ranges 0-10, 17-100 and some between 130-200.  This is often the case with real-world data, and understanding how to explore and clean such data is an important skill to develop.\n",
    "\n",
    "A common way to normalize features that use different scales and ranges is:\n",
    "\n",
    "- Subtract the mean value of each feature from the dataset.\n",
    "\n",
    "- After subtracting the mean, additionally scale (divide) the feature values by their respective standard deviations.\n",
    "\n",
    "Note: We only use examples of the train set to estimate the mean and standard deviation.\n",
    "\n",
    "You have to follow exactly the same steps as above i.e. implement hypothesis, cost function and gradient descent for multivariate linear regression to learn parameters $\\theta$ using train set. Finally, report the cost (error) using your learned parameters $\\theta$ on test set.\n",
    "\n",
    "**Note:** Use the slides as a reference to write the gradient descent algorithm from scratch for this problem."
   ]
  },
  {
   "cell_type": "markdown",
   "id": "a7012f9a",
   "metadata": {
    "id": "a7012f9a"
   },
   "source": [
    "### Part A: Implementation from Scratch (75 Marks)\n",
    "\n",
    "#### Imports\n",
    "\n",
    "Start off with importing in the required libraries. Note that you are **only** allowed to use `sklearn`'s train_test_split in this part and no other function from `sklearn`."
   ]
  },
  {
   "cell_type": "code",
   "execution_count": 4,
   "id": "bd302b60",
   "metadata": {
    "id": "bd302b60"
   },
   "outputs": [],
   "source": []
  },
  {
   "cell_type": "markdown",
   "id": "7ZbFdnl7YWHH",
   "metadata": {
    "id": "7ZbFdnl7YWHH"
   },
   "source": [
    "#### Preparing Data\n",
    "\n",
    "Load in your dataset and perform train-test split. Apply preprocessing steps to cater to missing values, categorical variables etc. if necessary. [5 points]"
   ]
  },
  {
   "cell_type": "code",
   "execution_count": 2,
   "id": "8eO-SSHfYWoG",
   "metadata": {
    "id": "8eO-SSHfYWoG"
   },
   "outputs": [],
   "source": [
    "# load dataset and print first few rows"
   ]
  },
  {
   "cell_type": "code",
   "execution_count": 1,
   "id": "05e5d10c-02fe-4952-b10c-cbdc125cc25a",
   "metadata": {},
   "outputs": [],
   "source": [
    "# train-test-split and shapes checking"
   ]
  },
  {
   "cell_type": "markdown",
   "id": "vbUyQTkld1mg",
   "metadata": {
    "id": "vbUyQTkld1mg"
   },
   "source": [
    "#### Normalizing Data  [20 marks]\n",
    "\n",
    "For models like Linear/Logistic Regression, and even for Neural Networks, Standardization/Normalization is a non-negotiable step in the preprocessing stage. You would find your model **broken** if you do not normalize your data.\n",
    "\n",
    "One nice way to implement this is to create a class, `StandardScaler` that can be used to store the mean and standard deviation of each feature of the training set. The `StandardScaler` class also has two functions, `fit` and `transform`.\n",
    "\n",
    "- The `fit` function is used to calculate the mean and standard deviation of each feature of the training set. [10 points]\n",
    "\n",
    "- The `transform` function is used to transform all the features using the corresponding mean and standard deviation, i.e. subtracting the mean and dividing by the standard deviation. [10 points]\n",
    "\n",
    "A very subtle and important point to note here is that the mean and standard deviation should be calculated only on the training set, and then applied to the test set. This is because in real-world scenarios, we do not have access to the test set, and hence we cannot calculate the mean and standard deviation of the test set."
   ]
  },
  {
   "cell_type": "code",
   "execution_count": 61,
   "id": "3uQdfl95d20X",
   "metadata": {
    "id": "3uQdfl95d20X"
   },
   "outputs": [],
   "source": []
  },
  {
   "cell_type": "markdown",
   "id": "sEFUXaRSe0Fx",
   "metadata": {
    "id": "sEFUXaRSe0Fx"
   },
   "source": [
    "#### Gradient Descent\n",
    "\n",
    "Now that your data is ready, you can start implementing the gradient descent algorithm. You can use the slides as a reference.\n",
    "\n",
    "You should be creating a class `LinearRegression`, similar to the design followed for `kNearestNeighbours` in the previous assignment. This means implementing the following methods:\n",
    "\n",
    "- `__init__`: The constructor of the class. You can initialize any variables, like the learning rate and the number of iterations, here. [5 points]\n",
    "\n",
    "- `fit`: This method will be used to train your model. It should take in the training data and labels as parameters, and learn the parameters using gradient descent. Save the loss values after every iteration in a list, and return it (for plotting later). [20 points]\n",
    "\n",
    "- `predict`: This method will be used to predict the labels for a given set of test data. It should take in the test data as a parameter, and return the predicted labels. [10 points]\n",
    "\n",
    "- `score`: This method will be used to calculate the mean square error for the test data. It should take in the test data and labels as parameters, and return the mean square error. Note that this is a unique case where the loss function and the final reported metric are the same. [10 points]\n",
    "\n",
    "Plot the cost function, and print your mean square error for both the train and test set. [5 points]"
   ]
  },
  {
   "cell_type": "code",
   "execution_count": null,
   "id": "DmJaTPLThAC5",
   "metadata": {
    "id": "DmJaTPLThAC5"
   },
   "outputs": [],
   "source": []
  },
  {
   "cell_type": "markdown",
   "id": "d133d738",
   "metadata": {
    "id": "d133d738"
   },
   "source": [
    "### Part B: Regularized Linear Regression Using Scikit-learn (25 Marks)\n",
    "\n",
    "Now, you'll use the [scikit-learn](https://scikit-learn.org/stable/index.html) to implement [Linear Regression](https://scikit-learn.org/stable/modules/generated/sklearn.linear_model.LinearRegression.html), [Ridge](https://scikit-learn.org/stable/modules/generated/sklearn.linear_model.Ridge.html#sklearn.linear_model.Ridge), [Lasso](https://scikit-learn.org/stable/modules/generated/sklearn.linear_model.Lasso.html#sklearn.linear_model.Lasso), [Elastic Net](https://scikit-learn.org/stable/modules/generated/sklearn.linear_model.ElasticNet.html#sklearn.linear_model.ElasticNet) and apply them to the human-zombie dataset.\n",
    "\n",
    "Try out different values of regularization coefficient (known as `alpha` in `sklearn`) and use the [Mean Squared Error](https://scikit-learn.org/stable/modules/generated/sklearn.metrics.mean_squared_error.html) to report loss with each regression.\n",
    "\n",
    "Finally, plot the regularization coefficients alpha (x-axis) with learned parameters $\\theta$ (y-axis) for Ridge and Lasso. Please read [this blog](https://scienceloft.com/technical/understanding-lasso-and-ridge-regression/) to get better understanding of the desired plots.\n"
   ]
  },
  {
   "cell_type": "markdown",
   "id": "JH5tW-lBcirG",
   "metadata": {
    "id": "JH5tW-lBcirG"
   },
   "source": [
    "#### Importing Libraries\n",
    "\n",
    "You have to use scikit-learn for this task"
   ]
  },
  {
   "cell_type": "code",
   "execution_count": 66,
   "id": "c155552f",
   "metadata": {
    "id": "c155552f"
   },
   "outputs": [],
   "source": []
  },
  {
   "cell_type": "markdown",
   "id": "cwCxt_43csKY",
   "metadata": {
    "id": "cwCxt_43csKY"
   },
   "source": [
    "#### Linear Regression (using `sklearn`)\n",
    "\n",
    "Use the [Mean Squared Error](https://scikit-learn.org/stable/modules/generated/sklearn.metrics.mean_squared_error.html) to find loss and print it. [5 points]"
   ]
  },
  {
   "cell_type": "code",
   "execution_count": 67,
   "id": "AjcYwJpXc-ta",
   "metadata": {
    "id": "AjcYwJpXc-ta"
   },
   "outputs": [],
   "source": []
  },
  {
   "cell_type": "markdown",
   "id": "asCBF4vTdc5Z",
   "metadata": {
    "id": "asCBF4vTdc5Z"
   },
   "source": [
    "#### Ridge\n",
    "\n",
    "Use the [Mean Squared Error](https://scikit-learn.org/stable/modules/generated/sklearn.metrics.mean_squared_error.html) to find loss and print it. Also plot the regularization coefficients alpha (x-axis) with learned parameters $\\theta$  (y-axis) for Ridge. [5 points + 2.5 for correct plot]"
   ]
  },
  {
   "cell_type": "code",
   "execution_count": null,
   "id": "9MDnEuDVeDgj",
   "metadata": {
    "id": "9MDnEuDVeDgj"
   },
   "outputs": [],
   "source": []
  },
  {
   "cell_type": "markdown",
   "id": "C5WADdSveEKQ",
   "metadata": {
    "id": "C5WADdSveEKQ"
   },
   "source": [
    "#### Lasso\n",
    "\n",
    "Use the [Mean Squared Error](https://scikit-learn.org/stable/modules/generated/sklearn.metrics.mean_squared_error.html) to find loss and print it. Also plot the regularization coefficients alpha (x-axis) with learned parameters $\\theta$  (y-axis) for Lasso. [5 points + 2.5 for correct plot]"
   ]
  },
  {
   "cell_type": "code",
   "execution_count": null,
   "id": "1V9um21weKK5",
   "metadata": {
    "id": "1V9um21weKK5"
   },
   "outputs": [],
   "source": []
  },
  {
   "cell_type": "markdown",
   "id": "TZUHBy1ieRq6",
   "metadata": {
    "id": "TZUHBy1ieRq6"
   },
   "source": [
    "#### Elastic Net\n",
    "\n",
    "Use the [Mean Squared Error](https://scikit-learn.org/stable/modules/generated/sklearn.metrics.mean_squared_error.html) to find loss and print it. [5 points]"
   ]
  },
  {
   "cell_type": "code",
   "execution_count": null,
   "id": "33ff315b-5943-445d-a0f1-5f9fe3542336",
   "metadata": {},
   "outputs": [],
   "source": []
  }
 ],
 "metadata": {
  "colab": {
   "provenance": []
  },
  "kernelspec": {
   "display_name": "Python 3",
   "language": "python",
   "name": "python3"
  },
  "language_info": {
   "codemirror_mode": {
    "name": "ipython",
    "version": 3
   },
   "file_extension": ".py",
   "mimetype": "text/x-python",
   "name": "python",
   "nbconvert_exporter": "python",
   "pygments_lexer": "ipython3",
   "version": "3.12.4"
  }
 },
 "nbformat": 4,
 "nbformat_minor": 5
}
