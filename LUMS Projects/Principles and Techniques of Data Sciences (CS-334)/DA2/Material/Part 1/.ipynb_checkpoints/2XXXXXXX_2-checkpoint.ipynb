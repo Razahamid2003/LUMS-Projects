{
 "cells": [
  {
   "cell_type": "code",
   "execution_count": null,
   "metadata": {
    "deletable": false,
    "editable": false
   },
   "outputs": [],
   "source": [
    "# Initialize Otter\n",
    "import otter\n",
    "grader = otter.Notebook(\"demo.ipynb\")"
   ]
  },
  {
   "cell_type": "markdown",
   "metadata": {},
   "source": [
    "# Assignment Instructions:\n",
    "\n",
    "*   You are  **not allowed to use for loops** anywhere in this assignment, any use of for loops will give you a 0 in the question\n",
    "*   You are not allowed to answer any question by hard-coding the values. Any attempt to do so will give you a 0 in that question\n",
    "\n",
    "* **How to install 'otter'**: Run `pip install otter-grader` in your Anaconda Command Prompt\n",
    "* **Otter**: It is an autograder that we will be using for grading your notebooks.\n",
    "* **grader.check('qn')**: This command runs test cases for nth question `qn` provided to you and displays the result. But these are not the only test cases, these are provided just for your basic testing. There will be some *hidden test cases* on which your answers will be tested as well.\n",
    "* You are **not** allowed to edit any pre-defined variables and as per the instructions for every question you have to assign your answers to these variables.\n",
    "* Write your answers in place of `...`\n",
    "* Rename this file to `your_roll_number_DA2_1.ipynb` and upload a zip file with **only** the two notebooks on LMS. The zip file should be renamed to `your_roll_number_DA2.zip`\n",
    "\n",
    "\n",
    "\n"
   ]
  },
  {
   "cell_type": "code",
   "execution_count": null,
   "metadata": {},
   "outputs": [],
   "source": [
    "\"\"\"Assignment Imports\"\"\"\n",
    "import pandas as pd\n",
    "import numpy as np\n",
    "import matplotlib.pyplot as plt\n",
    "import seaborn as sns\n",
    "import regex as re\n"
   ]
  },
  {
   "cell_type": "markdown",
   "metadata": {},
   "source": [
    "### What makes a movie a great movie? Lets get started with analyzing the IMDb dataset to determine what makes a movie great. By examining various factors such as ratings, box office performance, genres, and more, we will uncover the characteristics of top movies and extract interesting insights.\n",
    "### Using these datadriven insights, let's see if we can plan a movie of our own."
   ]
  },
  {
   "cell_type": "markdown",
   "metadata": {},
   "source": [
    "## **Use of for loops to traverse the dataset is not allowed!**"
   ]
  },
  {
   "cell_type": "markdown",
   "metadata": {
    "deletable": false,
    "editable": false
   },
   "source": [
    "**Question 0:** Read the dataframe `imdb_top_1000.csv` and store it in a variable `df` and print the first 5 rows"
   ]
  },
  {
   "cell_type": "code",
   "execution_count": null,
   "metadata": {
    "tags": []
   },
   "outputs": [],
   "source": [
    "..."
   ]
  },
  {
   "cell_type": "code",
   "execution_count": null,
   "metadata": {
    "deletable": false,
    "editable": false
   },
   "outputs": [],
   "source": [
    "grader.check(\"q1\")"
   ]
  },
  {
   "cell_type": "markdown",
   "metadata": {
    "deletable": false,
    "editable": false
   },
   "source": [
    "## Data Cleaning\n",
    "**Question 2a:** We all know that Null values are a huge problem. Therefore, we shall begin our data cleaning process by finding all the rows that contain Null values. First, find all the null values associated with each column and `print` the results, then find the total null values in the dataframe and store the results in a variable called `numOfNullVals`."
   ]
  },
  {
   "cell_type": "code",
   "execution_count": null,
   "metadata": {
    "tags": []
   },
   "outputs": [],
   "source": [
    "\n",
    "..."
   ]
  },
  {
   "cell_type": "code",
   "execution_count": null,
   "metadata": {
    "deletable": false,
    "editable": false
   },
   "outputs": [],
   "source": [
    "grader.check(\"q2\")"
   ]
  },
  {
   "cell_type": "markdown",
   "metadata": {
    "deletable": false,
    "editable": false
   },
   "source": [
    "**Question 2b:** Since we lose alot of data by removing all our null values,let's see if there is a way we can replace our null value columns. For the null value columns that have a numerical data type, replace the null values with the mean of the remaining values."
   ]
  },
  {
   "cell_type": "code",
   "execution_count": null,
   "metadata": {
    "tags": []
   },
   "outputs": [],
   "source": []
  },
  {
   "cell_type": "code",
   "execution_count": null,
   "metadata": {
    "deletable": false,
    "editable": false
   },
   "outputs": [],
   "source": [
    "grader.check(\"q2b\")"
   ]
  },
  {
   "cell_type": "markdown",
   "metadata": {
    "deletable": false,
    "editable": false
   },
   "source": [
    "**Question 2c:** Do any of the remaining columns contain null values, if so drop all the null values from the dataframe."
   ]
  },
  {
   "cell_type": "code",
   "execution_count": null,
   "metadata": {
    "tags": []
   },
   "outputs": [],
   "source": [
    "..."
   ]
  },
  {
   "cell_type": "code",
   "execution_count": null,
   "metadata": {
    "deletable": false,
    "editable": false
   },
   "outputs": [],
   "source": [
    "grader.check(\"q2c\")"
   ]
  },
  {
   "cell_type": "markdown",
   "metadata": {
    "deletable": false,
    "editable": false
   },
   "source": [
    "**Question 3:** We don't need all the columns for data analysis, find the `Poster_Link` column and remove it from the dataset."
   ]
  },
  {
   "cell_type": "code",
   "execution_count": null,
   "metadata": {
    "tags": []
   },
   "outputs": [],
   "source": [
    "..."
   ]
  },
  {
   "cell_type": "code",
   "execution_count": null,
   "metadata": {
    "deletable": false,
    "editable": false
   },
   "outputs": [],
   "source": [
    "grader.check(\"q3\")"
   ]
  },
  {
   "cell_type": "markdown",
   "metadata": {
    "deletable": false,
    "editable": false
   },
   "source": [
    "**Question 4a** Before we do EDA, we need to make the data usable. For example the values in `runtime` are in the form `142 min`, change this to `142` and change all the values in this column into integers."
   ]
  },
  {
   "cell_type": "raw",
   "metadata": {
    "deletable": false,
    "editable": false
   },
   "source": []
  },
  {
   "cell_type": "code",
   "execution_count": null,
   "metadata": {
    "tags": []
   },
   "outputs": [],
   "source": [
    "...\n"
   ]
  },
  {
   "cell_type": "code",
   "execution_count": null,
   "metadata": {
    "deletable": false,
    "editable": false
   },
   "outputs": [],
   "source": [
    "grader.check(\"q4a\")"
   ]
  },
  {
   "cell_type": "markdown",
   "metadata": {
    "deletable": false,
    "editable": false
   },
   "source": [
    "**Question 4b** Some of our columns are not stored correctly and we cannot do data analysis unless we fix them. The column 'gross' has data values in the format '134,966,411', change this to 134966411 and change all the values in this column into float."
   ]
  },
  {
   "cell_type": "code",
   "execution_count": null,
   "metadata": {
    "tags": []
   },
   "outputs": [],
   "source": [
    " ..."
   ]
  },
  {
   "cell_type": "code",
   "execution_count": null,
   "metadata": {
    "deletable": false,
    "editable": false
   },
   "outputs": [],
   "source": [
    "grader.check(\"q4b\")"
   ]
  },
  {
   "cell_type": "markdown",
   "metadata": {
    "deletable": false,
    "editable": false
   },
   "source": [
    "**Question 4c** Find all the unique values associated with the `Certificate` column and and replace each with a number (starting from 0 and so on, this is similar to the one-hot-encoding mechansim you have studied in class). For example `U` might be replaced with `2` and so on. The following function may be helpful in this regard: 'https://pandas.pydata.org/docs/reference/api/pandas.factorize.html'"
   ]
  },
  {
   "cell_type": "code",
   "execution_count": null,
   "metadata": {
    "tags": []
   },
   "outputs": [],
   "source": [
    "..."
   ]
  },
  {
   "cell_type": "code",
   "execution_count": null,
   "metadata": {
    "deletable": false,
    "editable": false
   },
   "outputs": [],
   "source": [
    "grader.check(\"q4c\")"
   ]
  },
  {
   "cell_type": "markdown",
   "metadata": {
    "deletable": false,
    "editable": false
   },
   "source": [
    "**Question 5** Before we start we need to find a way to find all the unique genres. Create a variable called `unique_genres` and store all the genres in it. Make sure that the genres are saved in alphabetical order (i.e `['Action','Adventure',...]`). You **are allowed** to use for loops for  this part, (though this question can be solved without it)  "
   ]
  },
  {
   "cell_type": "code",
   "execution_count": null,
   "metadata": {
    "tags": []
   },
   "outputs": [],
   "source": [
    "...\n"
   ]
  },
  {
   "cell_type": "code",
   "execution_count": null,
   "metadata": {
    "deletable": false,
    "editable": false
   },
   "outputs": [],
   "source": [
    "grader.check(\"q5\")"
   ]
  },
  {
   "cell_type": "markdown",
   "metadata": {
    "deletable": false,
    "editable": false
   },
   "source": [
    "**Question 5a**: Create a column against each value in `unique_genres` ,and populate the column with `1` if the movie belongs to that genre and `0` otherwise.  You **are allowed** to use for loops for  this part, (though this question can be solved without it using https://pandas.pydata.org/docs/reference/api/pandas.Series.str.get_dummies.html)  "
   ]
  },
  {
   "cell_type": "code",
   "execution_count": null,
   "metadata": {
    "tags": []
   },
   "outputs": [],
   "source": [
    "..."
   ]
  },
  {
   "cell_type": "code",
   "execution_count": null,
   "metadata": {
    "deletable": false,
    "editable": false
   },
   "outputs": [],
   "source": [
    "grader.check(\"q5a\")"
   ]
  },
  {
   "cell_type": "markdown",
   "metadata": {
    "deletable": false,
    "editable": false,
    "vscode": {
     "languageId": "raw"
    }
   },
   "source": [
    "**Question 5b**: Since we no longer need the  `Genre`column, remove it from `df`"
   ]
  },
  {
   "cell_type": "code",
   "execution_count": null,
   "metadata": {
    "tags": []
   },
   "outputs": [],
   "source": [
    "..."
   ]
  },
  {
   "cell_type": "code",
   "execution_count": null,
   "metadata": {
    "deletable": false,
    "editable": false
   },
   "outputs": [],
   "source": [
    "grader.check(\"q5b\")"
   ]
  },
  {
   "cell_type": "markdown",
   "metadata": {
    "deletable": false,
    "editable": false
   },
   "source": [
    "**Question 6a:** Then in order to make it easier to analyze data, Make all the\n",
    "column values lowercase, for example `Runtime` should be `runtime`"
   ]
  },
  {
   "cell_type": "code",
   "execution_count": null,
   "metadata": {
    "tags": []
   },
   "outputs": [],
   "source": [
    "..."
   ]
  },
  {
   "cell_type": "code",
   "execution_count": null,
   "metadata": {
    "deletable": false,
    "editable": false
   },
   "outputs": [],
   "source": [
    "grader.check(\"q6\")"
   ]
  },
  {
   "cell_type": "markdown",
   "metadata": {
    "deletable": false,
    "editable": false
   },
   "source": [
    "**Question 6b:** Replace the values in the `released_year`column and round them to the corresponding decade. For example movies that were released in `1991` and `1995` will now both be replaced with `1990`. Before doing this, change the `released_year` column into a numerical dataType, (If some of the values are non-numerical replace them with `nan`). \n",
    "\n",
    "After doing the above task check if there are `null` or `nan` values in the dataframe, if so drop all the rows containing such values"
   ]
  },
  {
   "cell_type": "code",
   "execution_count": null,
   "metadata": {
    "tags": []
   },
   "outputs": [],
   "source": [
    "..."
   ]
  },
  {
   "cell_type": "code",
   "execution_count": null,
   "metadata": {
    "deletable": false,
    "editable": false
   },
   "outputs": [],
   "source": [
    "grader.check(\"q6b\")"
   ]
  },
  {
   "cell_type": "markdown",
   "metadata": {
    "deletable": false,
    "editable": false
   },
   "source": [
    "## Data Analysis:\n",
    "### Lets get started with making the greatest movie of all time"
   ]
  },
  {
   "cell_type": "markdown",
   "metadata": {
    "deletable": false,
    "editable": false
   },
   "source": [
    "**Question 7:** What is the highest-rated movie in the `thriller` genre according to `imdb_rating`? If two movies have the same `imdb_rating` , please select the one that comes first alphabetically. store the result in `top_thriller_movie`. The result should be a single row, containing the top thriller movie."
   ]
  },
  {
   "cell_type": "code",
   "execution_count": null,
   "metadata": {
    "tags": []
   },
   "outputs": [],
   "source": [
    "..."
   ]
  },
  {
   "cell_type": "code",
   "execution_count": null,
   "metadata": {
    "deletable": false,
    "editable": false
   },
   "outputs": [],
   "source": [
    "grader.check(\"q7\")"
   ]
  },
  {
   "cell_type": "markdown",
   "metadata": {
    "deletable": false,
    "editable": false
   },
   "source": [
    "**Question 8**: Now that we have our basic analysis tools in the bag, lets get started with choosing our director.\n",
    "\n",
    "Which director should we chooose to direct our movie? Since we aren't sure which directors will respond to our request (due to budget constraints we will be asking them to direct it for free), lets find the top 10 directors who have the highest average `imdb_rating`?Note that average here refers to the mean.\n",
    "\n",
    "Store the results in a list called `top_directors`.\n"
   ]
  },
  {
   "cell_type": "code",
   "execution_count": null,
   "metadata": {
    "tags": []
   },
   "outputs": [],
   "source": [
    "..."
   ]
  },
  {
   "cell_type": "code",
   "execution_count": null,
   "metadata": {
    "deletable": false,
    "editable": false
   },
   "outputs": [],
   "source": [
    "grader.check(\"q8\")"
   ]
  },
  {
   "cell_type": "markdown",
   "metadata": {
    "deletable": false,
    "editable": false
   },
   "source": [
    "<!-- BEGIN QUESTION -->\n",
    "\n",
    "**Question 8b**: Do you think IMBD Rating is an appropriate way to determine who the top director is? If so why? Is there a better column or combination of columns which can be used to determine who the best director is? (Since we don't want a director who isn't the absolute best)"
   ]
  },
  {
   "cell_type": "code",
   "execution_count": null,
   "metadata": {
    "tags": []
   },
   "outputs": [],
   "source": [
    "\"\"\"Space to write your answer \"\"\""
   ]
  },
  {
   "cell_type": "markdown",
   "metadata": {
    "deletable": false,
    "editable": false
   },
   "source": [
    "<!-- END QUESTION -->\n",
    "\n",
    "**Question 9**:Since we want our movie to be highly rated and also highly profitable,lets find the star who has the net highest grossing films of all time.\n",
    "\n",
    "So take the ` 'star1', 'star2', 'star3', 'star4'`  and `gross` columns and combine them into a single dataFrame called `star_df` which has 2 columns `star` containing the name of the top actor and `gross` containing the net gross values their films have earned. (Note: The net gross value refers to the total amount that all their films have earned combined)\n",
    "\n",
    "You may use the melt operation (https://pandas.pydata.org/docs/reference/api/pandas.melt.html)  to solve the question, though it is not necessary (nor needed ) to use it."
   ]
  },
  {
   "cell_type": "code",
   "execution_count": null,
   "metadata": {
    "tags": []
   },
   "outputs": [],
   "source": [
    "..."
   ]
  },
  {
   "cell_type": "code",
   "execution_count": null,
   "metadata": {
    "deletable": false,
    "editable": false
   },
   "outputs": [],
   "source": [
    "grader.check(\"q9a\")"
   ]
  },
  {
   "cell_type": "markdown",
   "metadata": {
    "deletable": false,
    "editable": false
   },
   "source": [
    "**Question 9.2:** Use star_df to find who the highest grossing actor is and store the result (i.e the same of the actor) in the `movie_lead` variable"
   ]
  },
  {
   "cell_type": "code",
   "execution_count": null,
   "metadata": {
    "tags": []
   },
   "outputs": [],
   "source": [
    "..."
   ]
  },
  {
   "cell_type": "code",
   "execution_count": null,
   "metadata": {
    "deletable": false,
    "editable": false
   },
   "outputs": [],
   "source": [
    "grader.check(\"q9b\")"
   ]
  },
  {
   "cell_type": "markdown",
   "metadata": {
    "deletable": false,
    "editable": false
   },
   "source": [
    "**Question 10:** As data scientists, every decision we make will be datadriven, including the runtime of our movie.\n",
    "First add a new column `is_long` to indicate if the movie runtime is greater than 150 minutes.\n",
    "Store `1` if the movie is greater than 150 and 0 otherwise. We will use this in our visualization section later.\n"
   ]
  },
  {
   "cell_type": "code",
   "execution_count": null,
   "metadata": {
    "tags": []
   },
   "outputs": [],
   "source": [
    "...\n"
   ]
  },
  {
   "cell_type": "code",
   "execution_count": null,
   "metadata": {
    "deletable": false,
    "editable": false
   },
   "outputs": [],
   "source": [
    "grader.check(\"q10\")"
   ]
  },
  {
   "cell_type": "markdown",
   "metadata": {
    "deletable": false,
    "editable": false
   },
   "source": [
    "<!-- BEGIN QUESTION -->\n",
    "\n",
    "# Data Visualization\n",
    "**Question 11**: Use a heatmap of the different genres to find out how they are coorleated to one another. Store the results of your correlation matrix in `correlation_matrix`\n"
   ]
  },
  {
   "cell_type": "code",
   "execution_count": null,
   "metadata": {
    "tags": []
   },
   "outputs": [],
   "source": [
    "..."
   ]
  },
  {
   "cell_type": "markdown",
   "metadata": {
    "deletable": false,
    "editable": false
   },
   "source": [
    "<!-- END QUESTION -->\n",
    "\n",
    "**Question 12**: Since it is difficult to determine an exact runtime for our movie, lets aim that our movie runtime be between the 25th and 75th percentile of movies that are lower than 150 mins.\n",
    "Plot a histplot showing the distribution of runtimes for movies. Find the 25th and 75th percentile and store it in a tuple `possible_runtime` in the format (25th percentile, 75th percentile)"
   ]
  },
  {
   "cell_type": "code",
   "execution_count": null,
   "metadata": {
    "tags": []
   },
   "outputs": [],
   "source": [
    "..."
   ]
  },
  {
   "cell_type": "code",
   "execution_count": null,
   "metadata": {
    "deletable": false,
    "editable": false
   },
   "outputs": [],
   "source": [
    "grader.check(\"q12\")"
   ]
  },
  {
   "cell_type": "markdown",
   "metadata": {
    "deletable": false,
    "editable": false
   },
   "source": [
    "**Question 13**: Since we're aiming to make the highest grossing and highest rated movie of all time, Lets look at the previous movies that have met the mark. Plot the imbd ratings for the 10 highest grossing movies, and if any of these movie(s) have a rating greater than 9.5 store it in `movie_to_beat`, if there is no such movie, then movie_to_beat should be `\"\"`"
   ]
  },
  {
   "cell_type": "code",
   "execution_count": null,
   "metadata": {
    "tags": []
   },
   "outputs": [],
   "source": [
    "..."
   ]
  },
  {
   "cell_type": "code",
   "execution_count": null,
   "metadata": {
    "deletable": false,
    "editable": false
   },
   "outputs": [],
   "source": [
    "grader.check(\"q13\")"
   ]
  },
  {
   "cell_type": "markdown",
   "metadata": {
    "deletable": false,
    "editable": false,
    "vscode": {
     "languageId": "raw"
    }
   },
   "source": [
    "**Question 14**: Make 2 plots: a scatter plot and a line plot to determine the relationship between runtime and imbd rating, and evaluate which plot better describes the relationship, in a variable called `best_plot` store either `scatter` or `line`"
   ]
  },
  {
   "cell_type": "code",
   "execution_count": null,
   "metadata": {
    "tags": []
   },
   "outputs": [],
   "source": [
    "..."
   ]
  },
  {
   "cell_type": "code",
   "execution_count": null,
   "metadata": {
    "tags": []
   },
   "outputs": [],
   "source": [
    "..."
   ]
  },
  {
   "cell_type": "markdown",
   "metadata": {
    "deletable": false,
    "editable": false
   },
   "source": [
    "**Question 15**: Plot the count of movies that have been released across the decades using a bar chart. Correspondingly use a dictionary called `year_counts' to keep track of {released year : total movies released}"
   ]
  },
  {
   "cell_type": "code",
   "execution_count": null,
   "metadata": {
    "tags": []
   },
   "outputs": [],
   "source": [
    "..."
   ]
  },
  {
   "cell_type": "code",
   "execution_count": null,
   "metadata": {
    "deletable": false,
    "editable": false
   },
   "outputs": [],
   "source": [
    "grader.check(\"q15\")"
   ]
  },
  {
   "cell_type": "markdown",
   "metadata": {},
   "source": []
  },
  {
   "cell_type": "markdown",
   "metadata": {
    "deletable": false,
    "editable": false,
    "vscode": {
     "languageId": "raw"
    }
   },
   "source": [
    "<!-- BEGIN QUESTION -->\n",
    "\n",
    "**Question 16**: Use a violin plot to plot the distribution of imbd ratings wrt to release year."
   ]
  },
  {
   "cell_type": "code",
   "execution_count": null,
   "metadata": {
    "tags": []
   },
   "outputs": [],
   "source": [
    "..."
   ]
  },
  {
   "cell_type": "markdown",
   "metadata": {
    "deletable": false,
    "editable": false
   },
   "source": [
    "<!-- END QUESTION -->\n",
    "\n"
   ]
  },
  {
   "cell_type": "markdown",
   "metadata": {
    "deletable": false,
    "editable": false
   },
   "source": [
    "## Submission\n",
    "\n",
    "Make sure you have run all cells in your notebook in order before running the cell below, so that all images/graphs appear in the output. The cell below will generate a zip file for you to submit. **Please save before exporting!**\n",
    "\n",
    "These are some submission instructions."
   ]
  },
  {
   "cell_type": "code",
   "execution_count": null,
   "metadata": {
    "deletable": false,
    "editable": false
   },
   "outputs": [],
   "source": [
    "# Save your notebook first, then run this cell to export your submission.\n",
    "grader.export(run_tests=True)"
   ]
  },
  {
   "cell_type": "markdown",
   "metadata": {},
   "source": [
    " "
   ]
  }
 ],
 "metadata": {
  "kernelspec": {
   "display_name": "Python 3",
   "language": "python",
   "name": "python3"
  },
  "language_info": {
   "codemirror_mode": {
    "name": "ipython",
    "version": 3
   },
   "file_extension": ".py",
   "mimetype": "text/x-python",
   "name": "python",
   "nbconvert_exporter": "python",
   "pygments_lexer": "ipython3",
   "version": "3.12.3"
  },
  "otter": {
   "OK_FORMAT": true,
   "tests": {
    "q1": {
     "name": "q1",
     "points": null,
     "suites": [
      {
       "cases": [
        {
         "code": ">>> df.shape == (1000, 16)\nTrue",
         "hidden": false,
         "locked": false
        }
       ],
       "scored": true,
       "setup": "",
       "teardown": "",
       "type": "doctest"
      }
     ]
    },
    "q10": {
     "name": "q10",
     "points": null,
     "suites": [
      {
       "cases": [
        {
         "code": ">>> assert 'is_long' in df.columns, \"The column 'is_long' does not exist in the DataFrame.\"\n",
         "hidden": false,
         "locked": false
        },
        {
         "code": ">>> expected_counts = {0: 661, 1: 123}\n>>> counts = df['is_long'].value_counts().to_dict()\n>>> assert counts == expected_counts, f\"The value counts of 'is_long' are not as expected. Got {counts}, expected {expected_counts}.\"\n",
         "hidden": false,
         "locked": false
        },
        {
         "code": ">>> \n",
         "hidden": false,
         "locked": false
        }
       ],
       "scored": true,
       "setup": "",
       "teardown": "",
       "type": "doctest"
      }
     ]
    },
    "q12": {
     "name": "q12",
     "points": null,
     "suites": [
      {
       "cases": [
        {
         "code": ">>> expected_possible_runtime = (102.0, 129.0)\n>>> assert isinstance(possible_runtime, tuple), 'possible_runtime should be a tuple.'\n>>> assert len(possible_runtime) == 2, 'possible_runtime should contain two elements: the 25th and 75th percentiles.'\n>>> assert np.isclose(possible_runtime[0], expected_possible_runtime[0], atol=0.01), f'Expected 25th percentile to be {expected_possible_runtime[0]}, but got {possible_runtime[0]}.'\n>>> assert np.isclose(possible_runtime[1], expected_possible_runtime[1], atol=0.01), f'Expected 75th percentile to be {expected_possible_runtime[1]}, but got {possible_runtime[1]}.'\n",
         "hidden": false,
         "locked": false
        }
       ],
       "scored": true,
       "setup": "",
       "teardown": "",
       "type": "doctest"
      }
     ]
    },
    "q13": {
     "name": "q13",
     "points": null,
     "suites": [
      {
       "cases": [
        {
         "code": ">>> expected_movie_to_beat = ''\n>>> assert movie_to_beat == expected_movie_to_beat, f\"Expected movie to beat to be '{expected_movie_to_beat}', but got '{movie_to_beat}'.\"\n",
         "hidden": false,
         "locked": false
        }
       ],
       "scored": true,
       "setup": "",
       "teardown": "",
       "type": "doctest"
      }
     ]
    },
    "q14": {
     "name": "q14",
     "points": null,
     "suites": [
      {
       "cases": [],
       "scored": true,
       "setup": "",
       "teardown": "",
       "type": "doctest"
      }
     ]
    },
    "q15": {
     "name": "q15",
     "points": null,
     "suites": [
      {
       "cases": [
        {
         "code": ">>> expected_year_counts = {1920.0: 6, 1930.0: 11, 1940.0: 15, 1950.0: 24, 1960.0: 41, 1970.0: 59, 1980.0: 80, 1990.0: 135, 2000.0: 208, 2010.0: 205}\n>>> assert all((year_counts[year] == expected_year_counts[year] for year in expected_year_counts)), 'The year_counts values do not match the expected counts.'\n",
         "hidden": false,
         "locked": false
        }
       ],
       "scored": true,
       "setup": "",
       "teardown": "",
       "type": "doctest"
      }
     ]
    },
    "q2": {
     "name": "q2",
     "points": null,
     "suites": [
      {
       "cases": [
        {
         "code": ">>> assert numOfNullVals == 427\n",
         "hidden": false,
         "locked": false
        }
       ],
       "scored": true,
       "setup": "",
       "teardown": "",
       "type": "doctest"
      }
     ]
    },
    "q2b": {
     "name": "q2b",
     "points": null,
     "suites": [
      {
       "cases": [
        {
         "code": ">>> meta_score_desc = df['Meta_score'].describe()\n>>> assert round(meta_score_desc['mean'], 5) == 77.97153, 'Mean should be 77.97153'\n",
         "hidden": false,
         "locked": false
        },
        {
         "code": ">>> meta_score_desc = df['Meta_score'].describe()\n>>> assert round(meta_score_desc['std'], 5) == 11.36206, 'Standard deviation should be 11.36206'\n",
         "hidden": false,
         "locked": false
        }
       ],
       "scored": true,
       "setup": "",
       "teardown": "",
       "type": "doctest"
      }
     ]
    },
    "q2c": {
     "name": "q2c",
     "points": null,
     "suites": [
      {
       "cases": [
        {
         "code": ">>> assert df.isnull().sum().sum() == 0\n",
         "hidden": false,
         "locked": false
        }
       ],
       "scored": true,
       "setup": "",
       "teardown": "",
       "type": "doctest"
      }
     ]
    },
    "q3": {
     "name": "q3",
     "points": null,
     "suites": [
      {
       "cases": [
        {
         "code": ">>> assert 'Poster_Link' not in df.columns, \"'Poster_Link' column should be dropped\"\n",
         "hidden": false,
         "locked": false
        },
        {
         "code": ">>> assert df.shape[1] == 15, \"The number of columns should be equal to the expected number after dropping 'Poster_Link'\"\n",
         "hidden": false,
         "locked": false
        }
       ],
       "scored": true,
       "setup": "",
       "teardown": "",
       "type": "doctest"
      }
     ]
    },
    "q4a": {
     "name": "q4a",
     "points": null,
     "suites": [
      {
       "cases": [
        {
         "code": ">>> assert df['Runtime'].dtype == 'int64', \"The data type of 'Runtime' should be int\"\n",
         "hidden": false,
         "locked": false
        }
       ],
       "scored": true,
       "setup": "",
       "teardown": "",
       "type": "doctest"
      }
     ]
    },
    "q4b": {
     "name": "q4b",
     "points": null,
     "suites": [
      {
       "cases": [
        {
         "code": ">>> assert df.Gross.dtype == 'float64', \"The data type of 'Gross' should be float\"\n",
         "hidden": false,
         "locked": false
        }
       ],
       "scored": true,
       "setup": "",
       "teardown": "",
       "type": "doctest"
      }
     ]
    },
    "q4c": {
     "name": "q4c",
     "points": null,
     "suites": [
      {
       "cases": [
        {
         "code": ">>> expected_value_counts = {2: 200, 0: 180, 1: 163, 3: 135, 6: 39, 7: 24, 5: 23, 4: 10, 10: 6, 9: 2, 8: 1, 11: 1, 12: 1}\n>>> actual_value_counts = df['Certificate'].value_counts().sort_index()\n>>> for key, expected_count in expected_value_counts.items():\n...     assert actual_value_counts.get(key, 0) == expected_count, f'Expected count for {key} is {expected_count}, but got {actual_value_counts.get(key, 0)}.'\n",
         "hidden": false,
         "locked": false
        },
        {
         "code": ">>> assert df['Certificate'].dtype == 'int64', \"The data type of 'Certificate' should be int64.\"\n",
         "hidden": false,
         "locked": false
        }
       ],
       "scored": true,
       "setup": "",
       "teardown": "",
       "type": "doctest"
      }
     ]
    },
    "q5": {
     "name": "q5",
     "points": null,
     "suites": [
      {
       "cases": [
        {
         "code": ">>> expected_genres = ['Action', 'Adventure', 'Animation', 'Biography', 'Comedy', 'Crime', 'Drama', 'Family', 'Fantasy', 'Film-Noir', 'History', 'Horror', 'Music', 'Musical', 'Mystery', 'Romance', 'Sci-Fi', 'Sport', 'Thriller', 'War', 'Western']\n>>> assert unique_genres == expected_genres, f'Expected {expected_genres}, but got {unique_genres}.'\n",
         "hidden": false,
         "locked": false
        }
       ],
       "scored": true,
       "setup": "",
       "teardown": "",
       "type": "doctest"
      }
     ]
    },
    "q5a": {
     "name": "q5a",
     "points": null,
     "suites": [
      {
       "cases": [
        {
         "code": ">>> expected_genres = ['Action', 'Adventure', 'Animation', 'Biography', 'Comedy', 'Crime', 'Drama', 'Family', 'Fantasy', 'Film-Noir', 'History', 'Horror', 'Music', 'Musical', 'Mystery', 'Romance', 'Sci-Fi', 'Sport', 'Thriller', 'War', 'Western']\n>>> for genre in expected_genres:\n...     assert genre in df.columns, f\"Column for genre '{genre}' is missing.\"\n",
         "hidden": false,
         "locked": false
        }
       ],
       "scored": true,
       "setup": "",
       "teardown": "",
       "type": "doctest"
      }
     ]
    },
    "q5b": {
     "name": "q5b",
     "points": null,
     "suites": [
      {
       "cases": [
        {
         "code": ">>> assert 'Genre' not in df.columns, \"The 'Genre' column should have been dropped.\"\n",
         "hidden": false,
         "locked": false
        }
       ],
       "scored": true,
       "setup": "",
       "teardown": "",
       "type": "doctest"
      }
     ]
    },
    "q6": {
     "name": "q6",
     "points": null,
     "suites": [
      {
       "cases": [
        {
         "code": ">>> assert all((col.islower() for col in df.columns)), 'All column names should be in lowercase.'\n",
         "hidden": false,
         "locked": false
        }
       ],
       "scored": true,
       "setup": "",
       "teardown": "",
       "type": "doctest"
      }
     ]
    },
    "q6b": {
     "name": "q6b",
     "points": null,
     "suites": [
      {
       "cases": [
        {
         "code": ">>> expected_unique_values = [1990.0, 1970.0, 2000.0, 1950.0, 2010.0, 1960.0, 1980.0, 1940.0, 1930.0, 1920.0]\n>>> unique_values = df['released_year'].unique()\n>>> assert all((value in unique_values for value in expected_unique_values)), f'Expected unique values {expected_unique_values}, but got {unique_values}.'\n",
         "hidden": false,
         "locked": false
        },
        {
         "code": ">>> expected_shape = (784, 35)\n>>> assert df.shape == expected_shape, f'Expected shape {expected_shape}, but got {df.shape}.'\n",
         "hidden": false,
         "locked": false
        }
       ],
       "scored": true,
       "setup": "",
       "teardown": "",
       "type": "doctest"
      }
     ]
    },
    "q7": {
     "name": "q7",
     "points": null,
     "suites": [
      {
       "cases": [
        {
         "code": ">>> expected_top_movie = {'series_title': 'Gisaengchung', 'imdb_rating': 8.6}\n>>> assert top_thriller_movie['series_title'] == expected_top_movie['series_title'], f'Expected top movie title {expected_top_movie['series_title']}, but got {top_thriller_movie['series_title']}.'\n>>> assert top_thriller_movie['imdb_rating'] == expected_top_movie['imdb_rating'], f'Expected IMDB rating {expected_top_movie['imdb_rating']}, but got {top_thriller_movie['imdb_rating']}.'\n",
         "hidden": false,
         "locked": false
        }
       ],
       "scored": true,
       "setup": "",
       "teardown": "",
       "type": "doctest"
      }
     ]
    },
    "q8": {
     "name": "q8",
     "points": null,
     "suites": [
      {
       "cases": [
        {
         "code": ">>> expected_top_directors = ['Fernando Meirelles', 'Frank Darabont', 'George Lucas', 'Irvin Kershner', 'Lana Wachowski', 'Milos Forman', 'Olivier Nakache', 'Roberto Benigni', 'Roger Allers', 'Tony Kaye']\n>>> assert set(top_directors) == set(expected_top_directors), f'Expected top directors {expected_top_directors}, but got {top_directors}.'\n",
         "hidden": false,
         "locked": false
        }
       ],
       "scored": true,
       "setup": "",
       "teardown": "",
       "type": "doctest"
      }
     ]
    },
    "q9a": {
     "name": "q9a",
     "points": null,
     "suites": [
      {
       "cases": [
        {
         "code": ">>> assert set(star_df.columns) == {'star', 'gross'}, 'Columns do not match'\n",
         "hidden": false,
         "locked": false
        },
        {
         "code": ">>> aamir_gross = star_df[star_df['star'] == 'Aamir Khan']['gross'].values[0]\n>>> assert aamir_gross == 33332120.0, \"Aamir Khan's gross value does not match\"\n",
         "hidden": false,
         "locked": false
        }
       ],
       "scored": true,
       "setup": "",
       "teardown": "",
       "type": "doctest"
      }
     ]
    },
    "q9b": {
     "name": "q9b",
     "points": null,
     "suites": [
      {
       "cases": [
        {
         "code": ">>> assert movie_lead.strip() == 'Robert Downey Jr.', \"movie_lead should be 'Robert Downey Jr.'\"\nRobert Downey Jr.\n",
         "hidden": false,
         "locked": false
        }
       ],
       "scored": true,
       "setup": "",
       "teardown": "",
       "type": "doctest"
      }
     ]
    }
   }
  },
  "varInspector": {
   "cols": {
    "lenName": 16,
    "lenType": 16,
    "lenVar": 40
   },
   "kernels_config": {
    "python": {
     "delete_cmd_postfix": "",
     "delete_cmd_prefix": "del ",
     "library": "var_list.py",
     "varRefreshCmd": "print(var_dic_list())"
    },
    "r": {
     "delete_cmd_postfix": ") ",
     "delete_cmd_prefix": "rm(",
     "library": "var_list.r",
     "varRefreshCmd": "cat(var_dic_list()) "
    }
   },
   "types_to_exclude": [
    "module",
    "function",
    "builtin_function_or_method",
    "instance",
    "_Feature"
   ],
   "window_display": false
  }
 },
 "nbformat": 4,
 "nbformat_minor": 4
}
