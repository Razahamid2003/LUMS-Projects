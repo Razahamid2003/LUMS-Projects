{
 "cells": [
  {
   "cell_type": "markdown",
   "id": "31be63a5-d870-4a2c-986b-133f475fe22c",
   "metadata": {},
   "source": [
    "# Problem Background: The Great Migration\n",
    "\n",
    "In our ongoing efforts to ensure the safety of the migration to Earth Junior, we have developed a linear regression model that produces a human-zombie score ranging from 0 to 100. This score is designed to assess the likelihood of individuals being human or zombie based on various features collected during screening.\n",
    "\n",
    "To enhance our security measures, the spaceship station has deployed a specialized automated barrier system that utilizes the human-zombie scores to classify individuals into three distinct categories:\n",
    "\n",
    "- **Class 0: Score Range 0-33**: **Most Likely Human**  \n",
    "  Individuals in this range will be directed straight to the spaceship for immediate boarding.\n",
    "\n",
    "- **Class 1: Score Range 33-66**: **Need Further Tests**  \n",
    "  Those with scores in this range will be redirected to a testing facility for additional examinations to confirm their identity. They will be quarantined for a two-week observational period to ensure they do not pose a risk.\n",
    "\n",
    "- **Class 3: Score Range 66-100**: **Most Likely Zombies**  \n",
    "  Those scoring in this highest range will be denied entry to the spaceship, as they are deemed a significant threat to the safety of the remaining human population.\n",
    "\n",
    "This classification system aims to maximize the chances of a successful migration while ensuring that the risk of zombie infiltration is minimized.\n"
   ]
  },
  {
   "cell_type": "markdown",
   "id": "03373c37",
   "metadata": {
    "id": "03373c37"
   },
   "source": [
    "# Programming Assignment 2: Task 2 -- Logistic Regression  [80 Marks]\n",
    "\n",
    "### Introduction\n",
    "\n",
    "In this task, you will be Logistic Regression models for the provided dataset from scratch. A description of the problem statement is given at the start of part. It is important that you display the output where asked. In case of no outputs, you will get a 0 for that part.\n",
    "\n",
    "After this notebook you should be able to:\n",
    "\n",
    "- Implement a classifier using Logistic Regression.\n",
    "\n",
    "- Create a Logistic Regression model using simple `numpy`.\n",
    "\n",
    "Have fun!\n",
    "\n",
    "### Instructions\n",
    "\n",
    "- Follow along with the notebook, filling out the necessary code where instructed.\n",
    "\n",
    "- <span style=\"color: red;\">Read the Submission Instructions and Plagiarism Policy in the attached PDF.</span>\n",
    "\n",
    "- <span style=\"color: red;\">Make sure to run all cells for credit.</span>\n",
    "\n",
    "- <span style=\"color: red;\">Do not remove any pre-written code.</span> We will be using the `print` statements to grade your assignment.\n",
    "\n",
    "- <span style=\"color: red;\">You must attempt all parts.</span> Do not assume that because something is for 0 marks, you can leave it - it will definitely be used in later parts.\n",
    "\n",
    "- <span style=\"color: red;\">Do not use unauthorized libraries.</span> You are not allowed to use `sklearn` in Part A of both tasks. Failure to follow these instructions will result in a serious penalty."
   ]
  },
  {
   "cell_type": "markdown",
   "id": "7a9dcc17-bd78-42a6-bf52-044df6c543bf",
   "metadata": {},
   "source": [
    "<center>\n",
    "  <img src = \"https://miro.medium.com/v2/resize:fit:1100/format:webp/1*RElrybCZ4WPsUfRwDl7fqA.png\">\n",
    "</center>\n",
    "\n",
    "One vs All (OvA) is a common technique to extend binary classifiers, like logistic regression, to handle multiclass classification tasks. For each class in the dataset, a logistic regression model is trained to distinguish that class from all other classes. For instance, for a `m` class classification, we will have `m` logistic regression classifiers in our pipeline. When making a prediction, each model outputs a probability that the instance belongs to its target class. The class with the highest probability across all models is chosen as the final prediction.\n",
    "\n",
    "In this part, we will be going over how to implement a Multiclass Logistic Regression (OvA) model from scratch. For a review of this concept, you can go over the course slides or go over this [resource](https://www.cs.rice.edu/~as143/COMP642_Spring22/Scribes/Lect5)."
   ]
  },
  {
   "cell_type": "markdown",
   "id": "74f4e279-4c7c-4b6c-a208-e5b607b41863",
   "metadata": {},
   "source": [
    "## Import Libraries"
   ]
  },
  {
   "cell_type": "code",
   "execution_count": 41,
   "id": "e61d1099-bde3-45aa-8d1d-5bfa6b169ecd",
   "metadata": {},
   "outputs": [],
   "source": [
    "import numpy as np\n",
    "import pandas as pd\n",
    "import matplotlib.pyplot as plt\n",
    "import seaborn as sns\n",
    "from sklearn.model_selection import train_test_split\n",
    "from sklearn.metrics import accuracy_score, f1_score, confusion_matrix, classification_report"
   ]
  },
  {
   "cell_type": "markdown",
   "id": "b5216e2a",
   "metadata": {
    "id": "b5216e2a",
    "tags": [
     "parameters"
    ]
   },
   "source": [
    "#### Dataset\n",
    "\n",
    "You will use the same dataset as Part A.\n",
    "\n",
    "Load the Dataset and other necessary files."
   ]
  },
  {
   "cell_type": "code",
   "execution_count": 21,
   "id": "c6ec0d6e",
   "metadata": {
    "id": "c6ec0d6e"
   },
   "outputs": [],
   "source": [
    "data = pd.read_csv(\"human_zombie_dataset_v5.csv\")"
   ]
  },
  {
   "cell_type": "markdown",
   "id": "66384c63",
   "metadata": {
    "id": "66384c63"
   },
   "source": [
    "# Preprocessing   [20 Marks]\n",
    "\n",
    "In this step, you will need to make several changes to the dataset before we can proceed with the analysis. Follow the guidelines below:\n",
    "\n",
    "1. **Transform Labels**:  \n",
    "   Convert the labels from continuous scores to categorical labels based on the class descriptions provided earlier.  \n",
    "   This transformation is crucial for training the classifier effectively. **[5 Points]**\n",
    "\n",
    "2. **Perform Train-Test Split**:  \n",
    "   Split the dataset into training and testing sets (8:2), and then check the sizes of both.  \n",
    "   This step ensures that you have the right distribution of data for training and evaluation. **[5 Points]**\n",
    "\n",
    "3. **Normalize Data**:  \n",
    "   Utilize the `Scaler` class that you created in Part 1 to normalize the features of the dataset. **[10 Points]**\n"
   ]
  },
  {
   "cell_type": "code",
   "execution_count": 22,
   "id": "d8fe2f33",
   "metadata": {
    "id": "d8fe2f33"
   },
   "outputs": [],
   "source": [
    "def categorize_score(score):\n",
    "    if score <= 33:\n",
    "        return 0\n",
    "    elif 33 < score <= 66:\n",
    "        return 1\n",
    "    else:\n",
    "        return 2\n",
    "\n",
    "data['target'] = data['Human-Zombie Score'].apply(categorize_score)\n",
    "data = data.drop(columns=['Human-Zombie Score'])"
   ]
  },
  {
   "cell_type": "code",
   "execution_count": 23,
   "id": "43b474ff",
   "metadata": {
    "id": "43b474ff"
   },
   "outputs": [
    {
     "name": "stdout",
     "output_type": "stream",
     "text": [
      "Training set size: (600, 6)\n",
      "Validation set size: (200, 6)\n",
      "Test set size: (200, 6)\n"
     ]
    }
   ],
   "source": [
    "X = data.drop(columns=['target']).values\n",
    "y = data['target'].values\n",
    "\n",
    "X_temp, X_test, y_temp, y_test = train_test_split(X, y, test_size=0.2, random_state=42)\n",
    "X_train, X_val, y_train, y_val = train_test_split(X_temp, y_temp, test_size=0.25, random_state=42)\n",
    "\n",
    "print(f\"Training set size: {X_train.shape}\")\n",
    "print(f\"Validation set size: {X_val.shape}\")\n",
    "print(f\"Test set size: {X_test.shape}\")"
   ]
  },
  {
   "cell_type": "code",
   "execution_count": 97,
   "id": "b4cc36c8-2ab1-4a0f-b599-2bc297084cb0",
   "metadata": {},
   "outputs": [],
   "source": [
    "class StandardScaler:\n",
    "    def __init__(self):\n",
    "        self.mean = None\n",
    "        self.std = None\n",
    "\n",
    "    def fit(self, X):\n",
    "        X = np.asarray(X)\n",
    "        self.mean = np.mean(X, axis=0)\n",
    "        self.std = np.std(X, axis=0)\n",
    "        self.std = np.where(self.std == 0, 1e-10, self.std)\n",
    "\n",
    "    def transform(self, X):\n",
    "        X = np.asarray(X)\n",
    "        X_scaled = (X - self.mean) / self.std\n",
    "        return X_scaled\n",
    "\n",
    "    def fit_transform(self, X):\n",
    "        self.fit(X)\n",
    "        return self.transform(X)\n",
    "\n",
    "scaler = StandardScaler()\n",
    "\n",
    "X_train_normalized = scaler.fit_transform(X_train)\n",
    "X_test_normalized = scaler.transform(X_test)\n",
    "X_val_normalized = scaler.transform(X_val)"
   ]
  },
  {
   "cell_type": "markdown",
   "id": "331017de",
   "metadata": {
    "id": "331017de"
   },
   "source": [
    "## Part A: Implementation from Scratch  [25 Marks]\n",
    "\n",
    "Create a class, and implement the functionality described below to create a fully fledged **Regularized Logistic Regression model.**\n",
    "\n",
    "* `sigmoid(x)`: This is the non-linear \"activation\" function that differentiates Logistic from plain-old Linear Regression. Refer to the formula from the slides. [5 Points]\n",
    "\n",
    "* `cross_entropy_loss(y_true, y_pred)`: This is the loss function that will help you calculate the gradients for updating your model. Note that this is a Binary Classification task so you can use the Binary Cross Entropy function mentioned in the slides. [5 Points]\n",
    "\n",
    "* `fit(x_train, y_train)`: This will be where you implement the Gradient Descent algorithm again, keeping in mind the differences between Linear and Logistic Regression. [5 points]\n",
    "\n",
    "* `predict(x_test)`: predict whether the label is 0 or 1 for test reviews using learned logistic regression (use the decision threshold of 0.5) **Note: you need to return the probability and the predicted label from this function** [5 Points]\n",
    "\n",
    "* `evaluate(y_true, y_pred)` function that calculates classification accuracy, F1 Score and confusion matrix. [5 Points]"
   ]
  },
  {
   "cell_type": "code",
   "execution_count": null,
   "id": "794011ae",
   "metadata": {
    "id": "794011ae"
   },
   "outputs": [],
   "source": [
    "class RegularizedLogisticRegression:\n",
    "    def __init__(self, learning_rate=0.01, n_iterations=1000, lambda_reg=0.1):\n",
    "        self.learning_rate = learning_rate\n",
    "        self.n_iterations = n_iterations\n",
    "        self.lambda_reg = lambda_reg\n",
    "        self.weights = None\n",
    "        self.bias = None\n",
    "\n",
    "    def sigmoid(self, x):\n",
    "        return 1 / (1 + np.exp(-x))\n",
    "\n",
    "    def cross_entropy_loss(self, y_true, y_pred):\n",
    "        m = len(y_true)\n",
    "        epsilon = 1e-15\n",
    "        y_pred = np.clip(y_pred, epsilon, 1 - epsilon)\n",
    "        loss = -1/m * np.sum(y_true * np.log(y_pred) + (1 - y_true) * np.log(1 - y_pred))\n",
    "        reg_loss = (self.lambda_reg / (2 * m)) * np.sum(self.weights ** 2)\n",
    "        return loss + reg_loss\n",
    "\n",
    "    def fit(self, X_train, y_train):\n",
    "        m, n = X_train.shape\n",
    "        self.weights = np.random.randn(n) * 0.01\n",
    "        self.bias = 0\n",
    "        \n",
    "        training_losses = []\n",
    "        \n",
    "        for _ in range(self.n_iterations):\n",
    "            linear_model = np.dot(X_train, self.weights) + self.bias\n",
    "            y_pred = self.sigmoid(linear_model)\n",
    "            \n",
    "            dw = (1/m) * np.dot(X_train.T, (y_pred - y_train)) + (self.lambda_reg / m) * self.weights\n",
    "            db = (1/m) * np.sum(y_pred - y_train)\n",
    "            \n",
    "            self.weights -= self.learning_rate * dw\n",
    "            self.bias -= self.learning_rate * db\n",
    "            \n",
    "            loss = self.cross_entropy_loss(y_train, y_pred)\n",
    "            training_losses.append(loss)\n",
    "        \n",
    "        return training_losses\n",
    "\n",
    "    def predict(self, X_test):\n",
    "        linear_model = np.dot(X_test, self.weights) + self.bias\n",
    "        y_pred_prob = self.sigmoid(linear_model)\n",
    "        y_pred_label = (y_pred_prob >= 0.5).astype(int)\n",
    "        return y_pred_prob, y_pred_label\n",
    "\n",
    "    def evaluate(self, y_true, y_pred):\n",
    "        accuracy = np.mean(y_true == y_pred)\n",
    "        \n",
    "        tp = np.sum((y_true == 1) & (y_pred == 1))\n",
    "        tn = np.sum((y_true == 0) & (y_pred == 0))\n",
    "        fp = np.sum((y_true == 0) & (y_pred == 1))\n",
    "        fn = np.sum((y_true == 1) & (y_pred == 0))\n",
    "\n",
    "        confusion_matrix = np.array([[tn, fp], [fn, tp]])\n",
    "\n",
    "        precision = tp / (tp + fp) if tp + fp > 0 else 0\n",
    "        recall = tp / (tp + fn) if tp + fn > 0 else 0\n",
    "        f1_score = 2 * (precision * recall) / (precision + recall) if precision + recall > 0 else 0\n",
    "        \n",
    "        print(f\"Confusion Matrix: \\nTP: {tp}, TN: {tn}, FP: {fp}, FN: {fn}\")\n",
    "        print(f\"Accuracy: {accuracy}\")\n",
    "        print(f\"Precision: {precision}\")\n",
    "        print(f\"Recall: {recall}\")\n",
    "        print(f\"F1 Score: {f1_score}\")\n",
    "        \n",
    "        return accuracy, f1_score, confusion_matrix\n"
   ]
  },
  {
   "cell_type": "markdown",
   "id": "6b787df1",
   "metadata": {
    "id": "6b787df1"
   },
   "source": [
    "# Implement One vs All Classification  [10 marks]\n",
    "\n",
    "You need to build four classifiers, one for each class, and perform the following steps for each:\n",
    "\n",
    "1. Create a plot with the number of iterations/epochs on the x-axis and training/validation loss on the y-axis for the evaluation dataset that we separated previously.\n",
    "\n",
    "2. Tune the hyperparameters, i.e., learning rate and number of epochs, to minimize the validation loss.\n",
    "\n",
    "**Please note that the correctness of the functions you created previously depends on the plot. The curve should show a constant dip, eventually reaching a plateau.**\n"
   ]
  },
  {
   "cell_type": "code",
   "execution_count": 91,
   "id": "2c55a386",
   "metadata": {
    "id": "2c55a386",
    "scrolled": true
   },
   "outputs": [
    {
     "data": {
      "image/png": "[encoded data removed]",
      "text/plain": [
       "<Figure size 1000x600 with 1 Axes>"
      ]
     },
     "metadata": {},
     "output_type": "display_data"
    }
   ],
   "source": [
    "classifiers = {}\n",
    "losses = {}\n",
    "validation_losses = {}\n",
    "\n",
    "for i in range(3):\n",
    "    y_binary_train = (y_train == i).astype(int)\n",
    "    y_binary_val = (y_val == i).astype(int)\n",
    "    \n",
    "    model = RegularizedLogisticRegression(learning_rate=0.5, n_iterations=1000, lambda_reg=0.1)\n",
    "    \n",
    "    training_losses = []\n",
    "    validation_losses_i = []\n",
    "    \n",
    "    for epoch in range(model.n_iterations):\n",
    "        model.fit(X_train_normalized, y_binary_train)\n",
    "        y_train_pred_prob, _ = model.predict(X_train_normalized)\n",
    "        train_loss = model.cross_entropy_loss(y_binary_train, y_train_pred_prob)\n",
    "        \n",
    "        y_val_pred_prob, _ = model.predict(X_val_normalized)\n",
    "        val_loss = model.cross_entropy_loss(y_binary_val, y_val_pred_prob)\n",
    "        \n",
    "        training_losses.append(train_loss)\n",
    "        validation_losses_i.append(val_loss)\n",
    "    \n",
    "    classifiers[i] = model\n",
    "    losses[i] = training_losses\n",
    "    validation_losses[i] = validation_losses_i\n",
    "\n",
    "plt.figure(figsize=(10, 6))\n",
    "\n",
    "for i in range(3):\n",
    "    plt.plot(range(model.n_iterations), losses[i], label=f'Training Loss (Class {i})')\n",
    "    plt.plot(range(model.n_iterations), validation_losses[i], label=f'Validation Loss (Class {i})', linestyle='--')\n",
    "\n",
    "plt.title('Training and Validation Loss for One-vs-All Classifiers')\n",
    "plt.xlabel('Number of Iterations')\n",
    "plt.ylabel('Loss')\n",
    "plt.legend()\n",
    "plt.grid(True)\n",
    "plt.show()\n"
   ]
  },
  {
   "cell_type": "markdown",
   "id": "f434bf54",
   "metadata": {
    "id": "f434bf54"
   },
   "source": [
    "# Evaluate  [15 Marks]\n",
    "\n",
    "It's time to run your logistic regression model on the test dataset!\n",
    "\n",
    "- Report the accuracy, F1 score and confusion matrix for each binary classifier [10 Points]\n",
    "- Perform multiclass evaluation and report macro F1, accuracy and confusion matrix [5 marks]\n"
   ]
  },
  {
   "cell_type": "code",
   "execution_count": 92,
   "id": "4b2d1d5a",
   "metadata": {
    "id": "4b2d1d5a"
   },
   "outputs": [
    {
     "name": "stdout",
     "output_type": "stream",
     "text": [
      "Confusion Matrix: \n",
      "TP: 59, TN: 133, FP: 6, FN: 2\n",
      "Accuracy: 0.96\n",
      "Precision: 0.9076923076923077\n",
      "Recall: 0.9672131147540983\n",
      "F1 Score: 0.9365079365079365\n",
      "Confusion Matrix: \n",
      "TP: 1, TN: 123, FP: 1, FN: 75\n",
      "Accuracy: 0.62\n",
      "Precision: 0.5\n",
      "Recall: 0.013157894736842105\n",
      "F1 Score: 0.025641025641025637\n",
      "Confusion Matrix: \n",
      "TP: 59, TN: 131, FP: 6, FN: 4\n",
      "Accuracy: 0.95\n",
      "Precision: 0.9076923076923077\n",
      "Recall: 0.9365079365079365\n",
      "F1 Score: 0.9218749999999999\n"
     ]
    }
   ],
   "source": [
    "results = {\n",
    "    'Class': [],\n",
    "    'Probs': [],\n",
    "    'Accuracy': [],\n",
    "    'F1 Score': [],\n",
    "    'Confusion Matrix': []\n",
    "}\n",
    "\n",
    "for i in range(3):\n",
    "    y_binary_train = (y_train == i).astype(int)\n",
    "    y_binary_test = (y_test == i).astype(int)\n",
    "    \n",
    "    classifier = RegularizedLogisticRegression(learning_rate=0.01, n_iterations=1000, lambda_reg=0.1)\n",
    "    classifier.fit(X_train_normalized, y_binary_train)\n",
    "    predicted_prob, predicted_class = classifiers[i].predict(X_test_normalized)\n",
    "    accuracy, f1_score, confusion_matrix = classifier.evaluate(y_binary_test, predicted_class)\n",
    "    \n",
    "    results['Class'].append(i)\n",
    "    results['Probs'].append(predicted_prob)\n",
    "    results['Accuracy'].append(accuracy)\n",
    "    results['F1 Score'].append(f1_score)\n",
    "    results['Confusion Matrix'].append(confusion_matrix)\n",
    "\n",
    "results_df = pd.DataFrame(results)"
   ]
  },
  {
   "cell_type": "code",
   "execution_count": 94,
   "id": "c39a4178-add4-4489-a483-32b16ae8818d",
   "metadata": {},
   "outputs": [
    {
     "data": {
      "text/html": [
       "<div>\n",
       "<style scoped>\n",
       "    .dataframe tbody tr th:only-of-type {\n",
       "        vertical-align: middle;\n",
       "    }\n",
       "\n",
       "    .dataframe tbody tr th {\n",
       "        vertical-align: top;\n",
       "    }\n",
       "\n",
       "    .dataframe thead th {\n",
       "        text-align: right;\n",
       "    }\n",
       "</style>\n",
       "<table border=\"1\" class=\"dataframe\">\n",
       "  <thead>\n",
       "    <tr style=\"text-align: right;\">\n",
       "      <th></th>\n",
       "      <th>Class</th>\n",
       "      <th>Accuracy</th>\n",
       "      <th>F1 Score</th>\n",
       "      <th>Confusion Matrix</th>\n",
       "    </tr>\n",
       "  </thead>\n",
       "  <tbody>\n",
       "    <tr>\n",
       "      <th>0</th>\n",
       "      <td>0</td>\n",
       "      <td>0.96</td>\n",
       "      <td>0.936508</td>\n",
       "      <td>[[133, 6], [2, 59]]</td>\n",
       "    </tr>\n",
       "    <tr>\n",
       "      <th>1</th>\n",
       "      <td>1</td>\n",
       "      <td>0.62</td>\n",
       "      <td>0.025641</td>\n",
       "      <td>[[123, 1], [75, 1]]</td>\n",
       "    </tr>\n",
       "    <tr>\n",
       "      <th>2</th>\n",
       "      <td>2</td>\n",
       "      <td>0.95</td>\n",
       "      <td>0.921875</td>\n",
       "      <td>[[131, 6], [4, 59]]</td>\n",
       "    </tr>\n",
       "  </tbody>\n",
       "</table>\n",
       "</div>"
      ],
      "text/plain": [
       "   Class  Accuracy  F1 Score     Confusion Matrix\n",
       "0      0      0.96  0.936508  [[133, 6], [2, 59]]\n",
       "1      1      0.62  0.025641  [[123, 1], [75, 1]]\n",
       "2      2      0.95  0.921875  [[131, 6], [4, 59]]"
      ]
     },
     "execution_count": 94,
     "metadata": {},
     "output_type": "execute_result"
    }
   ],
   "source": [
    "results_df.drop('Probs',axis=1)"
   ]
  },
  {
   "cell_type": "code",
   "execution_count": 95,
   "id": "aa5bd139-e747-492b-89fc-0e635a939f2c",
   "metadata": {},
   "outputs": [],
   "source": [
    "class_labels = ['Class 0: Most Likely Human', \n",
    "                'Class 1: Further Testing', \n",
    "                'Class 2: Most Likely Zombie']"
   ]
  },
  {
   "cell_type": "code",
   "execution_count": 96,
   "id": "bc12664e-422d-4125-9c68-c90a644603bf",
   "metadata": {},
   "outputs": [
    {
     "name": "stdout",
     "output_type": "stream",
     "text": [
      "Multiclass Evaluation Results:\n",
      "Multiclass Accuracy: 0.905\n",
      "Macro F1 Score: 0.9065571126639829\n",
      "Confusion Matrix:\n",
      "[[59  2  0]\n",
      " [ 6 62  8]\n",
      " [ 0  3 60]]\n"
     ]
    }
   ],
   "source": [
    "combined_probs = np.column_stack(results['Probs'])\n",
    "multiclass_predictions = np.argmax(combined_probs, axis=1)\n",
    "y_true = y_test\n",
    "\n",
    "accuracy_multiclass = np.mean(multiclass_predictions == y_true)\n",
    "\n",
    "n_classes = len(class_labels)\n",
    "confusion_matrix_multiclass = np.zeros((n_classes, n_classes), dtype=int)\n",
    "for true_label, pred_label in zip(y_true, multiclass_predictions):\n",
    "    confusion_matrix_multiclass[true_label, pred_label] += 1\n",
    "\n",
    "f1_scores = []\n",
    "for i in range(n_classes):\n",
    "    tp = confusion_matrix_multiclass[i, i]\n",
    "    fp = confusion_matrix_multiclass[:, i].sum() - tp\n",
    "    fn = confusion_matrix_multiclass[i, :].sum() - tp\n",
    "    precision = tp / (tp + fp) if tp + fp > 0 else 0\n",
    "    recall = tp / (tp + fn) if tp + fn > 0 else 0\n",
    "    f1_score = 2 * precision * recall / (precision + recall) if precision + recall > 0 else 0\n",
    "    f1_scores.append(f1_score)\n",
    "\n",
    "macro_f1 = np.mean(f1_scores)\n",
    "\n",
    "print(\"Multiclass Evaluation Results:\")\n",
    "print(f\"Multiclass Accuracy: {accuracy_multiclass}\")\n",
    "print(f\"Macro F1 Score: {macro_f1}\")\n",
    "print(\"Confusion Matrix:\")\n",
    "print(confusion_matrix_multiclass)\n"
   ]
  },
  {
   "cell_type": "markdown",
   "id": "dc1f0697",
   "metadata": {
    "id": "dc1f0697"
   },
   "source": [
    "# Part B: Use Scikit-learn  [10 Marks]\n",
    "\n",
    "In this part, use scikit-learn’s [Logistic Regression](https://scikit-learn.org/stable/modules/generated/sklearn.linear_model.LogisticRegression.html) implementation to train and test the logistic regression on the provided dataset.\n",
    "\n",
    "Use scikit-learn’s `accuracy_score` function to calculate the [accuracy](https://scikit-learn.org/stable/modules/generated/sklearn.metrics.accuracy_score.html), F1 score and [confusion_matrix](https://scikit-learn.org/stable/modules/generated/sklearn.metrics.confusion_matrix.html) function to calculate confusion matrix on test set.\n",
    "\n",
    "Finally, plot the confusion matrix"
   ]
  },
  {
   "cell_type": "code",
   "execution_count": 69,
   "id": "c7893b68",
   "metadata": {
    "id": "c7893b68"
   },
   "outputs": [
    {
     "name": "stdout",
     "output_type": "stream",
     "text": [
      "Accuracy: 0.9050\n",
      "F1 Score: 0.9037\n",
      "Confusion Matrix:\n",
      "[[59  2  0]\n",
      " [ 6 62  8]\n",
      " [ 0  3 60]]\n"
     ]
    },
    {
     "name": "stderr",
     "output_type": "stream",
     "text": [
      "C:\\Users\\razah\\AppData\\Local\\Temp\\ipykernel_30588\\78901945.py:19: UserWarning: set_ticklabels() should only be used with a fixed number of ticks, i.e. after set_ticks() or using a FixedLocator.\n",
      "  ax.set_xticklabels([''] + class_labels)\n",
      "C:\\Users\\razah\\AppData\\Local\\Temp\\ipykernel_30588\\78901945.py:20: UserWarning: set_ticklabels() should only be used with a fixed number of ticks, i.e. after set_ticks() or using a FixedLocator.\n",
      "  ax.set_yticklabels([''] + class_labels)\n"
     ]
    },
    {
     "data": {
      "image/png": "[encoded data removed]",
      "text/plain": [
       "<Figure size 600x600 with 2 Axes>"
      ]
     },
     "metadata": {},
     "output_type": "display_data"
    }
   ],
   "source": [
    "from sklearn.linear_model import LogisticRegression\n",
    "\n",
    "model = LogisticRegression(max_iter=1000, multi_class='ovr', solver='lbfgs')\n",
    "model.fit(X_train_normalized, y_train)\n",
    "y_pred = model.predict(X_test_normalized)\n",
    "accuracy = accuracy_score(y_test, y_pred)\n",
    "f1_score_value = f1_score(y_test, y_pred, average='weighted')\n",
    "conf_matrix = confusion_matrix(y_test, y_pred)\n",
    "\n",
    "print(f\"Accuracy: {accuracy:.4f}\")\n",
    "print(f\"F1 Score: {f1_score_value:.4f}\")\n",
    "print(\"Confusion Matrix:\")\n",
    "print(conf_matrix)\n",
    "\n",
    "fig, ax = plt.subplots(figsize=(6, 6))\n",
    "cax = ax.matshow(conf_matrix, cmap='Blues')\n",
    "fig.colorbar(cax)\n",
    "class_labels = results['Class']\n",
    "ax.set_xticklabels([''] + class_labels)\n",
    "ax.set_yticklabels([''] + class_labels)\n",
    "plt.xlabel('Predicted')\n",
    "plt.ylabel('True')\n",
    "plt.title('Confusion Matrix')\n",
    "plt.show()\n"
   ]
  },
  {
   "cell_type": "markdown",
   "id": "b01b1669-f564-4393-9a9d-1a563aa62e35",
   "metadata": {},
   "source": [
    "# Part C: Are You a Zombie?  [5 marks]\n",
    "Use your multiclass classifier to predict whether you are a zombie."
   ]
  },
  {
   "cell_type": "code",
   "execution_count": 87,
   "id": "33d64233-9b57-4995-8e00-220a75d4dac9",
   "metadata": {},
   "outputs": [],
   "source": [
    "height = 180               # Height in cm\n",
    "weight = 70               # Weight in kg\n",
    "screen_time = 8          # Screen time in hours per day\n",
    "junk_food_days = 5       # Junk food consumption in days per week\n",
    "physical_activity = 10    # Physical activity in hours per week\n",
    "task_completion = 10      # Task completion on a scale (example range: 1-10)"
   ]
  },
  {
   "cell_type": "code",
   "execution_count": null,
   "id": "79ba3c22-e1e5-460f-b3c4-6ad578a8eae9",
   "metadata": {},
   "outputs": [],
   "source": [
    "test_point = np.array([height, weight, screen_time, junk_food_days, physical_activity, task_completion])\n",
    "test_point = scaler.transform(test_point)"
   ]
  },
  {
   "cell_type": "code",
   "execution_count": 89,
   "id": "3c1379e7-1cfd-4b08-9c81-8698bb0aebab",
   "metadata": {},
   "outputs": [
    {
     "name": "stdout",
     "output_type": "stream",
     "text": [
      "Prediction: Human\n"
     ]
    }
   ],
   "source": [
    "\n",
    "labels = {0: \"Human\", 1: \"Needs Further Testing\", 2: \"Zombie\"}\n",
    "probs=[]\n",
    "for i in range(3):  \n",
    "    y_pred_class, prob = classifiers[i].predict(test_point.reshape(1,-1))    \n",
    "    probs.append(prob)\n",
    "combined_probs = np.column_stack([p for p in probs])\n",
    "multi_class_pred = np.argmax(combined_probs, axis=1)\n",
    "print(\"Prediction:\", labels[multi_class_pred[0]])"
   ]
  }
 ],
 "metadata": {
  "colab": {
   "provenance": []
  },
  "kernelspec": {
   "display_name": "Python 3",
   "language": "python",
   "name": "python3"
  },
  "language_info": {
   "codemirror_mode": {
    "name": "ipython",
    "version": 3
   },
   "file_extension": ".py",
   "mimetype": "text/x-python",
   "name": "python",
   "nbconvert_exporter": "python",
   "pygments_lexer": "ipython3",
   "version": "3.12.3"
  }
 },
 "nbformat": 4,
 "nbformat_minor": 5
}
