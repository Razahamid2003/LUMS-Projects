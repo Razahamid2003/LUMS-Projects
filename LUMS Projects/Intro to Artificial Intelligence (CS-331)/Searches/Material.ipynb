{
  "cells": [
    {
      "cell_type": "markdown",
      "metadata": {
        "id": "yb2iH5iDnEps"
      },
      "source": []
    },
    {
      "cell_type": "markdown",
      "metadata": {
        "id": "w3L9zundWOfL"
      },
      "source": [
        "# **CS-331: Introduction to Artificial Intelligence - Spring 2024**\n",
        "\n",
        "# Assignment 3: Searches\n",
        "\n",
        "### Deadline:  29th April 2024, 11:55 PM\n",
        "\n",
        "### Instructions\n",
        "\n",
        "1. The aim of the assignment is to familiarise you with code implementation of concepts covered in class.\n",
        "\n",
        "2. All cells must be run once before submission and should $\\color{orange}{\\text{clearly display the results (graphs/plots/visualizations etc)}}$. Failure to do so will result in deduction of points.\n",
        "\n",
        "5. Use procedural programming style and comment your code properly. The grading breakdown has $\\color{orange}{\\text{five}}$ points reserved for well-commented, modular code.\n",
        "\n",
        "### Submission Instructions\n",
        "\n",
        "1. You are required to upload your solutions on LMS in the Assignment tab by the deadline.\n",
        "\n",
        "2. The zip file MUST contain your jupyter notebook file (.ipynb) and python script (.py) files.\n",
        "\n",
        "3. **EACH** file should be named as \"Name_RollNumber_PA $\\color{orange}{\\text{x}}$\" where $\\color{orange}{\\text{x = 3}}$ for this assignment.\n",
        "\n",
        "### Late Submission Policy\n",
        "\n",
        "1. You can submit upto 2 days late with a 10% deduction penalty (from your final obtained marks) for each late day.\n",
        "2. $\\color{red}{\\text{No submission}}$ will be accepted after the late days are over.\n",
        "2. $\\color{red}{\\text{No submission}}$ will be accepted via email/Slack, unless announced by the course staff beforehand. It is your responsibility to stay updated with any announcements pertaining to the assignment.\n",
        "\n",
        "### Plagiarism Policy\n",
        "All parts of this assignment are to be done $\\color{red}{\\text{INDEPENDENTLY}}$. The course stuff will refer any case of plagiarism\n",
        "from others or the internet immediately to the DC. If you are confused about what\n",
        "constitutes plagiarism, it is your responsibility to consult with the TAs\n",
        "in a timely manner.\n",
        "\n",
        "### Vivas\n",
        "\n",
        "The teaching staff reserves the right to conduct a viva for any student.  \n",
        "\n",
        "### Notes\n",
        "The required packages for this assignment are already present in the first cell.\n",
        "\n",
        "If you are running the noteook on your PC/laptop, it is STRONGLY advised that you install [conda](https://conda.io/projects/conda/en/latest/user-guide/getting-started.html) and work in a conda environment for this assignment. This will go a long way in ensuring you do not get dependency conflicts and your system does not slow down.\n"
      ]
    },
    {
      "cell_type": "markdown",
      "metadata": {
        "id": "dkAEBIzWWOfS"
      },
      "source": [
        "### <b>Problem Description</b>\n",
        "\n",
        "In this assignment, you are tasked with navigating through our prestigious LUMS (read \"Harvard\") University using three search algorithms: A*, Best-first search, and BFS. For the purpose of this assignment, you will be walking through \"legal\" paths (and not the shortcuts we all take through grass :P). <br/>\n",
        "\n",
        "Please read through the below **starter code** (please read comments and use of the functions as these will be used later in your main function, or when you wish to test your implementations). <br/>\n",
        "\n",
        " We have also provided formulas for the different heuristic functions that need to be implemented and used.\n",
        "\n",
        "\n"
      ]
    },
    {
      "cell_type": "markdown",
      "metadata": {
        "id": "7uE7wJNAWOfT"
      },
      "source": [
        "### Import Libraries"
      ]
    },
    {
      "cell_type": "code",
      "execution_count": null,
      "metadata": {
        "id": "m3j7IV27Z6Xd"
      },
      "outputs": [],
      "source": [
        "%pip install osmnx\n",
        "import osmnx as ox\n",
        "from IPython.display import IFrame\n",
        "import networkx as nx\n",
        "import folium\n",
        "from IPython.display import display\n",
        "import matplotlib.pyplot as plt\n",
        "import numpy as np"
      ]
    },
    {
      "cell_type": "markdown",
      "metadata": {
        "id": "tnvBCx04WOfW"
      },
      "source": [
        "## Folium and osmnx: Interactive Geospatial Visualization and Analysis\n",
        "\n",
        "Let us first learn about the functionality of some libraries used in the starter code.\n",
        "## osmnx\n",
        "**osmnx** is a Python package that facilitates retrieving and visualizing data from OpenStreetMap.\n",
        "\n",
        "In this assignment, we are using osmnx to:\n",
        "\n",
        "- **Get Road Network Data**: Fetch road network data for LUMS from OpenStreetMap (OSM). This data includes information about roads, intersections, and other elements of the network.  <br/>\n",
        "\n",
        "- **Plot Road Networks**: Plot road networks directly onto Folium maps.\n",
        "\n",
        "## Folium\n",
        "**Folium** is a Python library that facilitates the creation of interactive maps directly from Python code. It's particularly useful for visualizing geographical data.\n",
        "\n",
        "In this assignment, we are using Folium to:\n",
        "\n",
        "- **Visualize Road Networks**: Plot road networks obtained from OpenStreetMap (OSM) onto an interactive map. You can see the layout of roads, intersections, and other features. <br/>\n",
        "\n",
        "- **Customize Markers**: Add markers to the map to highlight specific locations, such as nodes in the road network. These markers can display additional information when clicked, like node IDs or names. <br/>\n",
        "\n",
        "- **Display Shortest Paths**: Visualize shortest paths on the map. You can see the route between two points highlighted on the map, along with the nodes and edges that form the path. <br/>\n",
        "\n"
      ]
    },
    {
      "cell_type": "markdown",
      "metadata": {
        "id": "hAUkI_P4iIRr"
      },
      "source": [
        "### Road Network Data Retrieval\n",
        "\n",
        "Note that we have set network_type to \"walk\" so all paths that can be walked according the map's definitions will be used. You can try other setting like \"drive\" and see how the path you get in the visualizations changes to just include all the roads in LUMS."
      ]
    },
    {
      "cell_type": "code",
      "execution_count": null,
      "metadata": {
        "id": "lZ3avOceZ9QP"
      },
      "outputs": [],
      "source": [
        "# Get the road network data from OpenStreetMap\n",
        "def get_road_network(location, distance):\n",
        "    G = ox.graph_from_address(location, network_type='walk', dist=distance)\n",
        "    return G"
      ]
    },
    {
      "cell_type": "markdown",
      "metadata": {
        "id": "UazSsaFkiRrk"
      },
      "source": [
        "### Road Network Visualization Function"
      ]
    },
    {
      "cell_type": "code",
      "execution_count": null,
      "metadata": {
        "id": "OONWNN_OaEba"
      },
      "outputs": [],
      "source": [
        "# Function to visualize the road network using Folium\n",
        "def visualize_road_network(G, location, distance):\n",
        "    \"\"\"\n",
        "        G: Graph object representing the road network\n",
        "        location: location for which the road network is to be visualized\n",
        "        distance: distance (in meters) around the specified location to be visualized\n",
        "    \"\"\"\n",
        "    # Get the center (latitude and longitude) coordinates of the location\n",
        "    lat, lng = ox.geocode(location)\n",
        "\n",
        "    # Create a folium map centered at the location with an initial zoom level of 12\n",
        "    map_center = [lat, lng]\n",
        "    map_osm = folium.Map(location=map_center, zoom_start=12)\n",
        "\n",
        "    # Add the road network graph (represented by \"G\") to the folium map\n",
        "    # This overlays the road network onto the map, showing roads, intersections, and other features\n",
        "    ox.plot_graph_folium(G, graph_map=map_osm, popup_attribute='name', node_labels=True, edge_width=20)\n",
        "\n",
        "    # Add customized markers for nodes to view node IDs etc upon click\n",
        "    for node, data in G.nodes(data=True):\n",
        "        folium.Marker(location=[data['y'], data['x']], popup=f\"Node: {node}\").add_to(map_osm)\n",
        "\n",
        "    # Display the folium map inline\n",
        "    display(map_osm)"
      ]
    },
    {
      "cell_type": "markdown",
      "metadata": {
        "id": "jTn-Xvdcint7"
      },
      "source": [
        "### Shortest Path Visualization Function"
      ]
    },
    {
      "cell_type": "code",
      "execution_count": null,
      "metadata": {
        "id": "fuQLf7a-aNsm"
      },
      "outputs": [],
      "source": [
        "# Function to visualize the shortest path on the map\n",
        "def visualize_path_folium(G, shortest_path, location, source_node, target_nodes, distance):\n",
        "    \"\"\"\n",
        "        G: Graph object representing the road network\n",
        "        shortest_path:  A list of node IDs representing the shortest path between the source and target nodes\n",
        "        location: location around which the map is centered\n",
        "        source_node:  ID of the source node\n",
        "        target_nodes: list of ID(s) of target nodes\n",
        "        distance: distance (in meters) between the source and target nodes\n",
        "    \"\"\"\n",
        "\n",
        "    # Get the center (latitude and longitude) coordinates of the location\n",
        "    lat, lng = ox.geocode(location)\n",
        "\n",
        "    # Create a folium map centered at the location\n",
        "    map_center = [lat, lng]\n",
        "    map_osm = folium.Map(location=map_center, zoom_start=12)\n",
        "\n",
        "    # Add the road network graph to the folium map\n",
        "    ox.plot_graph_folium(G, graph_map=map_osm, node_labels=True, edge_width=20)\n",
        "\n",
        "    # Add markers for the source and destination nodes (source node is marked in green, destination node is marked in red)\n",
        "    folium.Marker(location=(G.nodes[source_node]['y'], G.nodes[source_node]['x']), icon=folium.Icon(color='green'), popup=f'Source<br>Distance: {distance:.2f} meters').add_to(map_osm)\n",
        "\n",
        "\n",
        "    for target_node in target_nodes:\n",
        "      folium.Marker(location=(G.nodes[target_node]['y'], G.nodes[target_node]['x']), icon=folium.Icon(color='red'), popup='Destination').add_to(map_osm)\n",
        "\n",
        "    gdf_nodes, gdf_edges = ox.graph_to_gdfs(G)\n",
        "\n",
        "    # Get the coordinates of the shortest path\n",
        "    shortest_path_coords = []\n",
        "    for i in range(len(shortest_path)-1):\n",
        "        edge = (shortest_path[i], shortest_path[i+1], 0)\n",
        "        edge_coords = gdf_edges.loc[edge]['geometry']\n",
        "        shortest_path_coords.extend([(point[1], point[0]) for point in edge_coords.coords])\n",
        "\n",
        "    # Add the shortest path to the map as a PolyLine\n",
        "    folium.PolyLine(locations=shortest_path_coords, color='blue', weight=5).add_to(map_osm)\n",
        "\n",
        "    # Display the folium map inline\n",
        "    display(map_osm)"
      ]
    },
    {
      "cell_type": "markdown",
      "metadata": {
        "id": "suiCN1__LE_R"
      },
      "source": [
        "## Heuristic Functions\n",
        "\n",
        "### Euclidean Distance\n",
        "Euclidean distance, also known as straight-line distance or L2 distance, measures the straight-line distance between two points in Euclidean space. It is calculated using the formula:\n",
        "\n",
        "$$\n",
        "\\text{Euclidean Distance} = \\sqrt{(x_2 - x_1)^2 + (y_2 - y_1)^2}\n",
        "$$\n",
        "where $$(x_1, y_1)$$ and $$(x_2, y_2)$$ are the coordinates of the two points.\n",
        "\n",
        "### Manhattan Distance\n",
        "Manhattan distance, also known as city block distance or L1 distance, measures the distance between two points in a grid-based system. It is calculated as the sum of the absolute differences of their coordinates:\n",
        "$$\n",
        "\\text{Manhattan Distance} = |x_2 - x_1| + |y_2 - y_1|\n",
        "$$\n",
        "\n",
        "### Haversine Distance\n",
        "Haversine distance is used to calculate the distance between two points on the surface of a sphere, such as the Earth, given their longitude and latitude. It is calculated using the Haversine formula:\n",
        " $$\n",
        "a = \\sin^2\\left(\\frac{\\Delta \\text{lat}}{2}\\right) + \\cos(\\text{lat}_1) \\cdot \\cos(\\text{lat}_2) \\cdot \\sin^2\\left(\\frac{\\Delta \\text{lon}}{2}\\right)\n",
        "$$\n",
        "\n",
        "$$\n",
        "c = 2 \\cdot \\text{atan2}\\left(\\sqrt{a}, \\sqrt{1-a}\\right)\n",
        "$$\n",
        "\n",
        "$$\n",
        "\\text{Haversine Distance} = R \\cdot c\n",
        "$$\n",
        "\n",
        "where `R = 6371.0` is the radius of the Earth, and $$\\Delta \\text{lat}$$ and $$\\Delta \\text{lon}$$ are the differences in latitude and longitude between the two points, respectively.\n"
      ]
    },
    {
      "cell_type": "markdown",
      "metadata": {
        "id": "g_gAv0rIYW4F"
      },
      "source": [
        "#### Helpful code you can use for calculating latitude and longitude, and node distances \n",
        "\n"
      ]
    },
    {
      "cell_type": "code",
      "execution_count": null,
      "metadata": {
        "id": "W6_nckmN9mNd"
      },
      "outputs": [],
      "source": [
        "loc = \"LUMS Lahore, Pakistan\"\n",
        "dist = 500\n",
        "\n",
        "G = get_road_network(loc, dist)\n",
        "\n",
        "# Print nodes information\n",
        "for node, data in G.nodes(data=True):\n",
        "    print(f\"Node {node}: Latitude - {data['y']}, Longitude - {data['x']}\")\n",
        "\n",
        "# Print edges information\n",
        "for u, v, data in G.edges(data=True):\n",
        "    print(f\"Edge ({u}, {v}): Length - {data['length']}\")"
      ]
    },
    {
      "cell_type": "markdown",
      "metadata": {
        "id": "7WMbHEbDZFoU"
      },
      "source": [
        "## Task 0: Implement Heuristics"
      ]
    },
    {
      "cell_type": "code",
      "execution_count": null,
      "metadata": {
        "id": "MKx0cAfeOVaB"
      },
      "outputs": [],
      "source": [
        "# Implement these. Feel free to modify function arguments for compatibility with your code if needed.\n",
        "def euclidean_heuristic(node1, node2):\n",
        "    '''\n",
        "    node1: The ID of the first node\n",
        "    node2: The ID of the second node\n",
        "\n",
        "    Returns the Euclidean distance between the two nodes\n",
        "    '''\n",
        "    pass\n",
        "\n",
        "def manhattan_heuristic(node1, node2):\n",
        "    '''\n",
        "    node1: The ID of the first node\n",
        "    node2: The ID of the second node\n",
        "\n",
        "    Returns the Manhattan distance between the two nodes\n",
        "    '''\n",
        "    pass\n",
        "\n",
        "def haversine_heuristic(node1, node2):\n",
        "    '''\n",
        "    node1: The ID of the first node\n",
        "    node2: The ID of the second node\n",
        "\n",
        "    Returns the Haversine distance between the two nodes\n",
        "    '''\n",
        "    pass"
      ]
    },
    {
      "cell_type": "markdown",
      "metadata": {
        "id": "Sg84kuMPWOfb"
      },
      "source": [
        "## Task 1A: A* Algorithm Implementation\n",
        "\n",
        "Implement the A* algorithm to find the shortest path between a source node and a target node. Feel free to make helper functions if you want.\n",
        "\n",
        "### Helpful Pointers\n",
        "- You may use a priority queue to store nodes to be explored. Additionally, you may initialize dictionaries to keep track of the path and cost to reach each node from the start node.\n",
        "\n",
        "- Once the goal node is reached, reconstruct the shortest path by backtracking through the dictionary, starting from the goal node and ending at the start node.\n",
        "\n",
        "- Remember to track & return the total distance for use with the visualization functions later\n",
        "\n"
      ]
    },
    {
      "cell_type": "code",
      "execution_count": null,
      "metadata": {
        "id": "PU0zhACbjq8s"
      },
      "outputs": [],
      "source": [
        "# Implement A* search algorithm\n",
        "def a_star(graph, start, goal, heuristic_func):\n",
        "    '''\n",
        "    graph: The graph object representing the road network.\n",
        "    start: The starting node ID.\n",
        "    goal: The destination node ID.\n",
        "    heuristic_func: The heuristic function to be used to calculate the cost.\n",
        "    '''\n",
        "    pass"
      ]
    },
    {
      "cell_type": "markdown",
      "metadata": {
        "id": "RA9Pi2YppQQG"
      },
      "source": [
        "## Task 2: Best-First Search Algorithm Implementation\n",
        "\n",
        "Implement the Best-First Search algorithm to find a path between a source node and target node. Feel free to make helper functions if you want.\n"
      ]
    },
    {
      "cell_type": "code",
      "execution_count": null,
      "metadata": {
        "id": "kbBeWLufnWSg"
      },
      "outputs": [],
      "source": [
        "# Implement Best-First Search algorithm\n",
        "def best_first_search(graph, start, goal, heuristic_func=euclidean_heuristic):\n",
        "    '''\n",
        "    graph: The graph object representing the road network.\n",
        "    start: The starting node ID.\n",
        "    goal: The destination node ID.\n",
        "    heuristic_func: Euclidean heuristic ONLY\n",
        "    '''\n",
        "    pass"
      ]
    },
    {
      "cell_type": "markdown",
      "metadata": {
        "id": "Dg-Og770pVKn"
      },
      "source": [
        "## Task 3: Informed Breadth-First Search Implementation\n",
        "In this task, you'll implement a twist on the vanilla Breadth-First Search (BFS) algorithm. BFS is a blind search algorithm, thus it explores all possibilities without considering the cost, but integrating heuristic information can make it better (thus an \"informed\" search algo). <br/>\n",
        "\n",
        "Use the Euclidean heuristic with BFS in the implementation below.\n",
        "\n",
        "\n",
        "\n",
        "\n"
      ]
    },
    {
      "cell_type": "code",
      "execution_count": null,
      "metadata": {
        "id": "JRcSs2VHlFb9"
      },
      "outputs": [],
      "source": [
        "# Implement informed Breadth-First Search algorithm\n",
        "def bfs(graph, start, goal, heuristic_func=euclidean_heuristic):\n",
        "   '''\n",
        "    graph: The graph object representing the road network.\n",
        "    start: The starting node ID.\n",
        "    goal: The destination node ID.\n",
        "    heuristic_func: Euclidean heuristic ONLY\n",
        "   '''\n",
        "   pass"
      ]
    },
    {
      "cell_type": "markdown",
      "metadata": {
        "id": "AIAg793hWOfd"
      },
      "source": [
        "# Running the visualisations\n",
        "Now it's time to find out the shortcuts in LUMS! Write a `main` function that will allow you to visualise the different algorithms using the starter functions provided at the beginning of the assignment.\n",
        "\n",
        "### Steps\n",
        "1. Build the initial graph network and visualise it once.\n",
        "\n",
        "3. Choose the source node as `810005319` (SSE) and target node as `11337034500` (SDSB). You can view these node values in the map by hovering too!\n",
        "\n",
        "4. Get the shortest route and visualise it for EACH algo you have implemented. For A star, use all three heuristics and visualise. Note that you will need to send your target node in a list to the `visualize_path_folium` function (check its arguments above).\n",
        "\n",
        "Note: You can change the source and target for fun too, however we only expect you to visualize the paths from the provided source (SSE) and target (SDSB) destinations."
      ]
    },
    {
      "cell_type": "code",
      "execution_count": null,
      "metadata": {
        "id": "gKz79e0cWOfe"
      },
      "outputs": [],
      "source": [
        "# code here\n",
        "location = \"LUMS Lahore, Pakistan\"\n",
        "distance = 500\n",
        "source = 810005319 # SSE\n",
        "destination = 11337034500 # SDSB\n",
        "\n",
        "# full map visualisation\n",
        "# a_star visualisation with euclidean\n",
        "# a_star visualisation with manhattan\n",
        "# a_star visualisation with haversine\n",
        "# best_first visualisation\n",
        "# informed bfs visualisation"
      ]
    },
    {
      "cell_type": "markdown",
      "metadata": {
        "id": "ESRjMu5NaRY2"
      },
      "source": [
        "# A-star Search using NetworkX\n",
        "\n",
        "This function utilizes the built-in A* algorithm provided by the NetworkX library to find the shortest path between two nodes in a graph. Use this along with the visualisation functions provided earlier to compare your a_star implementation if you want!!\n",
        "\n"
      ]
    },
    {
      "cell_type": "code",
      "execution_count": null,
      "metadata": {
        "id": "WlscUCuQaYjO"
      },
      "outputs": [],
      "source": [
        "def astar_networkx_path(G, source, target):\n",
        "  \"\"\"\n",
        "      G: Graph object representing the road network\n",
        "      source:  ID of the source node\n",
        "      target: ID of the target node\n",
        "  \"\"\"\n",
        "  return nx.astar_path(G, source=source, target=target, weight='length')"
      ]
    },
    {
      "cell_type": "markdown",
      "metadata": {
        "id": "krcZko7ZWgNe"
      },
      "source": [
        "## Task 4: Single Source And Multiple Destinations using A star\n"
      ]
    },
    {
      "cell_type": "markdown",
      "metadata": {
        "id": "MN48xXfxaiNr"
      },
      "source": [
        "Now use your code from a_star implementation and modify it to go to multiple destinations in the most optimal way. Use the euclidean heuristic. Then visualize the shortest route obtained by your implementation using the`visualize_path_folium` function."
      ]
    },
    {
      "cell_type": "code",
      "execution_count": null,
      "metadata": {
        "id": "prOoY0hmkiEM"
      },
      "outputs": [],
      "source": [
        "# code here\n",
        "def a_star_multiple(graph, start, goal, heuristic_func=euclidean_heuristic):\n",
        "  pass"
      ]
    },
    {
      "cell_type": "code",
      "execution_count": null,
      "metadata": {
        "id": "itJ8bIZnmLXl"
      },
      "outputs": [],
      "source": [
        "# code for visualisation\n",
        "source = 810005319 # SSE\n",
        "dest1 =  # Cricket Ground (hover on map and find node value)\n",
        "dest2 =  # Masjid hover on map and find node value)"
      ]
    },
    {
      "cell_type": "markdown",
      "metadata": {
        "id": "7ZXW5_viWOfe"
      },
      "source": [
        "# Analysis\n",
        "Identify the algortihm which provided you with the shortest path. Compare it with the other graphs and explain why it was the best.\n",
        "\n",
        "Answer here..."
      ]
    }
  ],
  "metadata": {
    "colab": {
      "provenance": []
    },
    "kernelspec": {
      "display_name": "Python 3",
      "name": "python3"
    },
    "language_info": {
      "name": "python"
    }
  },
  "nbformat": 4,
  "nbformat_minor": 0
}
